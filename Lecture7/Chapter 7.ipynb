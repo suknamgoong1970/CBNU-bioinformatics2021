{
 "cells": [
  {
   "cell_type": "markdown",
   "metadata": {},
   "source": [
    "# Chapter 7. Data Visualization Using Python\n",
    "\n",
    "파이썬에서 데이터를 시각화하는 방법에 대해서 알아보자. \n",
    "\n",
    "- 시각화를 위해서는 시각화 관련 모듈을 로딩해야 한다. \n",
    "- 사용할 모듈은 Seaborn 이라는 모듈 (https://seaborn.pydata.org) 이다. \n",
    "\n",
    "Seaborn 에서 수행 가능한 다양한 종류의 시각화의 예는 이 링크를 참조하자 \n",
    "https://seaborn.pydata.org/examples/index.html\n"
   ]
  },
  {
   "cell_type": "markdown",
   "metadata": {},
   "source": [
    "## 실험 데이터를 이용한 Boxplot 작성법 "
   ]
  },
  {
   "cell_type": "markdown",
   "metadata": {},
   "source": [
    "seaborn 모듈을 sns 라는 약자로 불러온다. \n"
   ]
  },
  {
   "cell_type": "code",
   "execution_count": 1,
   "metadata": {},
   "outputs": [
    {
     "data": {
      "text/html": [
       "<div>\n",
       "<style scoped>\n",
       "    .dataframe tbody tr th:only-of-type {\n",
       "        vertical-align: middle;\n",
       "    }\n",
       "\n",
       "    .dataframe tbody tr th {\n",
       "        vertical-align: top;\n",
       "    }\n",
       "\n",
       "    .dataframe thead th {\n",
       "        text-align: right;\n",
       "    }\n",
       "</style>\n",
       "<table border=\"1\" class=\"dataframe\">\n",
       "  <thead>\n",
       "    <tr style=\"text-align: right;\">\n",
       "      <th></th>\n",
       "      <th>Unnamed: 0</th>\n",
       "      <th>MI-Control</th>\n",
       "      <th>MI-RNAi</th>\n",
       "      <th>MI-Rescue</th>\n",
       "      <th>MII-Control</th>\n",
       "      <th>MII-RNAi</th>\n",
       "      <th>MII-Rescue</th>\n",
       "    </tr>\n",
       "  </thead>\n",
       "  <tbody>\n",
       "    <tr>\n",
       "      <th>0</th>\n",
       "      <td>0</td>\n",
       "      <td>115.903573</td>\n",
       "      <td>38.415544</td>\n",
       "      <td>72.130314</td>\n",
       "      <td>83.363723</td>\n",
       "      <td>47.993328</td>\n",
       "      <td>72.287388</td>\n",
       "    </tr>\n",
       "    <tr>\n",
       "      <th>1</th>\n",
       "      <td>1</td>\n",
       "      <td>126.236345</td>\n",
       "      <td>65.777312</td>\n",
       "      <td>52.558250</td>\n",
       "      <td>90.655391</td>\n",
       "      <td>54.178471</td>\n",
       "      <td>64.361410</td>\n",
       "    </tr>\n",
       "    <tr>\n",
       "      <th>2</th>\n",
       "      <td>2</td>\n",
       "      <td>131.576317</td>\n",
       "      <td>38.465706</td>\n",
       "      <td>122.824657</td>\n",
       "      <td>87.380576</td>\n",
       "      <td>55.975686</td>\n",
       "      <td>55.227195</td>\n",
       "    </tr>\n",
       "    <tr>\n",
       "      <th>3</th>\n",
       "      <td>3</td>\n",
       "      <td>117.721156</td>\n",
       "      <td>37.074075</td>\n",
       "      <td>117.793223</td>\n",
       "      <td>79.322413</td>\n",
       "      <td>50.968077</td>\n",
       "      <td>62.595770</td>\n",
       "    </tr>\n",
       "    <tr>\n",
       "      <th>4</th>\n",
       "      <td>4</td>\n",
       "      <td>119.965972</td>\n",
       "      <td>63.443569</td>\n",
       "      <td>76.173226</td>\n",
       "      <td>102.184970</td>\n",
       "      <td>51.540825</td>\n",
       "      <td>56.121697</td>\n",
       "    </tr>\n",
       "    <tr>\n",
       "      <th>5</th>\n",
       "      <td>5</td>\n",
       "      <td>150.045320</td>\n",
       "      <td>40.850961</td>\n",
       "      <td>77.420474</td>\n",
       "      <td>77.859555</td>\n",
       "      <td>54.090038</td>\n",
       "      <td>122.730129</td>\n",
       "    </tr>\n",
       "    <tr>\n",
       "      <th>6</th>\n",
       "      <td>6</td>\n",
       "      <td>126.878243</td>\n",
       "      <td>35.028804</td>\n",
       "      <td>99.141456</td>\n",
       "      <td>75.913773</td>\n",
       "      <td>39.869128</td>\n",
       "      <td>128.268704</td>\n",
       "    </tr>\n",
       "    <tr>\n",
       "      <th>7</th>\n",
       "      <td>7</td>\n",
       "      <td>87.152298</td>\n",
       "      <td>35.907767</td>\n",
       "      <td>80.557172</td>\n",
       "      <td>65.535237</td>\n",
       "      <td>43.300153</td>\n",
       "      <td>66.228501</td>\n",
       "    </tr>\n",
       "    <tr>\n",
       "      <th>8</th>\n",
       "      <td>8</td>\n",
       "      <td>90.176818</td>\n",
       "      <td>34.086915</td>\n",
       "      <td>122.165746</td>\n",
       "      <td>55.749044</td>\n",
       "      <td>40.814665</td>\n",
       "      <td>127.066796</td>\n",
       "    </tr>\n",
       "    <tr>\n",
       "      <th>9</th>\n",
       "      <td>9</td>\n",
       "      <td>115.977250</td>\n",
       "      <td>27.842532</td>\n",
       "      <td>129.666567</td>\n",
       "      <td>55.855886</td>\n",
       "      <td>47.730282</td>\n",
       "      <td>51.503258</td>\n",
       "    </tr>\n",
       "    <tr>\n",
       "      <th>10</th>\n",
       "      <td>10</td>\n",
       "      <td>127.591808</td>\n",
       "      <td>38.123141</td>\n",
       "      <td>58.937222</td>\n",
       "      <td>45.375902</td>\n",
       "      <td>59.570864</td>\n",
       "      <td>81.713055</td>\n",
       "    </tr>\n",
       "    <tr>\n",
       "      <th>11</th>\n",
       "      <td>11</td>\n",
       "      <td>104.922355</td>\n",
       "      <td>29.468788</td>\n",
       "      <td>76.390186</td>\n",
       "      <td>102.252215</td>\n",
       "      <td>51.088987</td>\n",
       "      <td>38.472250</td>\n",
       "    </tr>\n",
       "    <tr>\n",
       "      <th>12</th>\n",
       "      <td>12</td>\n",
       "      <td>NaN</td>\n",
       "      <td>40.692691</td>\n",
       "      <td>97.150272</td>\n",
       "      <td>83.799984</td>\n",
       "      <td>38.496340</td>\n",
       "      <td>83.009689</td>\n",
       "    </tr>\n",
       "    <tr>\n",
       "      <th>13</th>\n",
       "      <td>13</td>\n",
       "      <td>NaN</td>\n",
       "      <td>42.912651</td>\n",
       "      <td>77.255817</td>\n",
       "      <td>121.664884</td>\n",
       "      <td>38.434432</td>\n",
       "      <td>57.735090</td>\n",
       "    </tr>\n",
       "    <tr>\n",
       "      <th>14</th>\n",
       "      <td>14</td>\n",
       "      <td>NaN</td>\n",
       "      <td>31.307860</td>\n",
       "      <td>85.664680</td>\n",
       "      <td>NaN</td>\n",
       "      <td>42.815847</td>\n",
       "      <td>70.715919</td>\n",
       "    </tr>\n",
       "    <tr>\n",
       "      <th>15</th>\n",
       "      <td>15</td>\n",
       "      <td>NaN</td>\n",
       "      <td>27.623896</td>\n",
       "      <td>159.636659</td>\n",
       "      <td>NaN</td>\n",
       "      <td>42.942665</td>\n",
       "      <td>87.750427</td>\n",
       "    </tr>\n",
       "    <tr>\n",
       "      <th>16</th>\n",
       "      <td>16</td>\n",
       "      <td>NaN</td>\n",
       "      <td>88.917518</td>\n",
       "      <td>67.397473</td>\n",
       "      <td>NaN</td>\n",
       "      <td>13.123865</td>\n",
       "      <td>56.980476</td>\n",
       "    </tr>\n",
       "    <tr>\n",
       "      <th>17</th>\n",
       "      <td>17</td>\n",
       "      <td>NaN</td>\n",
       "      <td>78.765056</td>\n",
       "      <td>120.980852</td>\n",
       "      <td>NaN</td>\n",
       "      <td>36.359462</td>\n",
       "      <td>NaN</td>\n",
       "    </tr>\n",
       "    <tr>\n",
       "      <th>18</th>\n",
       "      <td>18</td>\n",
       "      <td>NaN</td>\n",
       "      <td>61.464390</td>\n",
       "      <td>55.334595</td>\n",
       "      <td>NaN</td>\n",
       "      <td>39.460962</td>\n",
       "      <td>NaN</td>\n",
       "    </tr>\n",
       "    <tr>\n",
       "      <th>19</th>\n",
       "      <td>19</td>\n",
       "      <td>NaN</td>\n",
       "      <td>32.552196</td>\n",
       "      <td>NaN</td>\n",
       "      <td>NaN</td>\n",
       "      <td>30.898711</td>\n",
       "      <td>NaN</td>\n",
       "    </tr>\n",
       "    <tr>\n",
       "      <th>20</th>\n",
       "      <td>20</td>\n",
       "      <td>NaN</td>\n",
       "      <td>63.283078</td>\n",
       "      <td>NaN</td>\n",
       "      <td>NaN</td>\n",
       "      <td>29.677376</td>\n",
       "      <td>NaN</td>\n",
       "    </tr>\n",
       "    <tr>\n",
       "      <th>21</th>\n",
       "      <td>21</td>\n",
       "      <td>NaN</td>\n",
       "      <td>54.205053</td>\n",
       "      <td>NaN</td>\n",
       "      <td>NaN</td>\n",
       "      <td>50.587959</td>\n",
       "      <td>NaN</td>\n",
       "    </tr>\n",
       "    <tr>\n",
       "      <th>22</th>\n",
       "      <td>22</td>\n",
       "      <td>NaN</td>\n",
       "      <td>54.870835</td>\n",
       "      <td>NaN</td>\n",
       "      <td>NaN</td>\n",
       "      <td>36.625577</td>\n",
       "      <td>NaN</td>\n",
       "    </tr>\n",
       "    <tr>\n",
       "      <th>23</th>\n",
       "      <td>23</td>\n",
       "      <td>NaN</td>\n",
       "      <td>42.526699</td>\n",
       "      <td>NaN</td>\n",
       "      <td>NaN</td>\n",
       "      <td>26.999944</td>\n",
       "      <td>NaN</td>\n",
       "    </tr>\n",
       "    <tr>\n",
       "      <th>24</th>\n",
       "      <td>24</td>\n",
       "      <td>NaN</td>\n",
       "      <td>46.220785</td>\n",
       "      <td>NaN</td>\n",
       "      <td>NaN</td>\n",
       "      <td>29.225171</td>\n",
       "      <td>NaN</td>\n",
       "    </tr>\n",
       "    <tr>\n",
       "      <th>25</th>\n",
       "      <td>25</td>\n",
       "      <td>NaN</td>\n",
       "      <td>NaN</td>\n",
       "      <td>NaN</td>\n",
       "      <td>NaN</td>\n",
       "      <td>25.204492</td>\n",
       "      <td>NaN</td>\n",
       "    </tr>\n",
       "    <tr>\n",
       "      <th>26</th>\n",
       "      <td>26</td>\n",
       "      <td>NaN</td>\n",
       "      <td>NaN</td>\n",
       "      <td>NaN</td>\n",
       "      <td>NaN</td>\n",
       "      <td>25.078366</td>\n",
       "      <td>NaN</td>\n",
       "    </tr>\n",
       "    <tr>\n",
       "      <th>27</th>\n",
       "      <td>27</td>\n",
       "      <td>NaN</td>\n",
       "      <td>NaN</td>\n",
       "      <td>NaN</td>\n",
       "      <td>NaN</td>\n",
       "      <td>31.336875</td>\n",
       "      <td>NaN</td>\n",
       "    </tr>\n",
       "    <tr>\n",
       "      <th>28</th>\n",
       "      <td>28</td>\n",
       "      <td>NaN</td>\n",
       "      <td>NaN</td>\n",
       "      <td>NaN</td>\n",
       "      <td>NaN</td>\n",
       "      <td>27.159607</td>\n",
       "      <td>NaN</td>\n",
       "    </tr>\n",
       "    <tr>\n",
       "      <th>29</th>\n",
       "      <td>29</td>\n",
       "      <td>NaN</td>\n",
       "      <td>NaN</td>\n",
       "      <td>NaN</td>\n",
       "      <td>NaN</td>\n",
       "      <td>28.885538</td>\n",
       "      <td>NaN</td>\n",
       "    </tr>\n",
       "    <tr>\n",
       "      <th>30</th>\n",
       "      <td>30</td>\n",
       "      <td>NaN</td>\n",
       "      <td>NaN</td>\n",
       "      <td>NaN</td>\n",
       "      <td>NaN</td>\n",
       "      <td>27.994531</td>\n",
       "      <td>NaN</td>\n",
       "    </tr>\n",
       "    <tr>\n",
       "      <th>31</th>\n",
       "      <td>31</td>\n",
       "      <td>NaN</td>\n",
       "      <td>NaN</td>\n",
       "      <td>NaN</td>\n",
       "      <td>NaN</td>\n",
       "      <td>24.124318</td>\n",
       "      <td>NaN</td>\n",
       "    </tr>\n",
       "    <tr>\n",
       "      <th>32</th>\n",
       "      <td>32</td>\n",
       "      <td>NaN</td>\n",
       "      <td>NaN</td>\n",
       "      <td>NaN</td>\n",
       "      <td>NaN</td>\n",
       "      <td>22.728893</td>\n",
       "      <td>NaN</td>\n",
       "    </tr>\n",
       "    <tr>\n",
       "      <th>33</th>\n",
       "      <td>33</td>\n",
       "      <td>NaN</td>\n",
       "      <td>NaN</td>\n",
       "      <td>NaN</td>\n",
       "      <td>NaN</td>\n",
       "      <td>20.692116</td>\n",
       "      <td>NaN</td>\n",
       "    </tr>\n",
       "  </tbody>\n",
       "</table>\n",
       "</div>"
      ],
      "text/plain": [
       "    Unnamed: 0  MI-Control    MI-RNAi   MI-Rescue  MII-Control   MII-RNAi  \\\n",
       "0            0  115.903573  38.415544   72.130314    83.363723  47.993328   \n",
       "1            1  126.236345  65.777312   52.558250    90.655391  54.178471   \n",
       "2            2  131.576317  38.465706  122.824657    87.380576  55.975686   \n",
       "3            3  117.721156  37.074075  117.793223    79.322413  50.968077   \n",
       "4            4  119.965972  63.443569   76.173226   102.184970  51.540825   \n",
       "5            5  150.045320  40.850961   77.420474    77.859555  54.090038   \n",
       "6            6  126.878243  35.028804   99.141456    75.913773  39.869128   \n",
       "7            7   87.152298  35.907767   80.557172    65.535237  43.300153   \n",
       "8            8   90.176818  34.086915  122.165746    55.749044  40.814665   \n",
       "9            9  115.977250  27.842532  129.666567    55.855886  47.730282   \n",
       "10          10  127.591808  38.123141   58.937222    45.375902  59.570864   \n",
       "11          11  104.922355  29.468788   76.390186   102.252215  51.088987   \n",
       "12          12         NaN  40.692691   97.150272    83.799984  38.496340   \n",
       "13          13         NaN  42.912651   77.255817   121.664884  38.434432   \n",
       "14          14         NaN  31.307860   85.664680          NaN  42.815847   \n",
       "15          15         NaN  27.623896  159.636659          NaN  42.942665   \n",
       "16          16         NaN  88.917518   67.397473          NaN  13.123865   \n",
       "17          17         NaN  78.765056  120.980852          NaN  36.359462   \n",
       "18          18         NaN  61.464390   55.334595          NaN  39.460962   \n",
       "19          19         NaN  32.552196         NaN          NaN  30.898711   \n",
       "20          20         NaN  63.283078         NaN          NaN  29.677376   \n",
       "21          21         NaN  54.205053         NaN          NaN  50.587959   \n",
       "22          22         NaN  54.870835         NaN          NaN  36.625577   \n",
       "23          23         NaN  42.526699         NaN          NaN  26.999944   \n",
       "24          24         NaN  46.220785         NaN          NaN  29.225171   \n",
       "25          25         NaN        NaN         NaN          NaN  25.204492   \n",
       "26          26         NaN        NaN         NaN          NaN  25.078366   \n",
       "27          27         NaN        NaN         NaN          NaN  31.336875   \n",
       "28          28         NaN        NaN         NaN          NaN  27.159607   \n",
       "29          29         NaN        NaN         NaN          NaN  28.885538   \n",
       "30          30         NaN        NaN         NaN          NaN  27.994531   \n",
       "31          31         NaN        NaN         NaN          NaN  24.124318   \n",
       "32          32         NaN        NaN         NaN          NaN  22.728893   \n",
       "33          33         NaN        NaN         NaN          NaN  20.692116   \n",
       "\n",
       "    MII-Rescue  \n",
       "0    72.287388  \n",
       "1    64.361410  \n",
       "2    55.227195  \n",
       "3    62.595770  \n",
       "4    56.121697  \n",
       "5   122.730129  \n",
       "6   128.268704  \n",
       "7    66.228501  \n",
       "8   127.066796  \n",
       "9    51.503258  \n",
       "10   81.713055  \n",
       "11   38.472250  \n",
       "12   83.009689  \n",
       "13   57.735090  \n",
       "14   70.715919  \n",
       "15   87.750427  \n",
       "16   56.980476  \n",
       "17         NaN  \n",
       "18         NaN  \n",
       "19         NaN  \n",
       "20         NaN  \n",
       "21         NaN  \n",
       "22         NaN  \n",
       "23         NaN  \n",
       "24         NaN  \n",
       "25         NaN  \n",
       "26         NaN  \n",
       "27         NaN  \n",
       "28         NaN  \n",
       "29         NaN  \n",
       "30         NaN  \n",
       "31         NaN  \n",
       "32         NaN  \n",
       "33         NaN  "
      ]
     },
     "execution_count": 1,
     "metadata": {},
     "output_type": "execute_result"
    }
   ],
   "source": [
    "import seaborn as sns\n",
    "import pandas as pd\n",
    "\n",
    "#예제 (Github에 있음) 엑셀 파일을 pandas로 읽어보자. \n",
    "\n",
    "kd=pd.read_excel('knockdown.xlsx')\n",
    "kd"
   ]
  },
  {
   "cell_type": "markdown",
   "metadata": {},
   "source": [
    "위의 데이터는 Control과 어떤 유전자를 RNAi 로 knockdown 시킨 것, 그리고 이것을 Rescue 한 3가지 처리의 샘플을  \n",
    "두가지 발생 단계(MI, MII)에서 단백질의 발현을 형광현미경으로 측정한 결과이다. \n",
    "\n",
    "컬럼의 데이터는 다른 세포에서의 반복 측정이다. \n",
    "이 데이터를 이용하여 다음 논문의 Fig. 3B와 같은 플롯을 그려보자. \n",
    " \n",
    "https://jcs.biologists.org/content/joces/128/1/160.full.pdf\n",
    "\n",
    "각 처리군의 반복 횟수는 동일하지 않고, 이를 DataFrame에 불러오면 공백은 NaN 이라고 표시된다.   \n",
    "이를 시각화하기 위해서는 일단 데이터를 정리할 필요가 있다. "
   ]
  },
  {
   "cell_type": "markdown",
   "metadata": {},
   "source": [
    "불필요한 행을 줄인다. "
   ]
  },
  {
   "cell_type": "code",
   "execution_count": 2,
   "metadata": {},
   "outputs": [
    {
     "data": {
      "text/html": [
       "<div>\n",
       "<style scoped>\n",
       "    .dataframe tbody tr th:only-of-type {\n",
       "        vertical-align: middle;\n",
       "    }\n",
       "\n",
       "    .dataframe tbody tr th {\n",
       "        vertical-align: top;\n",
       "    }\n",
       "\n",
       "    .dataframe thead th {\n",
       "        text-align: right;\n",
       "    }\n",
       "</style>\n",
       "<table border=\"1\" class=\"dataframe\">\n",
       "  <thead>\n",
       "    <tr style=\"text-align: right;\">\n",
       "      <th></th>\n",
       "      <th>MI-Control</th>\n",
       "      <th>MI-RNAi</th>\n",
       "      <th>MI-Rescue</th>\n",
       "      <th>MII-Control</th>\n",
       "      <th>MII-RNAi</th>\n",
       "      <th>MII-Rescue</th>\n",
       "    </tr>\n",
       "  </thead>\n",
       "  <tbody>\n",
       "    <tr>\n",
       "      <th>0</th>\n",
       "      <td>115.903573</td>\n",
       "      <td>38.415544</td>\n",
       "      <td>72.130314</td>\n",
       "      <td>83.363723</td>\n",
       "      <td>47.993328</td>\n",
       "      <td>72.287388</td>\n",
       "    </tr>\n",
       "    <tr>\n",
       "      <th>1</th>\n",
       "      <td>126.236345</td>\n",
       "      <td>65.777312</td>\n",
       "      <td>52.558250</td>\n",
       "      <td>90.655391</td>\n",
       "      <td>54.178471</td>\n",
       "      <td>64.361410</td>\n",
       "    </tr>\n",
       "    <tr>\n",
       "      <th>2</th>\n",
       "      <td>131.576317</td>\n",
       "      <td>38.465706</td>\n",
       "      <td>122.824657</td>\n",
       "      <td>87.380576</td>\n",
       "      <td>55.975686</td>\n",
       "      <td>55.227195</td>\n",
       "    </tr>\n",
       "    <tr>\n",
       "      <th>3</th>\n",
       "      <td>117.721156</td>\n",
       "      <td>37.074075</td>\n",
       "      <td>117.793223</td>\n",
       "      <td>79.322413</td>\n",
       "      <td>50.968077</td>\n",
       "      <td>62.595770</td>\n",
       "    </tr>\n",
       "    <tr>\n",
       "      <th>4</th>\n",
       "      <td>119.965972</td>\n",
       "      <td>63.443569</td>\n",
       "      <td>76.173226</td>\n",
       "      <td>102.184970</td>\n",
       "      <td>51.540825</td>\n",
       "      <td>56.121697</td>\n",
       "    </tr>\n",
       "    <tr>\n",
       "      <th>5</th>\n",
       "      <td>150.045320</td>\n",
       "      <td>40.850961</td>\n",
       "      <td>77.420474</td>\n",
       "      <td>77.859555</td>\n",
       "      <td>54.090038</td>\n",
       "      <td>122.730129</td>\n",
       "    </tr>\n",
       "    <tr>\n",
       "      <th>6</th>\n",
       "      <td>126.878243</td>\n",
       "      <td>35.028804</td>\n",
       "      <td>99.141456</td>\n",
       "      <td>75.913773</td>\n",
       "      <td>39.869128</td>\n",
       "      <td>128.268704</td>\n",
       "    </tr>\n",
       "    <tr>\n",
       "      <th>7</th>\n",
       "      <td>87.152298</td>\n",
       "      <td>35.907767</td>\n",
       "      <td>80.557172</td>\n",
       "      <td>65.535237</td>\n",
       "      <td>43.300153</td>\n",
       "      <td>66.228501</td>\n",
       "    </tr>\n",
       "    <tr>\n",
       "      <th>8</th>\n",
       "      <td>90.176818</td>\n",
       "      <td>34.086915</td>\n",
       "      <td>122.165746</td>\n",
       "      <td>55.749044</td>\n",
       "      <td>40.814665</td>\n",
       "      <td>127.066796</td>\n",
       "    </tr>\n",
       "    <tr>\n",
       "      <th>9</th>\n",
       "      <td>115.977250</td>\n",
       "      <td>27.842532</td>\n",
       "      <td>129.666567</td>\n",
       "      <td>55.855886</td>\n",
       "      <td>47.730282</td>\n",
       "      <td>51.503258</td>\n",
       "    </tr>\n",
       "    <tr>\n",
       "      <th>10</th>\n",
       "      <td>127.591808</td>\n",
       "      <td>38.123141</td>\n",
       "      <td>58.937222</td>\n",
       "      <td>45.375902</td>\n",
       "      <td>59.570864</td>\n",
       "      <td>81.713055</td>\n",
       "    </tr>\n",
       "    <tr>\n",
       "      <th>11</th>\n",
       "      <td>104.922355</td>\n",
       "      <td>29.468788</td>\n",
       "      <td>76.390186</td>\n",
       "      <td>102.252215</td>\n",
       "      <td>51.088987</td>\n",
       "      <td>38.472250</td>\n",
       "    </tr>\n",
       "    <tr>\n",
       "      <th>12</th>\n",
       "      <td>NaN</td>\n",
       "      <td>40.692691</td>\n",
       "      <td>97.150272</td>\n",
       "      <td>83.799984</td>\n",
       "      <td>38.496340</td>\n",
       "      <td>83.009689</td>\n",
       "    </tr>\n",
       "    <tr>\n",
       "      <th>13</th>\n",
       "      <td>NaN</td>\n",
       "      <td>42.912651</td>\n",
       "      <td>77.255817</td>\n",
       "      <td>121.664884</td>\n",
       "      <td>38.434432</td>\n",
       "      <td>57.735090</td>\n",
       "    </tr>\n",
       "    <tr>\n",
       "      <th>14</th>\n",
       "      <td>NaN</td>\n",
       "      <td>31.307860</td>\n",
       "      <td>85.664680</td>\n",
       "      <td>NaN</td>\n",
       "      <td>42.815847</td>\n",
       "      <td>70.715919</td>\n",
       "    </tr>\n",
       "    <tr>\n",
       "      <th>15</th>\n",
       "      <td>NaN</td>\n",
       "      <td>27.623896</td>\n",
       "      <td>159.636659</td>\n",
       "      <td>NaN</td>\n",
       "      <td>42.942665</td>\n",
       "      <td>87.750427</td>\n",
       "    </tr>\n",
       "    <tr>\n",
       "      <th>16</th>\n",
       "      <td>NaN</td>\n",
       "      <td>88.917518</td>\n",
       "      <td>67.397473</td>\n",
       "      <td>NaN</td>\n",
       "      <td>13.123865</td>\n",
       "      <td>56.980476</td>\n",
       "    </tr>\n",
       "    <tr>\n",
       "      <th>17</th>\n",
       "      <td>NaN</td>\n",
       "      <td>78.765056</td>\n",
       "      <td>120.980852</td>\n",
       "      <td>NaN</td>\n",
       "      <td>36.359462</td>\n",
       "      <td>NaN</td>\n",
       "    </tr>\n",
       "    <tr>\n",
       "      <th>18</th>\n",
       "      <td>NaN</td>\n",
       "      <td>61.464390</td>\n",
       "      <td>55.334595</td>\n",
       "      <td>NaN</td>\n",
       "      <td>39.460962</td>\n",
       "      <td>NaN</td>\n",
       "    </tr>\n",
       "    <tr>\n",
       "      <th>19</th>\n",
       "      <td>NaN</td>\n",
       "      <td>32.552196</td>\n",
       "      <td>NaN</td>\n",
       "      <td>NaN</td>\n",
       "      <td>30.898711</td>\n",
       "      <td>NaN</td>\n",
       "    </tr>\n",
       "    <tr>\n",
       "      <th>20</th>\n",
       "      <td>NaN</td>\n",
       "      <td>63.283078</td>\n",
       "      <td>NaN</td>\n",
       "      <td>NaN</td>\n",
       "      <td>29.677376</td>\n",
       "      <td>NaN</td>\n",
       "    </tr>\n",
       "    <tr>\n",
       "      <th>21</th>\n",
       "      <td>NaN</td>\n",
       "      <td>54.205053</td>\n",
       "      <td>NaN</td>\n",
       "      <td>NaN</td>\n",
       "      <td>50.587959</td>\n",
       "      <td>NaN</td>\n",
       "    </tr>\n",
       "    <tr>\n",
       "      <th>22</th>\n",
       "      <td>NaN</td>\n",
       "      <td>54.870835</td>\n",
       "      <td>NaN</td>\n",
       "      <td>NaN</td>\n",
       "      <td>36.625577</td>\n",
       "      <td>NaN</td>\n",
       "    </tr>\n",
       "    <tr>\n",
       "      <th>23</th>\n",
       "      <td>NaN</td>\n",
       "      <td>42.526699</td>\n",
       "      <td>NaN</td>\n",
       "      <td>NaN</td>\n",
       "      <td>26.999944</td>\n",
       "      <td>NaN</td>\n",
       "    </tr>\n",
       "    <tr>\n",
       "      <th>24</th>\n",
       "      <td>NaN</td>\n",
       "      <td>46.220785</td>\n",
       "      <td>NaN</td>\n",
       "      <td>NaN</td>\n",
       "      <td>29.225171</td>\n",
       "      <td>NaN</td>\n",
       "    </tr>\n",
       "    <tr>\n",
       "      <th>25</th>\n",
       "      <td>NaN</td>\n",
       "      <td>NaN</td>\n",
       "      <td>NaN</td>\n",
       "      <td>NaN</td>\n",
       "      <td>25.204492</td>\n",
       "      <td>NaN</td>\n",
       "    </tr>\n",
       "    <tr>\n",
       "      <th>26</th>\n",
       "      <td>NaN</td>\n",
       "      <td>NaN</td>\n",
       "      <td>NaN</td>\n",
       "      <td>NaN</td>\n",
       "      <td>25.078366</td>\n",
       "      <td>NaN</td>\n",
       "    </tr>\n",
       "    <tr>\n",
       "      <th>27</th>\n",
       "      <td>NaN</td>\n",
       "      <td>NaN</td>\n",
       "      <td>NaN</td>\n",
       "      <td>NaN</td>\n",
       "      <td>31.336875</td>\n",
       "      <td>NaN</td>\n",
       "    </tr>\n",
       "    <tr>\n",
       "      <th>28</th>\n",
       "      <td>NaN</td>\n",
       "      <td>NaN</td>\n",
       "      <td>NaN</td>\n",
       "      <td>NaN</td>\n",
       "      <td>27.159607</td>\n",
       "      <td>NaN</td>\n",
       "    </tr>\n",
       "    <tr>\n",
       "      <th>29</th>\n",
       "      <td>NaN</td>\n",
       "      <td>NaN</td>\n",
       "      <td>NaN</td>\n",
       "      <td>NaN</td>\n",
       "      <td>28.885538</td>\n",
       "      <td>NaN</td>\n",
       "    </tr>\n",
       "    <tr>\n",
       "      <th>30</th>\n",
       "      <td>NaN</td>\n",
       "      <td>NaN</td>\n",
       "      <td>NaN</td>\n",
       "      <td>NaN</td>\n",
       "      <td>27.994531</td>\n",
       "      <td>NaN</td>\n",
       "    </tr>\n",
       "    <tr>\n",
       "      <th>31</th>\n",
       "      <td>NaN</td>\n",
       "      <td>NaN</td>\n",
       "      <td>NaN</td>\n",
       "      <td>NaN</td>\n",
       "      <td>24.124318</td>\n",
       "      <td>NaN</td>\n",
       "    </tr>\n",
       "    <tr>\n",
       "      <th>32</th>\n",
       "      <td>NaN</td>\n",
       "      <td>NaN</td>\n",
       "      <td>NaN</td>\n",
       "      <td>NaN</td>\n",
       "      <td>22.728893</td>\n",
       "      <td>NaN</td>\n",
       "    </tr>\n",
       "    <tr>\n",
       "      <th>33</th>\n",
       "      <td>NaN</td>\n",
       "      <td>NaN</td>\n",
       "      <td>NaN</td>\n",
       "      <td>NaN</td>\n",
       "      <td>20.692116</td>\n",
       "      <td>NaN</td>\n",
       "    </tr>\n",
       "  </tbody>\n",
       "</table>\n",
       "</div>"
      ],
      "text/plain": [
       "    MI-Control    MI-RNAi   MI-Rescue  MII-Control   MII-RNAi  MII-Rescue\n",
       "0   115.903573  38.415544   72.130314    83.363723  47.993328   72.287388\n",
       "1   126.236345  65.777312   52.558250    90.655391  54.178471   64.361410\n",
       "2   131.576317  38.465706  122.824657    87.380576  55.975686   55.227195\n",
       "3   117.721156  37.074075  117.793223    79.322413  50.968077   62.595770\n",
       "4   119.965972  63.443569   76.173226   102.184970  51.540825   56.121697\n",
       "5   150.045320  40.850961   77.420474    77.859555  54.090038  122.730129\n",
       "6   126.878243  35.028804   99.141456    75.913773  39.869128  128.268704\n",
       "7    87.152298  35.907767   80.557172    65.535237  43.300153   66.228501\n",
       "8    90.176818  34.086915  122.165746    55.749044  40.814665  127.066796\n",
       "9   115.977250  27.842532  129.666567    55.855886  47.730282   51.503258\n",
       "10  127.591808  38.123141   58.937222    45.375902  59.570864   81.713055\n",
       "11  104.922355  29.468788   76.390186   102.252215  51.088987   38.472250\n",
       "12         NaN  40.692691   97.150272    83.799984  38.496340   83.009689\n",
       "13         NaN  42.912651   77.255817   121.664884  38.434432   57.735090\n",
       "14         NaN  31.307860   85.664680          NaN  42.815847   70.715919\n",
       "15         NaN  27.623896  159.636659          NaN  42.942665   87.750427\n",
       "16         NaN  88.917518   67.397473          NaN  13.123865   56.980476\n",
       "17         NaN  78.765056  120.980852          NaN  36.359462         NaN\n",
       "18         NaN  61.464390   55.334595          NaN  39.460962         NaN\n",
       "19         NaN  32.552196         NaN          NaN  30.898711         NaN\n",
       "20         NaN  63.283078         NaN          NaN  29.677376         NaN\n",
       "21         NaN  54.205053         NaN          NaN  50.587959         NaN\n",
       "22         NaN  54.870835         NaN          NaN  36.625577         NaN\n",
       "23         NaN  42.526699         NaN          NaN  26.999944         NaN\n",
       "24         NaN  46.220785         NaN          NaN  29.225171         NaN\n",
       "25         NaN        NaN         NaN          NaN  25.204492         NaN\n",
       "26         NaN        NaN         NaN          NaN  25.078366         NaN\n",
       "27         NaN        NaN         NaN          NaN  31.336875         NaN\n",
       "28         NaN        NaN         NaN          NaN  27.159607         NaN\n",
       "29         NaN        NaN         NaN          NaN  28.885538         NaN\n",
       "30         NaN        NaN         NaN          NaN  27.994531         NaN\n",
       "31         NaN        NaN         NaN          NaN  24.124318         NaN\n",
       "32         NaN        NaN         NaN          NaN  22.728893         NaN\n",
       "33         NaN        NaN         NaN          NaN  20.692116         NaN"
      ]
     },
     "execution_count": 2,
     "metadata": {},
     "output_type": "execute_result"
    }
   ],
   "source": [
    "kd = kd.drop(columns='Unnamed: 0')\n",
    "kd"
   ]
  },
  {
   "cell_type": "markdown",
   "metadata": {},
   "source": [
    "포맷을 바꾼다.   \n",
    "각 컬럼에 처리군 별 데이터를 담는 것이 아니라, 한 행으로 통일하고, 대신 'treatment' 로 처리의 종류를 구분하도록 한다.   \n",
    "dropna() 로 NaN 을 제거한다.   "
   ]
  },
  {
   "cell_type": "code",
   "execution_count": 4,
   "metadata": {},
   "outputs": [
    {
     "data": {
      "text/html": [
       "<div>\n",
       "<style scoped>\n",
       "    .dataframe tbody tr th:only-of-type {\n",
       "        vertical-align: middle;\n",
       "    }\n",
       "\n",
       "    .dataframe tbody tr th {\n",
       "        vertical-align: top;\n",
       "    }\n",
       "\n",
       "    .dataframe thead th {\n",
       "        text-align: right;\n",
       "    }\n",
       "</style>\n",
       "<table border=\"1\" class=\"dataframe\">\n",
       "  <thead>\n",
       "    <tr style=\"text-align: right;\">\n",
       "      <th></th>\n",
       "      <th>treatment</th>\n",
       "      <th>intensity</th>\n",
       "    </tr>\n",
       "  </thead>\n",
       "  <tbody>\n",
       "    <tr>\n",
       "      <th>0</th>\n",
       "      <td>MI-Control</td>\n",
       "      <td>115.903573</td>\n",
       "    </tr>\n",
       "    <tr>\n",
       "      <th>1</th>\n",
       "      <td>MI-Control</td>\n",
       "      <td>126.236345</td>\n",
       "    </tr>\n",
       "    <tr>\n",
       "      <th>2</th>\n",
       "      <td>MI-Control</td>\n",
       "      <td>131.576317</td>\n",
       "    </tr>\n",
       "    <tr>\n",
       "      <th>3</th>\n",
       "      <td>MI-Control</td>\n",
       "      <td>117.721156</td>\n",
       "    </tr>\n",
       "    <tr>\n",
       "      <th>4</th>\n",
       "      <td>MI-Control</td>\n",
       "      <td>119.965972</td>\n",
       "    </tr>\n",
       "    <tr>\n",
       "      <th>...</th>\n",
       "      <td>...</td>\n",
       "      <td>...</td>\n",
       "    </tr>\n",
       "    <tr>\n",
       "      <th>182</th>\n",
       "      <td>MII-Rescue</td>\n",
       "      <td>83.009689</td>\n",
       "    </tr>\n",
       "    <tr>\n",
       "      <th>183</th>\n",
       "      <td>MII-Rescue</td>\n",
       "      <td>57.735090</td>\n",
       "    </tr>\n",
       "    <tr>\n",
       "      <th>184</th>\n",
       "      <td>MII-Rescue</td>\n",
       "      <td>70.715919</td>\n",
       "    </tr>\n",
       "    <tr>\n",
       "      <th>185</th>\n",
       "      <td>MII-Rescue</td>\n",
       "      <td>87.750427</td>\n",
       "    </tr>\n",
       "    <tr>\n",
       "      <th>186</th>\n",
       "      <td>MII-Rescue</td>\n",
       "      <td>56.980476</td>\n",
       "    </tr>\n",
       "  </tbody>\n",
       "</table>\n",
       "<p>121 rows × 2 columns</p>\n",
       "</div>"
      ],
      "text/plain": [
       "      treatment   intensity\n",
       "0    MI-Control  115.903573\n",
       "1    MI-Control  126.236345\n",
       "2    MI-Control  131.576317\n",
       "3    MI-Control  117.721156\n",
       "4    MI-Control  119.965972\n",
       "..          ...         ...\n",
       "182  MII-Rescue   83.009689\n",
       "183  MII-Rescue   57.735090\n",
       "184  MII-Rescue   70.715919\n",
       "185  MII-Rescue   87.750427\n",
       "186  MII-Rescue   56.980476\n",
       "\n",
       "[121 rows x 2 columns]"
      ]
     },
     "execution_count": 4,
     "metadata": {},
     "output_type": "execute_result"
    }
   ],
   "source": [
    "#포맷을 바꾼다. \n",
    "\n",
    "transformed = pd.melt(kd,value_name='intensity',var_name='treatment').dropna()\n",
    "transformed"
   ]
  },
  {
   "cell_type": "markdown",
   "metadata": {},
   "source": [
    "# Box plot \n",
    "\n",
    "Box plot 에는 5가지 요소를 표시한다. \n",
    "\n",
    "- Minimum : 최소값 \n",
    "- Maximum : 최대값 \n",
    "- Median : 중간값 \n",
    "- First quartile : 가작 작은 값에서 25% \n",
    "- Third quartile : 가장 큰 값에서 75%\n",
    "\n",
    "https://seaborn.pydata.org/generated/seaborn.boxplot.html\n",
    "- data 에는 데이터를 저장하고 있는 데이터프레임을,  \n",
    "- y 에는 데이터 값이 저장된 컬럼을,  \n",
    "- x 에는 각각의 샘플을 구분하는 컬럼을 지정한다.  "
   ]
  },
  {
   "cell_type": "code",
   "execution_count": 8,
   "metadata": {},
   "outputs": [
    {
     "data": {
      "text/plain": [
       "<AxesSubplot:xlabel='treatment', ylabel='intensity'>"
      ]
     },
     "execution_count": 8,
     "metadata": {},
     "output_type": "execute_result"
    },
    {
     "data": {
      "image/png": "[encoded data removed]",
      "text/plain": [
       "<Figure size 432x288 with 1 Axes>"
      ]
     },
     "metadata": {
      "needs_background": "light"
     },
     "output_type": "display_data"
    }
   ],
   "source": [
    "sns.boxplot(data=transformed,y='intensity',x='treatment')"
   ]
  },
  {
   "cell_type": "code",
   "execution_count": 13,
   "metadata": {},
   "outputs": [
    {
     "data": {
      "text/plain": [
       "<AxesSubplot:xlabel='treatment', ylabel='intensity'>"
      ]
     },
     "execution_count": 13,
     "metadata": {},
     "output_type": "execute_result"
    },
    {
     "data": {
      "image/png": "[encoded data removed]",
      "text/plain": [
       "<Figure size 1080x720 with 1 Axes>"
      ]
     },
     "metadata": {
      "needs_background": "light"
     },
     "output_type": "display_data"
    }
   ],
   "source": [
    "#그림의 크기를 키우자 \n",
    "from matplotlib import pyplot as plt\n",
    "\n",
    "#x와 y의 인치로 그림의 가로 세로 길이를 지정\n",
    "plt.figure(figsize=(15,10))\n",
    "sns.boxplot(data=transformed,y='intensity',x='treatment')"
   ]
  },
  {
   "cell_type": "markdown",
   "metadata": {},
   "source": [
    "# stripplot \n",
    "\n",
    "실제 데이터의 분포를 추가해주면 데이터의 분포를 보다 확실히 확인할 수 있다. \n",
    "\n",
    "동시에 두 종류의 플롯을 그릴 때는 두 종류의 플롯을 연속하여 그리면 된다. \n",
    "\n",
    "https://seaborn.pydata.org/generated/seaborn.stripplot.html   \n",
    "\n"
   ]
  },
  {
   "cell_type": "code",
   "execution_count": 20,
   "metadata": {},
   "outputs": [
    {
     "data": {
      "text/plain": [
       "<AxesSubplot:xlabel='treatment', ylabel='intensity'>"
      ]
     },
     "execution_count": 20,
     "metadata": {},
     "output_type": "execute_result"
    },
    {
     "data": {
      "image/png": "[encoded data removed]",
      "text/plain": [
       "<Figure size 1080x720 with 1 Axes>"
      ]
     },
     "metadata": {
      "needs_background": "light"
     },
     "output_type": "display_data"
    }
   ],
   "source": [
    "plt.figure(figsize=(15,10))\n",
    "sns.boxplot(data=transformed,y='intensity',x='treatment')\n",
    "sns.stripplot(data=transformed,y='intensity',x='treatment',color='black')"
   ]
  },
  {
   "cell_type": "code",
   "execution_count": 23,
   "metadata": {},
   "outputs": [
    {
     "data": {
      "text/plain": [
       "<AxesSubplot:xlabel='treatment', ylabel='intensity'>"
      ]
     },
     "execution_count": 23,
     "metadata": {},
     "output_type": "execute_result"
    },
    {
     "data": {
      "image/png": "[encoded data removed]",
      "text/plain": [
       "<Figure size 1080x720 with 1 Axes>"
      ]
     },
     "metadata": {
      "needs_background": "light"
     },
     "output_type": "display_data"
    }
   ],
   "source": [
    "plt.figure(figsize=(15,10))\n",
    "sns.boxplot(data=transformed,y='intensity',x='treatment')\n",
    "sns.stripplot(data=transformed,y='intensity',x='treatment',color='black',size=7.5, alpha=.50)"
   ]
  },
  {
   "cell_type": "code",
   "execution_count": 24,
   "metadata": {},
   "outputs": [
    {
     "data": {
      "text/plain": [
       "<AxesSubplot:xlabel='treatment', ylabel='intensity'>"
      ]
     },
     "execution_count": 24,
     "metadata": {},
     "output_type": "execute_result"
    },
    {
     "data": {
      "image/png": "[encoded data removed]",
      "text/plain": [
       "<Figure size 1080x720 with 1 Axes>"
      ]
     },
     "metadata": {
      "needs_background": "light"
     },
     "output_type": "display_data"
    }
   ],
   "source": [
    "plt.figure(figsize=(15,10))\n",
    "sns.stripplot(data=transformed,y='intensity',x='treatment',color='black',size=7.5, alpha=.50)"
   ]
  },
  {
   "cell_type": "code",
   "execution_count": 26,
   "metadata": {},
   "outputs": [
    {
     "data": {
      "text/plain": [
       "<AxesSubplot:xlabel='treatment', ylabel='intensity'>"
      ]
     },
     "execution_count": 26,
     "metadata": {},
     "output_type": "execute_result"
    },
    {
     "data": {
      "image/png": "[encoded data removed]",
      "text/plain": [
       "<Figure size 1080x720 with 1 Axes>"
      ]
     },
     "metadata": {
      "needs_background": "light"
     },
     "output_type": "display_data"
    }
   ],
   "source": [
    "plt.figure(figsize=(15,10))\n",
    "sns.violinplot(data=transformed,y='intensity',x='treatment',inner=None)\n",
    "sns.stripplot(data=transformed,y='intensity',x='treatment',color='black',size=7.5, alpha=.50)"
   ]
  },
  {
   "cell_type": "markdown",
   "metadata": {},
   "source": [
    "## 데이터 변형\n",
    "\n",
    "각각의 샘플을 다른 컬러로 지정했지만, 그것보다는 Control, RNAi, Rescue 샘플을 각각 같은 색으로 칠해보자.  \n",
    "이를 위해서는 데이터를 수정할 필요가 있다. \n",
    "\n",
    "'Treatment' 는 Sample Stage-Treatment 형식으로 되어 있는데 (MI-Control)  \n",
    "이것을 각각의 컬럼으로 나누어 보자.  \n",
    "\n",
    "split 함수를 이용하여 '-' 기준으로 나눈다. "
   ]
  },
  {
   "cell_type": "code",
   "execution_count": 28,
   "metadata": {},
   "outputs": [
    {
     "data": {
      "text/html": [
       "<div>\n",
       "<style scoped>\n",
       "    .dataframe tbody tr th:only-of-type {\n",
       "        vertical-align: middle;\n",
       "    }\n",
       "\n",
       "    .dataframe tbody tr th {\n",
       "        vertical-align: top;\n",
       "    }\n",
       "\n",
       "    .dataframe thead th {\n",
       "        text-align: right;\n",
       "    }\n",
       "</style>\n",
       "<table border=\"1\" class=\"dataframe\">\n",
       "  <thead>\n",
       "    <tr style=\"text-align: right;\">\n",
       "      <th></th>\n",
       "      <th>treatment</th>\n",
       "      <th>intensity</th>\n",
       "    </tr>\n",
       "  </thead>\n",
       "  <tbody>\n",
       "    <tr>\n",
       "      <th>0</th>\n",
       "      <td>MI-Control</td>\n",
       "      <td>115.903573</td>\n",
       "    </tr>\n",
       "    <tr>\n",
       "      <th>1</th>\n",
       "      <td>MI-Control</td>\n",
       "      <td>126.236345</td>\n",
       "    </tr>\n",
       "    <tr>\n",
       "      <th>2</th>\n",
       "      <td>MI-Control</td>\n",
       "      <td>131.576317</td>\n",
       "    </tr>\n",
       "    <tr>\n",
       "      <th>3</th>\n",
       "      <td>MI-Control</td>\n",
       "      <td>117.721156</td>\n",
       "    </tr>\n",
       "    <tr>\n",
       "      <th>4</th>\n",
       "      <td>MI-Control</td>\n",
       "      <td>119.965972</td>\n",
       "    </tr>\n",
       "    <tr>\n",
       "      <th>...</th>\n",
       "      <td>...</td>\n",
       "      <td>...</td>\n",
       "    </tr>\n",
       "    <tr>\n",
       "      <th>182</th>\n",
       "      <td>MII-Rescue</td>\n",
       "      <td>83.009689</td>\n",
       "    </tr>\n",
       "    <tr>\n",
       "      <th>183</th>\n",
       "      <td>MII-Rescue</td>\n",
       "      <td>57.735090</td>\n",
       "    </tr>\n",
       "    <tr>\n",
       "      <th>184</th>\n",
       "      <td>MII-Rescue</td>\n",
       "      <td>70.715919</td>\n",
       "    </tr>\n",
       "    <tr>\n",
       "      <th>185</th>\n",
       "      <td>MII-Rescue</td>\n",
       "      <td>87.750427</td>\n",
       "    </tr>\n",
       "    <tr>\n",
       "      <th>186</th>\n",
       "      <td>MII-Rescue</td>\n",
       "      <td>56.980476</td>\n",
       "    </tr>\n",
       "  </tbody>\n",
       "</table>\n",
       "<p>121 rows × 2 columns</p>\n",
       "</div>"
      ],
      "text/plain": [
       "      treatment   intensity\n",
       "0    MI-Control  115.903573\n",
       "1    MI-Control  126.236345\n",
       "2    MI-Control  131.576317\n",
       "3    MI-Control  117.721156\n",
       "4    MI-Control  119.965972\n",
       "..          ...         ...\n",
       "182  MII-Rescue   83.009689\n",
       "183  MII-Rescue   57.735090\n",
       "184  MII-Rescue   70.715919\n",
       "185  MII-Rescue   87.750427\n",
       "186  MII-Rescue   56.980476\n",
       "\n",
       "[121 rows x 2 columns]"
      ]
     },
     "execution_count": 28,
     "metadata": {},
     "output_type": "execute_result"
    }
   ],
   "source": [
    "transformed"
   ]
  },
  {
   "cell_type": "code",
   "execution_count": 29,
   "metadata": {},
   "outputs": [
    {
     "data": {
      "text/plain": [
       "0      [MI, Control]\n",
       "1      [MI, Control]\n",
       "2      [MI, Control]\n",
       "3      [MI, Control]\n",
       "4      [MI, Control]\n",
       "           ...      \n",
       "182    [MII, Rescue]\n",
       "183    [MII, Rescue]\n",
       "184    [MII, Rescue]\n",
       "185    [MII, Rescue]\n",
       "186    [MII, Rescue]\n",
       "Name: treatment, Length: 121, dtype: object"
      ]
     },
     "execution_count": 29,
     "metadata": {},
     "output_type": "execute_result"
    }
   ],
   "source": [
    "transformed['treatment'].str.split('-')"
   ]
  },
  {
   "cell_type": "markdown",
   "metadata": {},
   "source": [
    "앞 부분은 'stage'에 저장하고"
   ]
  },
  {
   "cell_type": "code",
   "execution_count": 32,
   "metadata": {},
   "outputs": [
    {
     "data": {
      "text/plain": [
       "0       MI\n",
       "1       MI\n",
       "2       MI\n",
       "3       MI\n",
       "4       MI\n",
       "      ... \n",
       "182    MII\n",
       "183    MII\n",
       "184    MII\n",
       "185    MII\n",
       "186    MII\n",
       "Name: stage, Length: 121, dtype: object"
      ]
     },
     "execution_count": 32,
     "metadata": {},
     "output_type": "execute_result"
    }
   ],
   "source": [
    "transformed['stage']=transformed['treatment'].str.split('-').str[0]\n",
    "transformed['stage']"
   ]
  },
  {
   "cell_type": "markdown",
   "metadata": {},
   "source": [
    "뒷 부분은 'Treat'에 저장"
   ]
  },
  {
   "cell_type": "code",
   "execution_count": null,
   "metadata": {},
   "outputs": [],
   "source": [
    "transformed['treat']=transformed['treatment'].str.split('-').str[1]\n",
    "transformed['treat']"
   ]
  },
  {
   "cell_type": "code",
   "execution_count": null,
   "metadata": {},
   "outputs": [],
   "source": [
    "#변형된 테이블을 살펴보자. \n",
    "\n",
    "transformed"
   ]
  },
  {
   "cell_type": "code",
   "execution_count": 43,
   "metadata": {},
   "outputs": [
    {
     "data": {
      "text/plain": [
       "<AxesSubplot:xlabel='treatment', ylabel='intensity'>"
      ]
     },
     "execution_count": 43,
     "metadata": {},
     "output_type": "execute_result"
    },
    {
     "data": {
      "image/png": "[encoded data removed]",
      "text/plain": [
       "<Figure size 1080x720 with 1 Axes>"
      ]
     },
     "metadata": {
      "needs_background": "light"
     },
     "output_type": "display_data"
    }
   ],
   "source": [
    "#'treat'의 종류에 따라서 다른 색을 칠하자\n",
    "plt.figure(figsize=(15,10))\n",
    "sns.boxplot(data=transformed,y='intensity',x='treatment',hue='treat',dodge=False)\n",
    "sns.stripplot(data=transformed,y='intensity',x='treatment',hue='treat',jitter=True,dodge=False, alpha=0.5,color='grey')"
   ]
  },
  {
   "cell_type": "markdown",
   "metadata": {},
   "source": [
    "색을 바꿀 수 있다. \n",
    "색을 바꾸는 방법에 대해서는 여기 참조 \n",
    "https://seaborn.pydata.org/tutorial/color_palettes.html\n",
    "회색으로 바꾸자. "
   ]
  },
  {
   "cell_type": "code",
   "execution_count": 49,
   "metadata": {},
   "outputs": [
    {
     "data": {
      "text/plain": [
       "<AxesSubplot:xlabel='treatment', ylabel='intensity'>"
      ]
     },
     "execution_count": 49,
     "metadata": {},
     "output_type": "execute_result"
    },
    {
     "data": {
      "image/png": "[encoded data removed]",
      "text/plain": [
       "<Figure size 1080x720 with 1 Axes>"
      ]
     },
     "metadata": {
      "needs_background": "light"
     },
     "output_type": "display_data"
    }
   ],
   "source": [
    "plt.figure(figsize=(15,10))\n",
    "sns.boxplot(data=transformed,y='intensity',x='treatment',color='white',dodge=False)\n",
    "sns.stripplot(data=transformed,y='intensity',x='treatment',jitter=True,dodge=False,alpha=0.5,color='black')"
   ]
  },
  {
   "cell_type": "code",
   "execution_count": null,
   "metadata": {},
   "outputs": [],
   "source": [
    "#그림의 크기를 키우자 \n",
    "from matplotlib import pyplot as plt\n",
    "#x와 y의 인치로 지정\n",
    "plt.figure(figsize=(15,10))\n",
    "sns.set_style(\"white\")\n",
    "sns.boxplot(data=transformed,y='intensity',x='treatment',hue='treat',dodge=False, palette=\"Greys\")\n",
    "sns.stripplot(data=transformed,y='intensity',x='treatment',hue='treat',jitter=True,dodge=False, alpha=0.5,color='grey')\n"
   ]
  },
  {
   "cell_type": "code",
   "execution_count": null,
   "metadata": {},
   "outputs": [],
   "source": [
    "#글자 크기를 키우고 Legends를 왼쪽으로 배치 \n",
    "\n",
    "sns.set(font_scale=2)\n",
    "plt.figure(figsize=(15,10))\n",
    "sns.set_style(\"white\")\n",
    "g = sns.boxplot(data=transformed,y='intensity',x='treatment',hue='treat',dodge=False, palette=\"Greys\")\n",
    "sns.stripplot(data=transformed,y='intensity',x='treatment',hue='treat',jitter=True,dodge=False, alpha=0.7,color='grey')\n",
    "g.legend(loc='center right', bbox_to_anchor=(1.2, 0.5), ncol=1)\n",
    "#그림을 fig.pdf로 저장\n",
    "plt.savefig('fig.png')"
   ]
  },
  {
   "cell_type": "code",
   "execution_count": null,
   "metadata": {},
   "outputs": [],
   "source": [
    "transformed.to_excel('transformed.xlsx')"
   ]
  },
  {
   "cell_type": "markdown",
   "metadata": {},
   "source": [
    "이렇게 pdf 형태로 저장된 표는 그대로 사용할 수도 있고,  \n",
    "Illustrator 등의 외부 프로그램을 이용하여 서식을 재조정할 수도 있음. "
   ]
  },
  {
   "cell_type": "markdown",
   "metadata": {},
   "source": [
    "## 코로나-19 감염자 데이터를 이용한 시계열 (Time-Series) 데이터 분석  \n",
    "\n",
    "\n",
    "https://data.humdata.org/dataset/novel-coronavirus-2019-ncov-cases\n",
    "에 있는 코로나-19 전세계 감염자 데이터를 이용한 비주얼라이제이션을 하자. "
   ]
  },
  {
   "cell_type": "code",
   "execution_count": null,
   "metadata": {},
   "outputs": [],
   "source": [
    "#다른 종류의 그래프를 그려보자. \n",
    "#이를 위해 다른 종류의 데이터를 불러온다.\n",
    "#국가별 코로나-19 감염자의 데이터이다. \n"
   ]
  },
  {
   "cell_type": "code",
   "execution_count": null,
   "metadata": {},
   "outputs": [],
   "source": [
    "!ls *.csv"
   ]
  },
  {
   "cell_type": "code",
   "execution_count": null,
   "metadata": {},
   "outputs": [],
   "source": [
    "#데이터를 불러오자. \n",
    "import pandas as pd\n",
    "covid19 = pd.read_csv('time_series_covid19_confirmed_global.csv')\n",
    "covid19"
   ]
  },
  {
   "cell_type": "code",
   "execution_count": null,
   "metadata": {},
   "outputs": [],
   "source": [
    "covid19['Country/Region'].unique()"
   ]
  },
  {
   "cell_type": "code",
   "execution_count": null,
   "metadata": {},
   "outputs": [],
   "source": [
    "#여기서 한국 데이터만 추린다. \n",
    "\n",
    "korea = covid19[covid19['Country/Region'].isin(['Korea, South'])]\n",
    "korea"
   ]
  },
  {
   "cell_type": "code",
   "execution_count": null,
   "metadata": {},
   "outputs": [],
   "source": []
  },
  {
   "cell_type": "code",
   "execution_count": null,
   "metadata": {},
   "outputs": [],
   "source": [
    "#시각화를 위해서 데이터의 형식을 바꾼다. \n",
    "#일단 열로 길게 된 데이터의 방향을 바꾼다. \n",
    "\n",
    "koreadata = pd.melt(korea,value_name='cases',var_name='date')\n",
    "koreadata"
   ]
  },
  {
   "cell_type": "code",
   "execution_count": null,
   "metadata": {},
   "outputs": [],
   "source": [
    "#불필요한 처음 4행(0,1,2,3)을 지운다.\n",
    "\n",
    "koreadata = koreadata[4:]\n",
    "koreadata"
   ]
  },
  {
   "cell_type": "code",
   "execution_count": null,
   "metadata": {},
   "outputs": [],
   "source": [
    "koreadata.dtypes"
   ]
  },
  {
   "cell_type": "code",
   "execution_count": null,
   "metadata": {},
   "outputs": [],
   "source": [
    "#데이터의 타입을 검사한다. \n",
    "#역시 데이터의 타입이 그냥 글자로 되어 있다...\n",
    "koreadata.dtypes"
   ]
  },
  {
   "cell_type": "code",
   "execution_count": null,
   "metadata": {},
   "outputs": [],
   "source": [
    "#건수 ('case')는 정수(int64)로 변환하고 \n",
    "#날짜는 날짜 형식으로 변환한다. \n",
    "\n",
    "koreadata['cases']=koreadata['cases'].astype('int64')\n",
    "koreadata['date']=pd.to_datetime(koreadata['date'])\n",
    "koreadata"
   ]
  },
  {
   "cell_type": "code",
   "execution_count": null,
   "metadata": {},
   "outputs": [],
   "source": [
    "import seaborn as sns\n",
    "import matplotlib.pyplot as plt\n",
    "\n",
    "sns.set(font_scale=1.5)\n",
    "plt.figure(figsize=(15,10))\n",
    "\n",
    "sns.lineplot(data=koreadata,x='date',y='cases')"
   ]
  },
  {
   "cell_type": "markdown",
   "metadata": {},
   "source": [
    "일별 증가량을 계산해 보자.  \n",
    "일별 증가량은 '오늘의 확진자 건수' - '어제의 확진자 건수'"
   ]
  },
  {
   "cell_type": "code",
   "execution_count": null,
   "metadata": {},
   "outputs": [],
   "source": [
    "#diff는 이전과의 증가량을 계산하는 함수이다.\n",
    "difference = koreadata.diff()\n",
    "\n",
    "#첫번째 날은 데이터가 없으므로 0 으로 채워 준다. \n"
   ]
  },
  {
   "cell_type": "code",
   "execution_count": null,
   "metadata": {},
   "outputs": [],
   "source": [
    "difference.columns=['interval','increase']\n",
    "difference"
   ]
  },
  {
   "cell_type": "code",
   "execution_count": null,
   "metadata": {},
   "outputs": [],
   "source": [
    "#한국 데이터에 증가건수를 덧붙인다. \n",
    "#기준은 index 이다. \n",
    "\n",
    "newkoreadata = pd.merge(koreadata,difference,left_index=True,right_index=True)"
   ]
  },
  {
   "cell_type": "code",
   "execution_count": null,
   "metadata": {},
   "outputs": [],
   "source": [
    "newkoreadata"
   ]
  },
  {
   "cell_type": "code",
   "execution_count": null,
   "metadata": {},
   "outputs": [],
   "source": [
    "# 확진자 증가 추세를 플로팅해보자. \n",
    "from matplotlib import pyplot as plt\n",
    "#x와 y의 인치로 지정\n",
    "plt.figure(figsize=(15,10))\n",
    "sns.set(font_scale=1.5)\n",
    "sns.set_style(\"white\")\n",
    "sns.lineplot(data=newkoreadata,x='date',y='increase')"
   ]
  },
  {
   "cell_type": "code",
   "execution_count": null,
   "metadata": {},
   "outputs": [],
   "source": [
    "#증가율과 전체 누적 증가율을 같이 표현하려면?\n",
    "#이 데이터를 long form으로 바꾸어야 한다. \n",
    "\n",
    "newkoreadata\n"
   ]
  },
  {
   "cell_type": "code",
   "execution_count": null,
   "metadata": {},
   "outputs": [],
   "source": [
    "newkorea = newkoreadata.melt(id_vars=['date'],value_vars=['cases','increase'])"
   ]
  },
  {
   "cell_type": "code",
   "execution_count": null,
   "metadata": {},
   "outputs": [],
   "source": [
    "newkorea"
   ]
  },
  {
   "cell_type": "code",
   "execution_count": null,
   "metadata": {},
   "outputs": [],
   "source": [
    "plt.figure(figsize=(15,10))\n",
    "sns.set(font_scale=1.5)\n",
    "sns.set_style(\"white\")\n",
    "sns.lineplot(data=newkorea,x='date',y='value',hue='variable')"
   ]
  },
  {
   "cell_type": "code",
   "execution_count": null,
   "metadata": {},
   "outputs": [],
   "source": [
    "#일본의 데이터를 한국과 비교해보자. \n",
    "#동일한 방식으로 일본 데이터를 추려내자. \n",
    "\n",
    "japan = covid19[covid19['Country/Region'].str.contains('japan',case=False)]\n",
    "japandata = pd.melt(japan,value_name='cases',var_name='date')\n",
    "japandata = japandata[4:]\n",
    "japandata['cases']=japandata['cases'].astype('int64')\n",
    "japandata['date']=pd.to_datetime(japandata['date'])\n",
    "difference = japandata.diff()\n",
    "difference.columns=['interval','increase']\n",
    "newjapandata = pd.merge(japandata,difference,left_index=True,right_index=True)\n",
    "newjapan = newjapandata.melt(id_vars=['date'],value_vars=['cases','increase'])"
   ]
  },
  {
   "cell_type": "code",
   "execution_count": null,
   "metadata": {},
   "outputs": [],
   "source": [
    "plt.figure(figsize=(15,10))\n",
    "sns.set(font_scale=1.5)\n",
    "sns.set_style(\"white\")\n",
    "sns.lineplot(data=newjapan,x='date',y='value',hue='variable')"
   ]
  },
  {
   "cell_type": "code",
   "execution_count": null,
   "metadata": {},
   "outputs": [],
   "source": [
    "#한국과 일본의 발생 추이를 같은 컬럼에서 비교하자. \n",
    "newkorea"
   ]
  },
  {
   "cell_type": "code",
   "execution_count": null,
   "metadata": {},
   "outputs": [],
   "source": [
    "ko = newkorea[newkorea['variable']=='cases']"
   ]
  },
  {
   "cell_type": "code",
   "execution_count": null,
   "metadata": {},
   "outputs": [],
   "source": [
    "#여기서 발생수 (cases)만을 취하고, 이를 구분할 수 있도록 국가 코드를 붙이자. \n",
    "ko = newkorea[newkorea['variable']=='cases']"
   ]
  },
  {
   "cell_type": "code",
   "execution_count": null,
   "metadata": {},
   "outputs": [],
   "source": [
    "ko['country']='korea'\n",
    "ko"
   ]
  },
  {
   "cell_type": "code",
   "execution_count": null,
   "metadata": {},
   "outputs": [],
   "source": [
    "jp = newjapan[newjapan['variable']=='cases']\n",
    "jp['country']='japan'\n",
    "jp"
   ]
  },
  {
   "cell_type": "code",
   "execution_count": null,
   "metadata": {},
   "outputs": [],
   "source": [
    "#한일 데이터를 합치자 \n",
    "kojp = pd.concat([ko,jp])\n",
    "kojp"
   ]
  },
  {
   "cell_type": "code",
   "execution_count": null,
   "metadata": {},
   "outputs": [],
   "source": [
    "plt.figure(figsize=(15,10))\n",
    "sns.set(font_scale=1.5)\n",
    "sns.set_style(\"white\")\n",
    "sns.lineplot(data=kojp,x='date',y='value',hue='country')"
   ]
  },
  {
   "cell_type": "markdown",
   "metadata": {},
   "source": [
    "## 연습문제\n",
    "\n",
    "이 데이터셋에서 미국, 이탈리아, 독일, 프랑스의 전체 발생 추이를 추출하여 하나의 그래프로 그려 보자. "
   ]
  },
  {
   "cell_type": "markdown",
   "metadata": {},
   "source": [
    "## RNA-Seq 데이터 시각화 \n",
    "\n",
    "오믹스 데이터셋과 같은 데이터도 분석하여 시각화할 수 있다. \n",
    "https://www.ebi.ac.uk/gxa/home  \n",
    "\n",
    "여기서 다음 예제 데이터를 다운로드받아보자.   \n",
    "https://www.ebi.ac.uk/gxa/experiments/E-MTAB-8021/Downloads   \n",
    "\n",
    "\n",
    "여기는 Mechanical Stimulation 을 가한 Arabidopsis에서 발현되는 유전자들을 RNA-Seq으로 분석하였음.  \n",
    "https://www.ebi.ac.uk/gxa/experiments-content/E-MTAB-8021/resources/DifferentialSecondaryDataFiles.RnaSeq/analytics"
   ]
  },
  {
   "cell_type": "code",
   "execution_count": null,
   "metadata": {},
   "outputs": [],
   "source": [
    "#데이터를 다운로드하자. \n",
    "#RNA-Seq 데이터 대신 일단 분석이 끝난 데이터를 다운로드한다. \n",
    "\n",
    "!curl -O https://www.ebi.ac.uk/gxa/experiments-content/E-MTAB-8021/resources/DifferentialSecondaryDataFiles.RnaSeq/analytics"
   ]
  },
  {
   "cell_type": "code",
   "execution_count": null,
   "metadata": {},
   "outputs": [],
   "source": [
    "!head analytics"
   ]
  },
  {
   "cell_type": "code",
   "execution_count": null,
   "metadata": {},
   "outputs": [],
   "source": [
    "import pandas as pd \n",
    "\n",
    "analysis = pd.read_csv('analytics',sep='\\t')\n",
    "analysis"
   ]
  },
  {
   "cell_type": "code",
   "execution_count": null,
   "metadata": {},
   "outputs": [],
   "source": [
    "#mechanical stimulation 을 준다음 \n",
    "analysis = analysis.sort_values(by=\"'mechanical stimulation' at '10 minute' vs 'none'.log2foldchange\",ascending=False)"
   ]
  },
  {
   "cell_type": "code",
   "execution_count": null,
   "metadata": {},
   "outputs": [],
   "source": [
    "analysis"
   ]
  },
  {
   "cell_type": "code",
   "execution_count": null,
   "metadata": {},
   "outputs": [],
   "source": [
    "#Fold change가 가장 높은 200개의 유전자의 데이터를 추출 \n",
    "\n",
    "Top200 = analysis[0:200]"
   ]
  },
  {
   "cell_type": "code",
   "execution_count": null,
   "metadata": {},
   "outputs": [],
   "source": [
    "#데이터를 살펴본다. \n",
    "#데이터는 콘트롤과 자극을 준 후 10,25,40,60,180분후의 샘플의 RNA 발현을 비교한 후, \n",
    "# 각 유전자의 fold change (log2)와 p-value이다.\n",
    "\n",
    "\n",
    "Top200"
   ]
  },
  {
   "cell_type": "code",
   "execution_count": null,
   "metadata": {},
   "outputs": [],
   "source": [
    "Top100.columns"
   ]
  },
  {
   "cell_type": "code",
   "execution_count": null,
   "metadata": {},
   "outputs": [],
   "source": [
    "#\n",
    "#Fold change 데이터만을 추린다. \n",
    "#\n",
    "\n",
    "T200 = Top200[[\"Gene ID\",\n",
    "       \"'mechanical stimulation' at '10 minute' vs 'none'.log2foldchange\",\n",
    "       \"'mechanical stimulation' at '25 minute' vs 'none'.log2foldchange\",\n",
    "       \"'mechanical stimulation' at '40 minute' vs 'none'.log2foldchange\",\n",
    "       \"'mechanical stimulation' at '60 minute' vs 'none'.log2foldchange\",\n",
    "       \"'mechanical stimulation' at '180 minute' vs 'none'.log2foldchange\"]]\n",
    "\n",
    "T200.columns=['Gene','10min','25min','40min','60min','180min']"
   ]
  },
  {
   "cell_type": "code",
   "execution_count": null,
   "metadata": {},
   "outputs": [],
   "source": [
    "T200"
   ]
  },
  {
   "cell_type": "code",
   "execution_count": null,
   "metadata": {},
   "outputs": [],
   "source": [
    "T100.dtypes"
   ]
  },
  {
   "cell_type": "code",
   "execution_count": null,
   "metadata": {},
   "outputs": [],
   "source": [
    "T1 = T200.set_index('Gene')\n",
    "T1"
   ]
  },
  {
   "cell_type": "code",
   "execution_count": null,
   "metadata": {},
   "outputs": [],
   "source": [
    "import seaborn as sns\n",
    "from matplotlib import pyplot as plt\n",
    "#x와 y의 인치로 지정\n",
    "plt.figure(figsize=(15,10))\n",
    "sns.set_style(\"white\")\n",
    "sns.heatmap(T1)"
   ]
  },
  {
   "cell_type": "code",
   "execution_count": null,
   "metadata": {},
   "outputs": [],
   "source": [
    "#데이터를 wide form에서 long form으로 바꾼다. \n",
    "#\n",
    "\n",
    "T100"
   ]
  },
  {
   "cell_type": "code",
   "execution_count": null,
   "metadata": {},
   "outputs": [],
   "source": [
    "#데이터를 long form으로 바꾸고, 시간을 숫자로 바꾼다. \n",
    "\n",
    "data = pd.melt(T200,id_vars=['Gene'])\n",
    "data['variable']=data['variable'].str.replace('min','').astype('int')"
   ]
  },
  {
   "cell_type": "code",
   "execution_count": null,
   "metadata": {},
   "outputs": [],
   "source": [
    "data"
   ]
  },
  {
   "cell_type": "code",
   "execution_count": null,
   "metadata": {},
   "outputs": [],
   "source": [
    "data"
   ]
  },
  {
   "cell_type": "code",
   "execution_count": null,
   "metadata": {},
   "outputs": [],
   "source": [
    "#선별된 100개 유전자의 평균과 추세를 표시한다. \n",
    "\n",
    "sns.set(font_scale=1.5)\n",
    "sns.set_style(\"white\")\n",
    "plt.figure(figsize=(15,10))\n",
    "sns.lineplot(data=data,x='variable',y='value')"
   ]
  },
  {
   "cell_type": "code",
   "execution_count": null,
   "metadata": {},
   "outputs": [],
   "source": [
    "#이번에는 25분 지나면 감소하는 유전자이 어떻게 변하는지를 살펴본다. \n",
    "\n",
    "analysis2 = analysis.sort_values(by=\"'mechanical stimulation' at '25 minute' vs 'none'.log2foldchange\",ascending=True)[0:100]\n",
    "Top200 = analysis2[0:200]\n",
    "T200 = Top200[[\"Gene ID\",\n",
    "       \"'mechanical stimulation' at '10 minute' vs 'none'.log2foldchange\",\n",
    "       \"'mechanical stimulation' at '25 minute' vs 'none'.log2foldchange\",\n",
    "       \"'mechanical stimulation' at '40 minute' vs 'none'.log2foldchange\",\n",
    "       \"'mechanical stimulation' at '60 minute' vs 'none'.log2foldchange\",\n",
    "       \"'mechanical stimulation' at '180 minute' vs 'none'.log2foldchange\"]]\n",
    "T200.columns=['Gene','10min','25min','40min','60min','180min']\n",
    "data2 = pd.melt(T200,id_vars=['Gene'])\n",
    "data2['variable']=data2['variable'].str.replace('min','').astype('int')\n",
    "T2 = T200.set_index('Gene')"
   ]
  },
  {
   "cell_type": "code",
   "execution_count": null,
   "metadata": {},
   "outputs": [],
   "source": [
    "plt.figure(figsize=(15,10))\n",
    "sns.set_style(\"white\")\n",
    "sns.heatmap(T2)"
   ]
  },
  {
   "cell_type": "code",
   "execution_count": null,
   "metadata": {},
   "outputs": [],
   "source": [
    "sns.set(font_scale=1.5)\n",
    "sns.set_style(\"white\")\n",
    "plt.figure(figsize=(15,10))\n",
    "\n",
    "g=sns.lineplot(data=data2,x='variable',y='value',hue='Gene')\n",
    "g.legend(loc='center right', bbox_to_anchor=(1.3, 0.5), ncol=1)"
   ]
  },
  {
   "cell_type": "code",
   "execution_count": null,
   "metadata": {},
   "outputs": [],
   "source": [
    "### 유전자의 정보를 추가해 본다. \n",
    "# 5장에서 사용했던 DNA, Protein 시퀀스로부터 정보를 추출하여 데이터테이블로 넣은 코드를 다시 재활용하자. "
   ]
  },
  {
   "cell_type": "code",
   "execution_count": null,
   "metadata": {},
   "outputs": [],
   "source": [
    "import pandas as pd\n",
    "from pyfaidx import Fasta\n",
    "\n",
    "def mid_extract (original, search1, search2):\n",
    "    if (search1 in original) & (search2 in original):\n",
    "        return(original.split(search1)[1].split(search2)[0])\n",
    "    else:\n",
    "        return('')\n",
    "\n",
    "#5강에서 했던 단백질 서열에서부터 정보 추출 \n",
    "    \n",
    "AraProtein= Fasta('GCA_000001735.2_TAIR10.1_protein.faa')\n",
    "proteinkey = []\n",
    "proteindescription = []\n",
    "proteinsequence = []\n",
    "\n",
    "for protein in AraProtein.keys():\n",
    "    proteinkey.append(protein)\n",
    "    proteindescription.append(AraProtein[protein].long_name.split(protein+' ')[1].split(' [')[0])\n",
    "    proteinsequence.append(str(AraProtein[protein]))\n",
    "\n",
    "\n",
    "proteins = pd.DataFrame(data={'key':proteinkey,'description':proteindescription,'sequence':proteinsequence})\n",
    "AraSequence= Fasta('GCA_000001735.2_TAIR10.1_cds_from_genomic.fna')\n",
    "\n",
    "\n",
    "#5강에서 했던 DNA CDS 시퀀스 설명으로부터 정보 추출\n",
    "\n",
    " \n",
    "DNAsequence = []\n",
    "DNAproteinid = []\n",
    "DNAlocusid = []\n",
    "\n",
    "for Sequence in AraSequence.keys():\n",
    "    name = AraSequence[Sequence].long_name\n",
    "    DNAsequence.append(str(AraSequence[Sequence]))\n",
    "    DNAproteinid.append(mid_extract(name,'[protein_id=',']'))\n",
    "    DNAlocusid.append(mid_extract(name,'[locus_tag=',']'))\n",
    "\n",
    "DNASeq = pd.DataFrame(data={'protein':DNAproteinid,'sequence':DNAsequence, 'locus':DNAlocusid})\n",
    "\n",
    "#이 내용을 DNAprotein 이라는 데이터프레임으로 저장 \n",
    "DNAprotein = pd.merge(DNASeq,proteins, left_on='protein',right_on='key', how='left')"
   ]
  },
  {
   "cell_type": "code",
   "execution_count": null,
   "metadata": {},
   "outputs": [],
   "source": [
    "DNAprotein[['locus','description']]"
   ]
  },
  {
   "cell_type": "code",
   "execution_count": null,
   "metadata": {},
   "outputs": [],
   "source": [
    "analysis2 = analysis.sort_values(by=\"'mechanical stimulation' at '25 minute' vs 'none'.log2foldchange\",ascending=False)[0:100]\n",
    "\n",
    "anal = analysis2[[\"Gene ID\",\n",
    "       \"'mechanical stimulation' at '10 minute' vs 'none'.log2foldchange\",\n",
    "       \"'mechanical stimulation' at '25 minute' vs 'none'.log2foldchange\",\n",
    "       \"'mechanical stimulation' at '40 minute' vs 'none'.log2foldchange\",\n",
    "       \"'mechanical stimulation' at '60 minute' vs 'none'.log2foldchange\",\n",
    "       \"'mechanical stimulation' at '180 minute' vs 'none'.log2foldchange\"]]\n",
    "anal.columns=['Gene','10min','25min','40min','60min','180min']"
   ]
  },
  {
   "cell_type": "code",
   "execution_count": null,
   "metadata": {},
   "outputs": [],
   "source": [
    "anal"
   ]
  },
  {
   "cell_type": "code",
   "execution_count": null,
   "metadata": {},
   "outputs": [],
   "source": [
    "DP = DNAprotein[['locus','description']]"
   ]
  },
  {
   "cell_type": "code",
   "execution_count": null,
   "metadata": {},
   "outputs": [],
   "source": [
    "DPP=pd.merge(anal,DP,left_on='Gene',right_on='locus',how='inner').drop_duplicates()\n",
    "DPP"
   ]
  },
  {
   "cell_type": "code",
   "execution_count": null,
   "metadata": {},
   "outputs": [],
   "source": [
    "DPPData=DPP[['description','10min','25min','40min','60min','180min']].set_index('description')"
   ]
  },
  {
   "cell_type": "code",
   "execution_count": null,
   "metadata": {},
   "outputs": [],
   "source": [
    "DPPData"
   ]
  },
  {
   "cell_type": "code",
   "execution_count": null,
   "metadata": {},
   "outputs": [],
   "source": [
    "plt.figure(figsize=(15,100))\n",
    "sns.set_style(\"white\")\n",
    "sns.heatmap(DPPData)"
   ]
  },
  {
   "cell_type": "code",
   "execution_count": null,
   "metadata": {},
   "outputs": [],
   "source": [
    "#\n",
    "#비슷한 발현 변화 패턴을 보인 유전자 및 샘플별로 클러스터링 분석을 할 수 이싿. \n",
    "#\n",
    "\n",
    "g = sns.clustermap(DPPData)"
   ]
  },
  {
   "cell_type": "code",
   "execution_count": null,
   "metadata": {},
   "outputs": [],
   "source": [
    "DPPData.to_excel('Excel_expression.xlsx')"
   ]
  },
  {
   "cell_type": "markdown",
   "metadata": {},
   "source": [
    "## 프로테옴의 길이 비교 \n",
    "\n",
    "단백질 데이터를 로딩하였으니 떡본 김에 제사지낸다고 (...) 전체 단백질 길이의 히스토그램을 그려 보자. "
   ]
  },
  {
   "cell_type": "code",
   "execution_count": null,
   "metadata": {},
   "outputs": [],
   "source": [
    "DNAprotein"
   ]
  },
  {
   "cell_type": "code",
   "execution_count": null,
   "metadata": {},
   "outputs": [],
   "source": [
    "#이전에 사용한 단백질 분자량을 구하는 함수를 단백질 서열에 적용하여 분자량을 구하자. \n",
    "\n",
    "def MolWeight(proteinsequence):\n",
    "# 분자량을 구하는 함수 \n",
    "# proteinsequence 에 아미노산 서열을 받고 \n",
    "# MW 에는 각각의 아미노산과 분자량의 딕셔너리가 있다. \n",
    "    MW = {'G':57.05,\n",
    "          'A':71.09,\n",
    "          'S':87.08,\n",
    "          'T':101.11,\n",
    "          'C':103.15,\n",
    "          'V':99.14,\n",
    "          'L':113.16,\n",
    "          'I':113.16,\n",
    "          'M':131.19,\n",
    "          'P':97.12,\n",
    "          'F':147.18,\n",
    "          'Y':163.18,\n",
    "          'W':186.21,\n",
    "          'D':115.09,\n",
    "          'E':129.12,\n",
    "          'N':114.11,\n",
    "          'Q':128.14,\n",
    "          'H':137.14,\n",
    "          'K':128.17,\n",
    "          'R':156.19,\n",
    "          'X':0,\n",
    "          'J':0}\n",
    "    MolecularWeight=0\n",
    "    for aa in proteinsequence:\n",
    "        MolecularWeight=MolecularWeight+MW[aa]\n",
    "    return(MolecularWeight)\n",
    "\n",
    "DNAprotein['MW']=DNAprotein['sequence_y'].apply(MolWeight)"
   ]
  },
  {
   "cell_type": "code",
   "execution_count": null,
   "metadata": {},
   "outputs": [],
   "source": [
    "DNAprotein"
   ]
  },
  {
   "cell_type": "code",
   "execution_count": null,
   "metadata": {},
   "outputs": [],
   "source": [
    "%matplotlib inline\n",
    "import seaborn as sns\n",
    "\n",
    "sns.distplot(DNAprotein['MW'])"
   ]
  },
  {
   "cell_type": "markdown",
   "metadata": {},
   "source": [
    "다른 식물간의 단백질 분자량을 비교하면 어떨까? \n",
    "\n",
    "쌀의 데이터를 읽어보자. \n",
    "\n",
    "https://ftp.ncbi.nlm.nih.gov/genomes/genbank/plant/Oryza_sativa/latest_assembly_versions/GCA_000004655.2_ASM465v1/\n",
    "    "
   ]
  },
  {
   "cell_type": "code",
   "execution_count": null,
   "metadata": {},
   "outputs": [],
   "source": [
    "!curl -O \"https://ftp.ncbi.nlm.nih.gov/genomes/genbank/plant/Oryza_sativa/latest_assembly_versions/GCA_000004655.2_ASM465v1/GCA_000004655.2_ASM465v1_protein.faa.gz\"\n",
    "!curl -O \"https://ftp.ncbi.nlm.nih.gov/genomes/genbank/plant/Oryza_sativa/latest_assembly_versions/GCA_000004655.2_ASM465v1/GCA_000004655.2_ASM465v1_cds_from_genomic.fna.gz\""
   ]
  },
  {
   "cell_type": "code",
   "execution_count": null,
   "metadata": {},
   "outputs": [],
   "source": [
    "!ls *.gz"
   ]
  },
  {
   "cell_type": "code",
   "execution_count": null,
   "metadata": {},
   "outputs": [],
   "source": [
    "!gunzip GCA_000004655.2_ASM465v1_cds_from_genomic.fna.gz\n",
    "!gunzip GCA_000004655.2_ASM465v1_protein.faa.gz"
   ]
  },
  {
   "cell_type": "code",
   "execution_count": null,
   "metadata": {},
   "outputs": [],
   "source": [
    "#이전의 코드를 다시 이용\n",
    "#단백질과 DNA의 파일 이름만 바꾸었다. \n",
    "\n",
    "import pandas as pd\n",
    "from pyfaidx import Fasta\n",
    "\n",
    "def mid_extract (original, search1, search2):\n",
    "    if (search1 in original) & (search2 in original):\n",
    "        return(original.split(search1)[1].split(search2)[0])\n",
    "    else:\n",
    "        return('')\n",
    "\n",
    "#5강에서 했던 단백질 서열에서부터 정보 추출 \n",
    "    \n",
    "AraProtein= Fasta('GCA_000004655.2_ASM465v1_protein.faa')\n",
    "proteinkey = []\n",
    "proteindescription = []\n",
    "proteinsequence = []\n",
    "\n",
    "for protein in AraProtein.keys():\n",
    "    proteinkey.append(protein)\n",
    "    proteindescription.append(AraProtein[protein].long_name.split(protein+' ')[1].split(' [')[0])\n",
    "    proteinsequence.append(str(AraProtein[protein]))\n",
    "\n",
    "\n",
    "proteins = pd.DataFrame(data={'key':proteinkey,'description':proteindescription,'sequence':proteinsequence})\n",
    "\n",
    "AraSequence= Fasta('GCA_000004655.2_ASM465v1_cds_from_genomic.fna')\n",
    "\n",
    "#5강에서 했던 DNA CDS 시퀀스 설명으로부터 정보 추출\n",
    "\n",
    "DNAsequence = []\n",
    "DNAproteinid = []\n",
    "DNAlocusid = []\n",
    "\n",
    "for Sequence in AraSequence.keys():\n",
    "    name = AraSequence[Sequence].long_name\n",
    "    DNAsequence.append(str(AraSequence[Sequence]))\n",
    "    DNAproteinid.append(mid_extract(name,'[protein_id=',']'))\n",
    "    DNAlocusid.append(mid_extract(name,'[locus_tag=',']'))\n",
    "    \n",
    "DNASeq = pd.DataFrame(data={'protein':DNAproteinid,'sequence':DNAsequence, 'locus':DNAlocusid})\n",
    "\n",
    "#이 내용을 DNAprotein 이라는 데이터프레임으로 저장 \n",
    "RiceDNAprotein = pd.merge(DNASeq,proteins, left_on='protein',right_on='key', how='left')\n",
    "RiceDNAprotein['MW']=RiceDNAprotein['sequence_y'].apply(MolWeight)"
   ]
  },
  {
   "cell_type": "code",
   "execution_count": null,
   "metadata": {},
   "outputs": [],
   "source": [
    "RiceDNAprotein['MW']"
   ]
  },
  {
   "cell_type": "code",
   "execution_count": null,
   "metadata": {},
   "outputs": [],
   "source": [
    "from matplotlib import pyplot as plt\n",
    "#x와 y의 인치로 지정\n",
    "plt.figure(figsize=(15,10))\n",
    "sns.set(font_scale=1.5)\n",
    "sns.set_style(\"white\")\n",
    "\n",
    "g=sns.distplot(DNAprotein['MW'],hist=False,label='Arabidopsis')\n",
    "g=sns.distplot(RiceDNAprotein['MW'],hist=False,label='Rice')\n",
    "#X축의 범위를 지정 \n",
    "g.set(xlim=(0,300000))"
   ]
  },
  {
   "cell_type": "code",
   "execution_count": null,
   "metadata": {},
   "outputs": [],
   "source": [
    "1. 하나의 생물에서 서로 다른 계열의 단백질 (예 : Protein Kinase와 Protein Phosphatase 등등) 의 분자량 분포는 어떻게 다를까? \n",
    "2. 다른 식물 혹은 동물에서의 단백질 분자량을 추정해 보자. "
   ]
  }
 ],
 "metadata": {
  "kernelspec": {
   "display_name": "Python 3",
   "language": "python",
   "name": "python3"
  },
  "language_info": {
   "codemirror_mode": {
    "name": "ipython",
    "version": 3
   },
   "file_extension": ".py",
   "mimetype": "text/x-python",
   "name": "python",
   "nbconvert_exporter": "python",
   "pygments_lexer": "ipython3",
   "version": "3.8.5"
  }
 },
 "nbformat": 4,
 "nbformat_minor": 4
}
