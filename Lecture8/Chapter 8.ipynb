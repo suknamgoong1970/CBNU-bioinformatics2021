{
 "cells": [
  {
   "cell_type": "markdown",
   "metadata": {},
   "source": [
    "# Chapter 7. 분석을 위한 통계 및 수치 연산 \n",
    "\n",
    "\n",
    "## Numpy \n",
    "\n",
    "생물정보 분석에는 숫자의 계산, 특히 행렬 형식의 계산이 필요하다.  \n",
    "\n",
    "많은 생물정보 데이터 중 숫자 형식의 데이터 (예:RNA-Seq의 Expression data 등등) 는 행렬 형식의 숫자로 되어 있는 경우가 많이 있으며,  \n",
    "파이썬에는 이를 효율적으로 다룰 수 있는 모듈이 존재한다. \n",
    "\n",
    "행렬 및 숫자 계산을 담당하는 모듈은 Numpy ('넘파이' 라고 읽는다) 라고 하며.  \n",
    "이를 사용하려면 다음과 같이 모듈을 로딩한다. "
   ]
  },
  {
   "cell_type": "code",
   "execution_count": null,
   "metadata": {},
   "outputs": [],
   "source": [
    "import numpy as np"
   ]
  },
  {
   "cell_type": "markdown",
   "metadata": {},
   "source": [
    "### 1차원 배열 \n",
    "\n",
    "행렬 형식의 데이터를 저장하는 장소를 배열 (Array) 이라고 하며,  \n",
    "숫자 1,2,3,4를 배열로 저장하려면 다음과 같이 한다.\n",
    "\n",
    "np.array([배열을 구성하는 항목, 배열을 구성하는 항목....])"
   ]
  },
  {
   "cell_type": "code",
   "execution_count": null,
   "metadata": {},
   "outputs": [],
   "source": [
    "a=np.array([1,2,3,4,5])\n",
    "a"
   ]
  },
  {
   "cell_type": "markdown",
   "metadata": {},
   "source": [
    "0 으로 채워진 일정한 크기의 배열을 만들 수도 있다.  \n",
    "다음 예에서는 4개의 0 이 들어 있는 배열을 만든다. "
   ]
  },
  {
   "cell_type": "code",
   "execution_count": null,
   "metadata": {},
   "outputs": [],
   "source": [
    "z = np.zeros(10)\n",
    "z"
   ]
  },
  {
   "cell_type": "markdown",
   "metadata": {},
   "source": [
    "1 로 채워진 배열을 만들 수도 있다. "
   ]
  },
  {
   "cell_type": "code",
   "execution_count": null,
   "metadata": {},
   "outputs": [],
   "source": [
    "o = np.ones(10)\n",
    "o"
   ]
  },
  {
   "cell_type": "markdown",
   "metadata": {},
   "source": [
    "일정한 간격으로 증가되는 배열을 만들 수도 있다.  \n",
    "다음의 예에서는 1부터 9까지 1씩 증가하는 숫자의 배열을 만든다. "
   ]
  },
  {
   "cell_type": "code",
   "execution_count": null,
   "metadata": {},
   "outputs": [],
   "source": [
    "x = np.arange(2, 100, 2 )\n",
    "x"
   ]
  },
  {
   "cell_type": "markdown",
   "metadata": {},
   "source": [
    "### 2차원 배열 \n",
    "\n",
    "지금까지는 1차원 배열 (벡터) 를 사용했으나, 2차원 배열을 만드는 것도 가능하다.  \n",
    "많은 생물정보 관련 데이터는 2차원 배열 (행렬) 로 저장되는 경우가 많다. \n",
    "\n",
    "2차원 배열을 정의하려면 \n",
    "\n",
    "[[a,b,c],\n",
    " [d,e,f],\n",
    " [g,h,i]]\n",
    " \n",
    " 와 같은 식으로 정의한다. "
   ]
  },
  {
   "cell_type": "markdown",
   "metadata": {},
   "source": [
    "3x3 배열 "
   ]
  },
  {
   "cell_type": "code",
   "execution_count": null,
   "metadata": {},
   "outputs": [],
   "source": [
    "\n",
    "twodim = np.array(([1,2,3,4],\n",
    "                   [4,5,6,4],\n",
    "                   [7,8,9,10]))\n",
    "\n",
    "twodim"
   ]
  },
  {
   "cell_type": "markdown",
   "metadata": {},
   "source": [
    "3x4배열 "
   ]
  },
  {
   "cell_type": "code",
   "execution_count": null,
   "metadata": {},
   "outputs": [],
   "source": [
    "twodim2 =np.array(([1,2,3,4],\n",
    "                   [4,5,6,7],\n",
    "                   [7,8,9,10]))\n",
    "\n",
    "twodim2"
   ]
  },
  {
   "cell_type": "markdown",
   "metadata": {},
   "source": [
    "이미 만들어진 배열에 숫자를 추가할수도 있다. "
   ]
  },
  {
   "cell_type": "code",
   "execution_count": null,
   "metadata": {},
   "outputs": [],
   "source": [
    "a=np.array([1,2,3,4])\n",
    "a = np.append(a,5)\n",
    "a"
   ]
  },
  {
   "cell_type": "code",
   "execution_count": null,
   "metadata": {},
   "outputs": [],
   "source": [
    "#a에 6을 추가해보자?\n",
    "\n",
    "a=np.append(a,6)\n",
    "a=np.append(a,7)\n",
    "a"
   ]
  },
  {
   "cell_type": "code",
   "execution_count": null,
   "metadata": {},
   "outputs": [],
   "source": [
    "#두 개의 배열의 항목을 합칠 수도 있다. \n",
    "\n",
    "b = np.array([4,5,6,7])\n",
    "c = np.append(a,b)\n",
    "c"
   ]
  },
  {
   "cell_type": "code",
   "execution_count": null,
   "metadata": {},
   "outputs": [],
   "source": [
    "#배열의 각각의 항목을 살펴보자. \n",
    "a=np.array([1,2,3,4])\n",
    "a[0]"
   ]
  },
  {
   "cell_type": "code",
   "execution_count": null,
   "metadata": {},
   "outputs": [],
   "source": [
    "#제일 끝의 항목\n",
    "a[-2]"
   ]
  },
  {
   "cell_type": "code",
   "execution_count": null,
   "metadata": {},
   "outputs": [],
   "source": [
    "# 2차원 행렬에서는 어떻게 항목을 억세스할까? \n",
    "twodim =np.array(([1,2,3,4],\n",
    "                  [4,5,6,7],\n",
    "                  [7,8,9,10]))\n",
    "#첫번째 행의 내용을 억세스한다. \n",
    "twodim[:,-1]"
   ]
  },
  {
   "cell_type": "code",
   "execution_count": null,
   "metadata": {},
   "outputs": [],
   "source": [
    "#첫번쨰 열의 내용을 억세스한다.\n",
    "# ':'는 모든 행 혹은 열을 시하라는 표시이다. \n",
    "twodim[:,0]"
   ]
  },
  {
   "cell_type": "code",
   "execution_count": null,
   "metadata": {},
   "outputs": [],
   "source": [
    "#각각의 항목을 억세스한다. \n",
    "\n",
    "twodim[0,0]"
   ]
  },
  {
   "cell_type": "markdown",
   "metadata": {},
   "source": [
    "배열의 일부 항목을 이용하여 새로운 배열로 저장할 수도 있다. 배열[시작:끝] 과 같이 사용한다. \n",
    "배열의 일부 내용을 "
   ]
  },
  {
   "cell_type": "code",
   "execution_count": null,
   "metadata": {},
   "outputs": [],
   "source": [
    "a = np.array([1,2,3,4,5,6,7,8,9,10])\n",
    "a"
   ]
  },
  {
   "cell_type": "code",
   "execution_count": null,
   "metadata": {},
   "outputs": [],
   "source": [
    "#첫번째와 두번째 \n",
    "a[1:3]"
   ]
  },
  {
   "cell_type": "code",
   "execution_count": null,
   "metadata": {},
   "outputs": [],
   "source": [
    "#이렇게 써도 된다. \n",
    "a[3:]"
   ]
  },
  {
   "cell_type": "code",
   "execution_count": null,
   "metadata": {},
   "outputs": [],
   "source": [
    "#두번째부터 다섯번째 \n",
    "a[2:5]"
   ]
  },
  {
   "cell_type": "code",
   "execution_count": null,
   "metadata": {},
   "outputs": [],
   "source": [
    "#끝에서 3개 \n",
    "a[-4:]"
   ]
  },
  {
   "cell_type": "code",
   "execution_count": null,
   "metadata": {},
   "outputs": [],
   "source": [
    "twodim2 =np.array(([1,2,3,4],\n",
    "                   [4,5,6,7],\n",
    "                   [7,8,9,10]))\n",
    "#첫번째 행과 두번째 행 \n",
    "twodim2[0:1,:]"
   ]
  },
  {
   "cell_type": "code",
   "execution_count": null,
   "metadata": {},
   "outputs": [],
   "source": [
    "#두번째 열과 세번째 열 \n",
    "twodim2[:,1:3]"
   ]
  },
  {
   "cell_type": "code",
   "execution_count": null,
   "metadata": {},
   "outputs": [],
   "source": [
    "twodim2[1:,1:]"
   ]
  },
  {
   "cell_type": "code",
   "execution_count": null,
   "metadata": {},
   "outputs": [],
   "source": [
    "twodim2[:-1,:-1]"
   ]
  },
  {
   "cell_type": "code",
   "execution_count": null,
   "metadata": {},
   "outputs": [],
   "source": [
    "twodim2[-2:,-2:]"
   ]
  },
  {
   "cell_type": "code",
   "execution_count": null,
   "metadata": {},
   "outputs": [],
   "source": [
    "#배열 간의 계산 \n",
    "\n",
    "a= np.array([1,2,3,4,5,6,7,8,9])\n",
    "b= np.array([9,8,7,6,5,4,3,2,1])\n",
    "a+b"
   ]
  },
  {
   "cell_type": "code",
   "execution_count": null,
   "metadata": {},
   "outputs": [],
   "source": [
    "a*b"
   ]
  },
  {
   "cell_type": "code",
   "execution_count": null,
   "metadata": {},
   "outputs": [],
   "source": [
    "#2차원 행렬 연산 \n",
    "\n",
    "a =np.array(([1,2,3,4],\n",
    "             [4,5,6,7],\n",
    "             [7,8,9,10]))\n",
    "\n",
    "b =np.array(([1,2,3,4],\n",
    "             [4,5,6,7],\n",
    "             [7,8,9,10]))\n",
    "\n",
    "a+b"
   ]
  },
  {
   "cell_type": "code",
   "execution_count": null,
   "metadata": {},
   "outputs": [],
   "source": [
    "a*b"
   ]
  },
  {
   "cell_type": "code",
   "execution_count": null,
   "metadata": {},
   "outputs": [],
   "source": [
    "#이렇게 하면 어떻게 될까? \n",
    "a*2"
   ]
  },
  {
   "cell_type": "markdown",
   "metadata": {},
   "source": [
    "제일 첫번째 열만 취하여 2를 곱함 "
   ]
  },
  {
   "cell_type": "code",
   "execution_count": null,
   "metadata": {},
   "outputs": [],
   "source": [
    "a[:,0]*2"
   ]
  },
  {
   "cell_type": "code",
   "execution_count": null,
   "metadata": {},
   "outputs": [],
   "source": [
    "#배열을 구성하는 모든 항목의 합\n",
    "a"
   ]
  },
  {
   "cell_type": "code",
   "execution_count": null,
   "metadata": {},
   "outputs": [],
   "source": [
    "#각 열의 총합 \n",
    "\n",
    "np.sum(a,axis=1)"
   ]
  },
  {
   "cell_type": "code",
   "execution_count": null,
   "metadata": {},
   "outputs": [],
   "source": [
    "#각 행의 총합 \n",
    "\n",
    "np.sum(a,axis=0)"
   ]
  },
  {
   "cell_type": "code",
   "execution_count": null,
   "metadata": {},
   "outputs": [],
   "source": [
    "import pandas as pd\n",
    "expression = pd.read_csv('CCLE_expression.csv')\n",
    "expression"
   ]
  },
  {
   "cell_type": "markdown",
   "metadata": {},
   "source": [
    "Pandas 로 읽어낸 숫자 데이터를 Numpy Array 로 만들 수 있다. \n",
    "일단 첫번째 행을 인덱스로 만들어 보자. "
   ]
  },
  {
   "cell_type": "code",
   "execution_count": null,
   "metadata": {},
   "outputs": [],
   "source": [
    "expression.set_index('Unnamed: 0',inplace=True)\n",
    "expression\n"
   ]
  },
  {
   "cell_type": "markdown",
   "metadata": {},
   "source": [
    "Pandas DataFrame을 Numpy 로 변환하기 위해서는 dataframe.to_numpy() 를 사용한다. "
   ]
  },
  {
   "cell_type": "code",
   "execution_count": null,
   "metadata": {},
   "outputs": [],
   "source": [
    "numpy = expression.to_numpy()\n",
    "numpy"
   ]
  },
  {
   "cell_type": "markdown",
   "metadata": {},
   "source": [
    "Numpy Array 형식으로 변환된 데이터는 Numpy의 모든 연산 기능을 이용하여 계산될 수 있다. "
   ]
  },
  {
   "cell_type": "code",
   "execution_count": null,
   "metadata": {},
   "outputs": [],
   "source": [
    "numpy10 = numpy*10\n",
    "numpy10"
   ]
  },
  {
   "cell_type": "code",
   "execution_count": null,
   "metadata": {},
   "outputs": [],
   "source": [
    "numpy.sum(axis=1)"
   ]
  },
  {
   "cell_type": "code",
   "execution_count": null,
   "metadata": {},
   "outputs": [],
   "source": [
    "numpy.var(axis=0)"
   ]
  },
  {
   "cell_type": "markdown",
   "metadata": {},
   "source": [
    "numpy Array 를 가지고 데이터프레임을 생성하면, 다시 이를 데이터프레임 형식으로 변환할 수 있다.  \n",
    "단, Numpy Array 는 컬럼 이름과 인덱스가 없으므로, 이는 별도로 지정해주어야 한다. "
   ]
  },
  {
   "cell_type": "code",
   "execution_count": null,
   "metadata": {},
   "outputs": [],
   "source": [
    "pd.DataFrame(numpy10, columns=expression.columns, index=expression.index)"
   ]
  },
  {
   "cell_type": "markdown",
   "metadata": {},
   "source": [
    "## 기초 통계 계산 \n",
    "\n",
    "지난번에 사용한 데이터를 다시 이용하자. "
   ]
  },
  {
   "cell_type": "code",
   "execution_count": null,
   "metadata": {},
   "outputs": [],
   "source": [
    "import pandas as pd\n",
    "\n",
    "knockdown = pd.read_excel('knockdown.xlsx')\n",
    "knockdown"
   ]
  },
  {
   "cell_type": "code",
   "execution_count": null,
   "metadata": {},
   "outputs": [],
   "source": [
    "#Pandas의 데이터를 Numpy의 배열로 바꿀 수 있다. \n",
    "#dropna()는 NaN 을 없애기 위해 넣음 \n",
    "\n",
    "Control = knockdown['MI-Control'].dropna().to_numpy()\n",
    "Control"
   ]
  },
  {
   "cell_type": "code",
   "execution_count": null,
   "metadata": {},
   "outputs": [],
   "source": [
    "RNAi = knockdown['MI-RNAi'].dropna().to_numpy()\n",
    "RNAi\n",
    "\n",
    "Rescue= knockdown['MI-Rescue'].dropna().to_numpy()"
   ]
  },
  {
   "cell_type": "code",
   "execution_count": null,
   "metadata": {},
   "outputs": [],
   "source": [
    "Rescue"
   ]
  },
  {
   "cell_type": "code",
   "execution_count": null,
   "metadata": {},
   "outputs": [],
   "source": [
    "#각각의 평균을 계산하자. \n",
    "np.mean(Control)"
   ]
  },
  {
   "cell_type": "code",
   "execution_count": null,
   "metadata": {},
   "outputs": [],
   "source": [
    "np.mean(RNAi)"
   ]
  },
  {
   "cell_type": "code",
   "execution_count": null,
   "metadata": {},
   "outputs": [],
   "source": [
    "np.mean(Rescue)"
   ]
  },
  {
   "cell_type": "code",
   "execution_count": null,
   "metadata": {},
   "outputs": [],
   "source": [
    "#표준편차 \n",
    "print(np.std(Control))\n",
    "print(np.std(RNAi))"
   ]
  },
  {
   "cell_type": "markdown",
   "metadata": {},
   "source": [
    "## Mann-Whitney U-Test\n",
    "\n",
    "- 30개 이하의 작은 데이터, 정규분포를 따르지 않는 데이터에 대해서 사용한다. \n",
    "- 지금의 데이터는 30개 이하이므로 T-test 등 데이터의 정규분포를 가정하는 분석방법으로 가설 검정하는 것은 바람직스럽지 않다. \n",
    "- 이를 위해서 Mann-Whitney의 U-Test를 수행한다. \n",
    "- U-test 를 수행하기 위해서는 통계 모듈을 불러와야 한다.   \n",
    "\n",
    "Python에서 기초 통계 테스트를 하기 위해서는 scipy.stats이라는 모듈을 이용한다. "
   ]
  },
  {
   "cell_type": "code",
   "execution_count": null,
   "metadata": {},
   "outputs": [],
   "source": [
    "from scipy.stats import mannwhitneyu\n",
    "mannwhitneyu(Rescue,Control)"
   ]
  },
  {
   "cell_type": "markdown",
   "metadata": {},
   "source": [
    "## T-test\n",
    "\n",
    "30개 이상의 정규분포를 따르는 두 가지 서로 독립적인 데이터의 평균이 다른지를 살펴본다.   \n",
    "이전에 사용한 인간 프로테옴 데이터를 이용하자. \n",
    "\n"
   ]
  },
  {
   "cell_type": "code",
   "execution_count": null,
   "metadata": {},
   "outputs": [],
   "source": []
  },
  {
   "cell_type": "code",
   "execution_count": null,
   "metadata": {},
   "outputs": [],
   "source": [
    "!curl -O \"https://ftp.ncbi.nlm.nih.gov/genomes/refseq/vertebrate_mammalian/Homo_sapiens/reference/GCF_000001405.39_GRCh38.p13/GCF_000001405.39_GRCh38.p13_protein.faa.gz\""
   ]
  },
  {
   "cell_type": "code",
   "execution_count": null,
   "metadata": {},
   "outputs": [],
   "source": [
    "!ls"
   ]
  },
  {
   "cell_type": "markdown",
   "metadata": {},
   "source": [
    "이전에 배운 것을 기반으로 하여 fasta 파일을 읽어들여서 분자량을 계산하고,  \n",
    "이를 DataFrame으로 전환하는 코드를 작성하자. "
   ]
  },
  {
   "cell_type": "code",
   "execution_count": null,
   "metadata": {},
   "outputs": [],
   "source": [
    "\n",
    "import pandas as pd\n",
    "from pyfaidx import Fasta\n",
    "\n",
    "def MolWeight(proteinsequence):\n",
    "# 분자량을 구하는 함수 \n",
    "# proteinsequence 에 아미노산 서열을 받고 \n",
    "# MW 에는 각각의 아미노산과 분자량의 딕셔너리가 있다. \n",
    "    MW = {'G':57.05,\n",
    "          'A':71.09,\n",
    "          'S':87.08,\n",
    "          'T':101.11,\n",
    "          'C':103.15,\n",
    "          'V':99.14,\n",
    "          'L':113.16,\n",
    "          'I':113.16,\n",
    "          'M':131.19,\n",
    "          'P':97.12,\n",
    "          'F':147.18,\n",
    "          'Y':163.18,\n",
    "          'W':186.21,\n",
    "          'D':115.09,\n",
    "          'E':129.12,\n",
    "          'N':114.11,\n",
    "          'Q':128.14,\n",
    "          'H':137.14,\n",
    "          'K':128.17,\n",
    "          'R':156.19,\n",
    "          'U':168.53,\n",
    "          'X':0,\n",
    "          'J':0}\n",
    "    MolecularWeight=0\n",
    "    for aa in proteinsequence:\n",
    "        MolecularWeight=MolecularWeight+MW[aa]\n",
    "    return(MolecularWeight)\n"
   ]
  },
  {
   "cell_type": "code",
   "execution_count": null,
   "metadata": {},
   "outputs": [],
   "source": [
    "import pandas as pd\n",
    "from pyfaidx import Fasta\n",
    "\n",
    "#fasta 파일을 읽는다. \n",
    "Human = Fasta('GCF_000001405.39_GRCh38.p13_protein.faa')\n",
    "name = {}\n",
    "sequences = {}\n",
    "\n",
    "for key in Human.keys():\n",
    "    longname = Human[key].long_name\n",
    "    sequence = str(Human[key])\n",
    "    name[key]=longname\n",
    "    sequences[key]=sequence\n",
    "\n",
    "df = pd.DataFrame(data={'description':name,'sequence':sequences})\n",
    "\n",
    "#description 에서 중간의 단백질 이름만 추출하여 'protein' 이라는 컬럼에 넣는다. \n",
    "df['protein']=df['description'].str.split('[').str[0].str.split().str[1:].str.join(' ')\n",
    "\n",
    "#sequence 에 있는 시퀀스 파일에 MolWeight 함수를 적용하여 분자량을 계산한 후 'MW' 라는 컬럼에 저장한다. \n",
    "df['MW']=df['sequence'].map(MolWeight)\n",
    "df"
   ]
  },
  {
   "cell_type": "markdown",
   "metadata": {},
   "source": [
    "코드를 수정하여 파일 이름을 주면 DataFrame 을 리턴하는 함수를 만들어 보자. "
   ]
  },
  {
   "cell_type": "code",
   "execution_count": null,
   "metadata": {},
   "outputs": [],
   "source": [
    "import pandas as pd\n",
    "from pyfaidx import Fasta\n",
    "\n",
    "def MolWeight(proteinsequence):\n",
    "# 분자량을 구하는 함수 \n",
    "# proteinsequence 에 아미노산 서열을 받고 \n",
    "# MW 에는 각각의 아미노산과 분자량의 딕셔너리가 있다. \n",
    "    MW = {'G':57.05,\n",
    "          'A':71.09,\n",
    "          'S':87.08,\n",
    "          'T':101.11,\n",
    "          'C':103.15,\n",
    "          'V':99.14,\n",
    "          'L':113.16,\n",
    "          'I':113.16,\n",
    "          'M':131.19,\n",
    "          'P':97.12,\n",
    "          'F':147.18,\n",
    "          'Y':163.18,\n",
    "          'W':186.21,\n",
    "          'D':115.09,\n",
    "          'E':129.12,\n",
    "          'N':114.11,\n",
    "          'Q':128.14,\n",
    "          'H':137.14,\n",
    "          'K':128.17,\n",
    "          'R':156.19,\n",
    "          'U':168.53,\n",
    "          'Z':0,\n",
    "          'X':0,\n",
    "          'J':0}\n",
    "    MolecularWeight=0\n",
    "    for aa in proteinsequence:\n",
    "        MolecularWeight=MolecularWeight+MW[aa]\n",
    "    return(MolecularWeight)\n",
    "\n",
    "def protein(file):\n",
    "    #파일 이름을 주면 이것을 읽어서 데이터프레임으로 반환하는 함수 \n",
    "\n",
    "    Organism = Fasta(file)\n",
    "    name = {}\n",
    "    sequences = {}\n",
    "\n",
    "    for key in Organism.keys():\n",
    "        longname = Organism[key].long_name\n",
    "        sequence = str(Organism[key])\n",
    "        name[key]=longname\n",
    "        sequences[key]=sequence\n",
    "\n",
    "    df = pd.DataFrame(data={'description':name,'sequence':sequences})\n",
    "    #description 에서 중간의 단백질 이름만 추출하여 'protein' 이라는 컬럼에 넣는다. \n",
    "    df['protein']=df['description'].str.split('[').str[0].str.split().str[1:].str.join(' ')\n",
    "    #sequence 에 있는 시퀀스 파일에 MolWeight 함수를 적용하여 분자량을 계산한 후 'MW' 라는 컬럼에 저장한다. \n",
    "    df['MW']=df['sequence'].map(MolWeight)\n",
    "    return(df)\n",
    "\n",
    "\n",
    "human = protein('GCF_000001405.39_GRCh38.p13_protein.faa')"
   ]
  },
  {
   "cell_type": "markdown",
   "metadata": {},
   "source": [
    "읽어들인 데이터프레임에서 특정한 항목만을 검색한다. "
   ]
  },
  {
   "cell_type": "code",
   "execution_count": null,
   "metadata": {},
   "outputs": [],
   "source": [
    "kinase = human[human['description'].str.contains('kinase')]\n",
    "kinase"
   ]
  },
  {
   "cell_type": "markdown",
   "metadata": {},
   "source": [
    "Serine/Theonine Protein Kinase 만 검색한다. "
   ]
  },
  {
   "cell_type": "code",
   "execution_count": null,
   "metadata": {},
   "outputs": [],
   "source": [
    "st=human[human['description'].str.contains('serine/threonine-protein kinase')]\n",
    "st"
   ]
  },
  {
   "cell_type": "markdown",
   "metadata": {},
   "source": [
    "Serine/Theronine Protein Kinase 의 MW 를 취하고, 'type' 라는 컬럼에 이를 구분할 라벨을 달아준다."
   ]
  },
  {
   "cell_type": "code",
   "execution_count": null,
   "metadata": {},
   "outputs": [],
   "source": [
    "stmw = st[['MW']]\n",
    "stmw['type']='serine/threonine'\n",
    "stmw"
   ]
  },
  {
   "cell_type": "markdown",
   "metadata": {},
   "source": [
    "동일한 방식으로 tyrosine protein kinase 를 찾는다."
   ]
  },
  {
   "cell_type": "code",
   "execution_count": null,
   "metadata": {},
   "outputs": [],
   "source": [
    "tyrosine=human[human['description'].str.contains('tyrosine-protein kinase')]\n",
    "tyrosine"
   ]
  },
  {
   "cell_type": "markdown",
   "metadata": {},
   "source": [
    "tyrosine protein kinase 에 대한 정보를 얻는다."
   ]
  },
  {
   "cell_type": "code",
   "execution_count": null,
   "metadata": {},
   "outputs": [],
   "source": [
    "tyrosinemw = tyrosine[['MW']]\n",
    "tyrosinemw['type']='tyrosine'"
   ]
  },
  {
   "cell_type": "code",
   "execution_count": null,
   "metadata": {},
   "outputs": [],
   "source": [
    "mw=pd.concat([stmw, tyrosinemw])\n",
    "mw"
   ]
  },
  {
   "cell_type": "code",
   "execution_count": null,
   "metadata": {
    "scrolled": true
   },
   "outputs": [],
   "source": [
    "import seaborn as sns\n",
    "from matplotlib import pyplot as plt\n",
    "#x와 y의 인치로 지정\n",
    "plt.figure(figsize=(15,10))\n",
    "sns.set(font_scale=1.5)\n",
    "sns.set_style(\"white\")\n",
    "g=sns.violinplot(data=mw,y='MW',x='type')\n",
    "#X축의 범위를 지정 "
   ]
  },
  {
   "cell_type": "markdown",
   "metadata": {},
   "source": [
    "\n",
    "Arabidopsis['MW']에 저장되어 있는 Arabidopsis 의 단백질 분자량 데이터와  \n",
    "Rice['MW']에 저장되어 있는 Rice의 단백질 분자량 데이터를 이용하여   \n",
    "T-Test 를 수행한다.  \n",
    "\n",
    "T-Test와 같은 기본 통계 검정을 수행하기 위하여 Scipy.stats이라는 모듈을 이용한다. \n",
    "\n",
    "https://docs.scipy.org/doc/scipy/reference/tutorial/stats.html\n",
    "\n",
    "두 개의 독립된 집단간의 결과를 비교하기 위해서는 다음 모듈을 이용한다. \n",
    "\n",
    "https://docs.scipy.org/doc/scipy/reference/generated/scipy.stats.ttest_ind.html"
   ]
  },
  {
   "cell_type": "code",
   "execution_count": null,
   "metadata": {},
   "outputs": [],
   "source": [
    "from scipy.stats import ttest_ind\n",
    "\n",
    "#두 개의 데이터에서 MW 데이터만을 취해서 numpy array 로 변환하고 t-test를 실행한다. \n",
    "serinethreonine = stmw['MW'].to_numpy()\n",
    "tyrosineMW=tyrosinemw['MW'].to_numpy()\n",
    "\n",
    "#ttest_ind(첫번째 집단이 들어있는 Numpy array, 두번째 집단의 Numpy Array )\n",
    "ttest_ind(serinethreonine,tyrosineMW)"
   ]
  },
  {
   "cell_type": "markdown",
   "metadata": {},
   "source": [
    "# 연습 \n",
    "\n",
    "human[human['description'].str.contains('protein phosphatase')]\n",
    "를 이용하면 protein phosphatase를 검색할 수 있다. \n",
    "\n",
    "이것을 serine/threonine protein kinase 를 검색한 것과 t-test 를 수행하고, violin plot 을 그려보자."
   ]
  },
  {
   "cell_type": "markdown",
   "metadata": {},
   "source": [
    "## ANOVA와 Post-hoc analysis \n",
    "\n",
    "T-test는 두 개의 그룹의 비교를 위한 것이고, 만약 3개 이상의 집단을 비교하기 위해서는 다음과 같은 절차를 따라야 한다. \n",
    "\n",
    "ANOVA : 각 그룹간의 차이가 존재하는가를 검정 \n",
    "Post-hoc analysis : 사후검정을 통하여 각각의 집단 간의 유의적인 변화를 조사한다. \n",
    "\n",
    "만약 3개 이상의 그룹간의 차이가 존재하는 경우, 각각의 그룹간의 비교를 수행하여 각각의 차이가 존재하는지를 본다. \n",
    "이때 단순한 T-test 분석을 수행하면 안되고, 다중 비교에 따라서 P-Value를 보정하는 테스트를 사용해야 함. "
   ]
  },
  {
   "cell_type": "markdown",
   "metadata": {},
   "source": [
    "4개 그룹을 비교하기 위하여 'protein phosphatase' 와 'protein ligase' 를 찾은 후 별도의 데이터프레임에 저장한다. "
   ]
  },
  {
   "cell_type": "code",
   "execution_count": null,
   "metadata": {},
   "outputs": [],
   "source": [
    "phosphatase=human[human['description'].str.contains('protein phosphatase')]\n",
    "phosphatasemw =phosphatase[['MW']]\n",
    "phosphatasemw['type']='phosphatase'\n",
    "\n",
    "ligase=human[human['description'].str.contains('protein ligase')]\n",
    "ligasemw =ligase[['MW']]\n",
    "ligasemw['type']='ligase'\n"
   ]
  },
  {
   "cell_type": "markdown",
   "metadata": {},
   "source": [
    "4개의 데이터프레임을 통합한다. "
   ]
  },
  {
   "cell_type": "code",
   "execution_count": null,
   "metadata": {},
   "outputs": [],
   "source": [
    "mw=pd.concat([stmw,tyrosinemw,phosphatasemw,ligasemw])\n",
    "mw"
   ]
  },
  {
   "cell_type": "code",
   "execution_count": null,
   "metadata": {},
   "outputs": [],
   "source": [
    "import seaborn as sns\n",
    "from matplotlib import pyplot as plt\n",
    "#x와 y의 인치로 지정\n",
    "plt.figure(figsize=(15,10))\n",
    "sns.set(font_scale=1.5)\n",
    "sns.set_style(\"white\")\n",
    "g=sns.violinplot(data=mw,y='MW',x='type')\n",
    "#X축의 범위를 지정 \n"
   ]
  },
  {
   "cell_type": "markdown",
   "metadata": {},
   "source": [
    "일단 4개의 분포가 통계학적으로 다른지를 검사한다.  \n",
    "이를 위해서는 One-way anova (F-test)를 수행한다. "
   ]
  },
  {
   "cell_type": "code",
   "execution_count": null,
   "metadata": {},
   "outputs": [],
   "source": [
    "from scipy.stats import f_oneway\n",
    "f_oneway(stmw['MW'].to_numpy(),tyrosinemw['MW'].to_numpy(),phosphatasemw['MW'].to_numpy(),ligasemw['MW'].to_numpy())"
   ]
  },
  {
   "cell_type": "markdown",
   "metadata": {},
   "source": [
    "이 결과는 4개의 분포가 통계학적으로 다른지만을 의미하고, 어떤 데이터가 서로 어떻게 상이한지를 이야기하지 못한다. \n",
    "\n",
    "각각의 샘플 간의 차이를 알기 위해서는 사후 분석 (Post-Hoc Analysis)를 수행해야 한다.  \n",
    "사후 분석를 수행하기 위해서는 이전에 만든 4개의 데이터가 통합된 데이터프레임을 사용한다. "
   ]
  },
  {
   "cell_type": "markdown",
   "metadata": {},
   "source": [
    "사후분석을 수행하기 위하여 Tukey's hsd (honestly significant difference)를 수행한다.   \n",
    "\n",
    "Tukey's HSD(honestly significant difference) test는 studentized range distribution을 이용하여 \n",
    "모든 가능한 두 수준들의 평균간의 차이가 있는지를 검정(pairwise post-hoc testing using Tukey HSD test)하는 방법이다. \n",
    "\n",
    "T-test 를 여러번 수행하고, 여기에 따라서 p-value를 보정헌더,\n",
    "\n",
    "https://rfriend.tistory.com/132 \n",
    "\n",
    "Tukey's HSD를 수행하기 위해서는 우리가 수행한 것처럼 모든 데이터셋이 통합되어 있는 데이터프레임이 필요하며, \n",
    "여기서 비교할 값이 들어있는 컬럼과, 데이터의 종류가 들어있는 컬럼을 별도로 지정해 준다. "
   ]
  },
  {
   "cell_type": "code",
   "execution_count": null,
   "metadata": {},
   "outputs": [],
   "source": [
    "from statsmodels.stats.multicomp import pairwise_tukeyhsd\n",
    "\n",
    "mc=pairwise_tukeyhsd(mw['MW'],mw['type'])\n",
    "print (mc)"
   ]
  },
  {
   "cell_type": "markdown",
   "metadata": {},
   "source": [
    "Ubiquitin ligase 와 phosphatase 는 보정 p value가 0.001 : 차이가 없다는 귀무가설을 기각   \n",
    "Ubiquitin ligase 와 s/t kinasee 는 보정 p value가 0.001 : 차이가 없다는 귀무가설을 기각   \n",
    "Ubiquitin ligase 와 tyrosine kinase 는 보정 p value가 0.58 : 차이가 없다는 귀무가설을 기각하지 못함  \n",
    "phosphatase와 s/t kinasee 는 보정 p value가 0.9 : 차이가 없다는 귀무가설을 기각   \n",
    "phosphatase와 tyrosine kinase 는 보정 p value가 0.001 : 차이가 없다는 귀무가설을 기각   \n",
    "serine/threonine 과 와 tyrosine kinase 는 보정 p value가 0.58 : 차이가 없다는 귀무가설을 기각하지 못함. "
   ]
  },
  {
   "cell_type": "markdown",
   "metadata": {},
   "source": [
    "serine/threonine kinase와 tyrosine kinase 만을 t-test 할때에 비해서 p-value가 커졌고, \n",
    "다중비교 상황에서는 귀무가설을 기각하지 못한다는 것을 알 수 있다. \n",
    "\n",
    "여러 종류의 샘플을 비교할 때의 p-value와 샘플 2종간의 p-value 의 차이를 알 수 있다.   \n",
    "다중 비교의 상황이 될 때는 샘플간의 차이의 유의성을 검정하기 위해서는 좀 더 엄격한 기준으로 검사가 필요하다. "
   ]
  },
  {
   "cell_type": "markdown",
   "metadata": {},
   "source": [
    "# 연습 \n",
    "\n",
    "human[human['description'].str.contains('protein-coupled receptor')]  \n",
    "human[human['description'].str.contains('channel')]\n",
    "human[human['description'].str.contains('transporter')]\n",
    "\n",
    "1. 다음 3가지의 클래스의 단백질을 검색하고, \n",
    "2. MW의 차이가 3종류의 단백질에 대해서 있는지 F-test를 실시하고, \n",
    "3. 사후검정(Tukey's hsd)을 통하여 각각의 차이가 존재하는지를 확인한다. "
   ]
  },
  {
   "cell_type": "markdown",
   "metadata": {},
   "source": [
    "## 회귀 분석 \n",
    "\n",
    "회귀 분석은 데이터 간의 상관관계를 추정하는 분석이다.   \n",
    "지난주에 사용한 CCLE 데이터셋을 불러오자.    \n"
   ]
  },
  {
   "cell_type": "code",
   "execution_count": null,
   "metadata": {},
   "outputs": [],
   "source": [
    "import pandas as pd \n",
    "\n",
    "#sample_info를 읽고 lineage가 'breast'인 세포주만을 넣는다.  \n",
    "sample_info = pd.read_csv('sample_info.csv')\n",
    "breast = sample_info[sample_info['lineage']=='breast']\n",
    "\n",
    "#expression data를 읽고 유전자 컬럼 이름을 수정한다. \n",
    "expression = pd.read_csv('CCLE_expression.csv',sep=\",\")\n",
    "expression.columns=[line.split(' ')[0] for line in expression.columns.to_list()]\n",
    "expression.rename(columns={'Unnamed:':'Cell Line'},inplace= True)\n",
    "\n",
    "breastexpress = pd.merge(breast, expression, left_on='DepMap_ID', right_on='Cell Line',how='inner')\n",
    "#불필요한 컬럼을 리스트로 만들어 삭제한다. \n",
    "removecolumnlist = breast.columns.to_list()\n",
    "removecolumnlist.remove('stripped_cell_line_name')\n",
    "removecolumnlist.append('Cell Line')\n",
    "breastexpress.drop(removecolumnlist,axis=1,inplace=True)\n",
    "breastexpress.set_index('stripped_cell_line_name',inplace=True)\n",
    "\n",
    "#variation이 큰 것으로 2000개 추출\n",
    "Top2000=breastexpress.var(axis=0).sort_values(ascending=False)[0:2000]\n",
    "val = breastexpress[Top2000.index.to_list()].transpose()\n",
    "val"
   ]
  },
  {
   "cell_type": "markdown",
   "metadata": {},
   "source": [
    "지난주에 각각의 correlation matrix "
   ]
  },
  {
   "cell_type": "code",
   "execution_count": null,
   "metadata": {},
   "outputs": [],
   "source": [
    "corr = val.corr()\n",
    "corr"
   ]
  },
  {
   "cell_type": "code",
   "execution_count": null,
   "metadata": {},
   "outputs": [],
   "source": [
    "corr[['MCF7']].sort_values(by='MCF7',ascending=False)"
   ]
  },
  {
   "cell_type": "code",
   "execution_count": null,
   "metadata": {},
   "outputs": [],
   "source": [
    "import seaborn as sns\n",
    "import seaborn as sns\n",
    "from matplotlib import pyplot as plt\n",
    "#x와 y의 인치로 지정\n",
    "plt.figure(figsize=(15,10))\n",
    "sns.set(font_scale=1.5)\n",
    "sns.set_style(\"white\")\n",
    "g=sns.lmplot(x='MCF7',y='KPL1',data=val)"
   ]
  },
  {
   "cell_type": "markdown",
   "metadata": {},
   "source": [
    "### 피어슨 상관계수 Pearson Correlation Coefficients \n",
    "\n",
    "두 변수가 선형 관계를 이루고, 두 값이 정규 분포를 이룬다는 가정을 통해 얼마나 선형 관계에 근접했는지를 추정한다. \n",
    "지난 주에 pandas 를 이용하여 \n"
   ]
  },
  {
   "cell_type": "code",
   "execution_count": null,
   "metadata": {},
   "outputs": [],
   "source": [
    "#부위에 대한 correlation을 살펴보자. \n",
    "\n",
    "from scipy.stats import pearsonr\n",
    "\n",
    "MCF7 = val['MCF7'].to_numpy()\n",
    "KPL1 = val['KPL1'].to_numpy()\n",
    "\n",
    "#잎과 꽃의 correlation coeffient는 0.63, P=0.0\n",
    "pearsonr(MCF7,KPL1)"
   ]
  },
  {
   "cell_type": "markdown",
   "metadata": {},
   "source": [
    "## Spearman correlation \n",
    "\n",
    "각각의 분포를 순위로 정렬한 후 이의 상관관계를 비교한다. \n",
    "만약 선형 관계로 상관관계를 갖지 않는 경우에는 Pearson 보다는 Spearman Correlation이 더 상관 관계가 높다. \n",
    "\n"
   ]
  },
  {
   "cell_type": "code",
   "execution_count": null,
   "metadata": {},
   "outputs": [],
   "source": [
    "from scipy.stats import spearmanr\n",
    "spearmanr(MCF7,KPL1)"
   ]
  },
  {
   "cell_type": "markdown",
   "metadata": {},
   "source": [
    "Heatmap 을 그린다. "
   ]
  },
  {
   "cell_type": "code",
   "execution_count": null,
   "metadata": {},
   "outputs": [],
   "source": [
    "import numpy as np \n",
    "from matplotlib import pyplot as plt\n",
    "p=plt.figure(figsize=(30,30))\n",
    "sns.set(font_scale=0.75)\n",
    "g=sns.heatmap(corr, annot=True)\n",
    "p.savefig('correlation-heatmap.pdf')"
   ]
  },
  {
   "cell_type": "markdown",
   "metadata": {},
   "source": [
    "단순한 Correlation 만으로는 복수의 샘플에서 특성이 유사한 것을 쉽게 찾아내기 어렵다. "
   ]
  },
  {
   "cell_type": "markdown",
   "metadata": {},
   "source": [
    "## Clustering and PCA\n",
    "\n",
    "샘플의 특성을 비교하여 비슷한 것끼리 묶는 기법에 대해서 알아보도록 한다.  \n",
    "여기에는 여러가지 방법이 있는데, 이번 강의에서는  다음 3 가지 방법에 대해서 알아본다.   \n",
    "\n",
    "- Hierarchical clustering (계층적 군집화)\n",
    "- Principal Component Analysis (PCA: 주성분 분석) \n",
    "- K-mean Clustering "
   ]
  },
  {
   "cell_type": "markdown",
   "metadata": {},
   "source": [
    "Clustering 을 하기 전에는 일반적으로 정규화 (Normalize)를 거친다. \n",
    "모든 데이터를 최대값은 1, 최소값은 0 기준으로 맞추는 작업이다. \n",
    "\n",
    "정규화를 거쳐서 보다 샘플간의 비교를 용이하게 할 수 있다. "
   ]
  },
  {
   "cell_type": "code",
   "execution_count": null,
   "metadata": {},
   "outputs": [],
   "source": [
    "from sklearn.preprocessing import normalize\n",
    "\n",
    "#만약 세포주 별로 클러스터링을 하고 싶다면, 세포주를 열로, 유전자를 행으로 재배열한다. \n",
    "t=val.transpose()\n",
    "normal = normalize(t)\n",
    "t"
   ]
  },
  {
   "cell_type": "markdown",
   "metadata": {},
   "source": [
    "Hierarchical Clustering 을 수행한다.  \n",
    "Clustering을 수행하는 방법에는 여러가지 알고리즘이 있으나 여기서에서는 'ward' method를 사용한다. \n",
    "\n",
    "https://www.youtube.com/watch?v=vg1w5ZUF5lA\n"
   ]
  },
  {
   "cell_type": "code",
   "execution_count": null,
   "metadata": {},
   "outputs": [],
   "source": [
    "import scipy.cluster.hierarchy as shc\n",
    "from scipy.cluster.hierarchy import cut_tree\n",
    "\n",
    "#그림 크리를 지정한다. \n",
    "plt.figure(figsize=(20, 15))  \n",
    "plt.title(\"Dendrograms\") \n",
    "#클러스터링을 수행한다.  \n",
    "z=shc.linkage(normal, method='ward')\n",
    "\n",
    "#Dendrogram을 그린다. \n",
    "dend = shc.dendrogram(z,labels = t.index, leaf_font_size=10)"
   ]
  },
  {
   "cell_type": "markdown",
   "metadata": {},
   "source": [
    "Hieratchical Clustering 은 몇 개의 집단으로 나눌 것을 생각하지 않고, 일단 Dendrogram 을 만든 다음, "
   ]
  },
  {
   "cell_type": "code",
   "execution_count": null,
   "metadata": {},
   "outputs": [],
   "source": [
    "plt.figure(figsize=(20, 15))  \n",
    "plt.title(\"Dendrograms\")  \n",
    "dend = shc.dendrogram(z,labels = t.index, color_threshold=1, leaf_font_size=10)"
   ]
  },
  {
   "cell_type": "code",
   "execution_count": null,
   "metadata": {},
   "outputs": [],
   "source": [
    "plt.figure(figsize=(20, 15))  \n",
    "plt.title(\"Dendrograms\")  \n",
    "dend = shc.dendrogram(z,labels = t.index, color_threshold=.75, leaf_font_size=10)"
   ]
  },
  {
   "cell_type": "code",
   "execution_count": null,
   "metadata": {},
   "outputs": [],
   "source": [
    " celllieelist = t.index.to_list()\n",
    " celllieelist"
   ]
  },
  {
   "cell_type": "markdown",
   "metadata": {},
   "source": [
    "cut_tree 를 사용하면 지정된 숫자로 트리를 분리하고, \n",
    "각각의 항목에 대한 클러스터 숫자를 지정해 준다.  "
   ]
  },
  {
   "cell_type": "code",
   "execution_count": null,
   "metadata": {},
   "outputs": [],
   "source": [
    "t"
   ]
  },
  {
   "cell_type": "code",
   "execution_count": null,
   "metadata": {},
   "outputs": [],
   "source": [
    "여기서 나오는 숫자는 각각의 행의 세포주가 트리를 통하여 어떤 클러스터로 지정되었는지에 대한 숫자이다. \n",
    "SKBR3, MCF7, KPL1 은 첫번째 클러스터 (0) 로 지정되었다. "
   ]
  },
  {
   "cell_type": "code",
   "execution_count": null,
   "metadata": {},
   "outputs": [],
   "source": [
    "cluster = cut_tree(z,4).flatten().tolist()\n",
    "cluster"
   ]
  },
  {
   "cell_type": "code",
   "execution_count": null,
   "metadata": {},
   "outputs": [],
   "source": [
    "클러스터 지정을 데이터프레임으로 만든다. "
   ]
  },
  {
   "cell_type": "code",
   "execution_count": null,
   "metadata": {},
   "outputs": [],
   "source": [
    "celldata = pd.DataFrame({'cluster':cluster},index=t.index)\n",
    "celldata"
   ]
  },
  {
   "cell_type": "code",
   "execution_count": null,
   "metadata": {},
   "outputs": [],
   "source": [
    "각각의 클러스터를 분리한다. "
   ]
  },
  {
   "cell_type": "code",
   "execution_count": null,
   "metadata": {},
   "outputs": [],
   "source": [
    "cluster0=celldata[celldata['cluster']==0]\n",
    "cluster1=celldata[celldata['cluster']==1]\n",
    "cluster2=celldata[celldata['cluster']==2]\n",
    "cluster3=celldata[celldata['cluster']==3]"
   ]
  },
  {
   "cell_type": "code",
   "execution_count": null,
   "metadata": {},
   "outputs": [],
   "source": [
    "cluster0"
   ]
  },
  {
   "cell_type": "code",
   "execution_count": null,
   "metadata": {},
   "outputs": [],
   "source": [
    "cluster1"
   ]
  },
  {
   "cell_type": "markdown",
   "metadata": {},
   "source": [
    "클러스터에 있는 세포주 이름을 이용하여, 각각의 클러스터를 형성하는 세포주의 발현 데이터를 가져올 수 있다.  \n",
    "cluster0 의 발현 데이터 "
   ]
  },
  {
   "cell_type": "code",
   "execution_count": null,
   "metadata": {},
   "outputs": [],
   "source": [
    "t.loc[cluster0.index]"
   ]
  },
  {
   "cell_type": "markdown",
   "metadata": {},
   "source": [
    "Cluster 1 의 발현 데이터 "
   ]
  },
  {
   "cell_type": "code",
   "execution_count": null,
   "metadata": {},
   "outputs": [],
   "source": [
    "\n",
    "t.loc[cluster1.index]"
   ]
  },
  {
   "cell_type": "markdown",
   "metadata": {},
   "source": [
    "원래의 발현 데이터를 클러스터링 된 순으로 재정렬해 보자.   \n",
    "일단 shc.leaves_list(z) 로 순서가 어떤 순으로 되어있는지를 알아보자. "
   ]
  },
  {
   "cell_type": "code",
   "execution_count": null,
   "metadata": {},
   "outputs": [],
   "source": [
    "neworder = shc.leaves_list(z)\n",
    "neworder"
   ]
  },
  {
   "cell_type": "markdown",
   "metadata": {},
   "source": [
    "클러스터링 된 순서는 원래의 순서를 기준으로 22번째, 0번째, 12번째, 1번째....로 재정렬되었다.   \n",
    "이 정보를 이용하여 원래의 데이터를 재정렬한다. "
   ]
  },
  {
   "cell_type": "markdown",
   "metadata": {},
   "source": [
    "세포의 이름이 들어있는 t.index 를 Numpy 로 바꾼 다음, neworder 를 이용하여 순서를 바꾼다. "
   ]
  },
  {
   "cell_type": "code",
   "execution_count": null,
   "metadata": {},
   "outputs": [],
   "source": [
    "t.index.to_numpy()"
   ]
  },
  {
   "cell_type": "markdown",
   "metadata": {},
   "source": [
    "Numpy array[새로운 순서가 들어있는 Numpy Array] 를 이용하여 순서를 바꿀 수 있다. "
   ]
  },
  {
   "cell_type": "code",
   "execution_count": null,
   "metadata": {},
   "outputs": [],
   "source": [
    "#Clustering의 순서가 반영된 세포주 순서. \n",
    "\n",
    "neworderindex = t.index.to_numpy()[neworder]\n",
    "neworderindex"
   ]
  },
  {
   "cell_type": "markdown",
   "metadata": {},
   "source": [
    "순서가 변경된 인덱스를 이용하여 데이터프레임 내의 열의 순서를 바꾸자. \n",
    "\n",
    "데이터프레임 내에서 인덱스를 기준으로 바꾸기 위해서는 세포주 순서를 리스트로 바꾸고,   \n",
    "이를 .loc 을 이용하여 억세스하자.   "
   ]
  },
  {
   "cell_type": "code",
   "execution_count": null,
   "metadata": {},
   "outputs": [],
   "source": [
    "reordered = t.loc[neworderindex.tolist()]\n",
    "reordered"
   ]
  },
  {
   "cell_type": "code",
   "execution_count": null,
   "metadata": {},
   "outputs": [],
   "source": [
    "plt.figure(figsize=(10, 10))  \n",
    "sns.heatmap(reordered)"
   ]
  },
  {
   "cell_type": "code",
   "execution_count": null,
   "metadata": {},
   "outputs": [],
   "source": [
    "같은 발현 패턴을 가진 세포주 끼리 정렬하였으므로, 이웃의 세포주와는 발현 패턴이 비슷하다. \n",
    "그러나 아직 유전자 순으로는 클러스터링을 하지 않았다. \n",
    "\n",
    "이번에는 유전자를 기준으로 클러스터링을 해 보자.\n"
   ]
  },
  {
   "cell_type": "code",
   "execution_count": null,
   "metadata": {},
   "outputs": [],
   "source": [
    "from sklearn.preprocessing import normalize\n",
    "normal = normalize(val)\n",
    "data_normalized = pd.DataFrame(normal, columns=val.columns, index = val.index)\n",
    "val"
   ]
  },
  {
   "cell_type": "markdown",
   "metadata": {},
   "source": [
    "이전과는 달리 이번에는 유전자가 행, 세포주가 열이 된다.  "
   ]
  },
  {
   "cell_type": "code",
   "execution_count": null,
   "metadata": {},
   "outputs": [],
   "source": [
    "data_normalized"
   ]
  },
  {
   "cell_type": "markdown",
   "metadata": {},
   "source": [
    "Dendrogram을 그린다.\n",
    "실행에 시간이 다소 (수 분) 걸리므로 기다릴 것. "
   ]
  },
  {
   "cell_type": "code",
   "execution_count": null,
   "metadata": {},
   "outputs": [],
   "source": [
    "import scipy.cluster.hierarchy as shc\n",
    "from scipy.cluster.hierarchy import cut_tree\n",
    "plt.figure(figsize=(20, 15))  \n",
    "plt.title(\"Dendrograms\")  \n",
    "z=shc.linkage(normal, method='ward')\n",
    "dend = shc.dendrogram(z,labels = val.index, leaf_font_size=10)"
   ]
  },
  {
   "cell_type": "markdown",
   "metadata": {},
   "source": [
    "다른 색으로 트리를 구분하는 기준을 3 으로 지정한다. "
   ]
  },
  {
   "cell_type": "code",
   "execution_count": null,
   "metadata": {},
   "outputs": [],
   "source": [
    "plt.figure(figsize=(20, 15))  \n",
    "plt.title(\"Dendrograms\")  \n",
    "dend = shc.dendrogram(z,labels = val.index, color_threshold=3, leaf_font_size=10)"
   ]
  },
  {
   "cell_type": "markdown",
   "metadata": {},
   "source": [
    "14개로 클러스터를 나눔"
   ]
  },
  {
   "cell_type": "code",
   "execution_count": null,
   "metadata": {},
   "outputs": [],
   "source": [
    "cluster = cut_tree(z,14).flatten().tolist()\n",
    "celldata = pd.DataFrame({'cluster':cluster},index=val.index)\n",
    "celldata.sort_values(by='cluster')"
   ]
  },
  {
   "cell_type": "code",
   "execution_count": null,
   "metadata": {},
   "outputs": [],
   "source": [
    "celldata[celldata['cluster']==0]"
   ]
  },
  {
   "cell_type": "markdown",
   "metadata": {},
   "source": [
    "이전에 한 것과 동일한 방법으로 clustering된 유전자의 순서를 불러온다. "
   ]
  },
  {
   "cell_type": "code",
   "execution_count": null,
   "metadata": {},
   "outputs": [],
   "source": [
    "neworder_genes = shc.leaves_list(z)\n",
    "neworder_genes"
   ]
  },
  {
   "cell_type": "code",
   "execution_count": null,
   "metadata": {},
   "outputs": [],
   "source": [
    "neworderindex_genes = val.index.to_numpy()[neworder_genes]\n",
    "neworderindex_genes"
   ]
  },
  {
   "cell_type": "markdown",
   "metadata": {},
   "source": [
    "세포주와 유전자 이름을 클러스터링 한 결과의 순서대로 바꾼다. "
   ]
  },
  {
   "cell_type": "code",
   "execution_count": null,
   "metadata": {},
   "outputs": [],
   "source": [
    "#유전자로 클러스터링 한 순서대로 유전자 순서를 바꾼다. \n",
    "reordered_gene = val.loc[neworderindex_genes.tolist()]\n",
    "#이전의 세포주로 클러스터링 한 순서대로 세포주 순서를 바꾼다. \n",
    "all_new_ordered_gene = reordered_gene[neworderindex]\n",
    "all_new_ordered_gene"
   ]
  },
  {
   "cell_type": "markdown",
   "metadata": {},
   "source": [
    "이제 새롭개 재정렬된 결과로 heatmap을 그려 보자. \n",
    "seaborn 의 clustermap 결과와 흡사한 결과가 나온다. "
   ]
  },
  {
   "cell_type": "code",
   "execution_count": null,
   "metadata": {},
   "outputs": [],
   "source": [
    "plt.figure(figsize=(10, 10))  \n",
    "sns.heatmap(all_new_ordered_gene)"
   ]
  },
  {
   "cell_type": "markdown",
   "metadata": {},
   "source": [
    "유전자와 세포주가 발현 유사성에 맞게 재조정된 파일을 엑셀로 익스포트하여, 결과를 엑셀로 살펴보자. "
   ]
  },
  {
   "cell_type": "code",
   "execution_count": null,
   "metadata": {},
   "outputs": [],
   "source": [
    "all_new_ordered_gene.to_excel('breast.xlsx')"
   ]
  },
  {
   "cell_type": "markdown",
   "metadata": {},
   "source": [
    "엑셀로 익스포트한 결과를 값에 따라서 조건부 서식을 이용하여 표시하면 특정한 세포주에서 과발현, 혹은 적게 발현되는 클러스터링된 유전자를 쉽게 찾아볼 수 있다."
   ]
  },
  {
   "cell_type": "markdown",
   "metadata": {},
   "source": [
    "## PCA\n",
    "\n",
    "principle compotent analysis 로 세포주의 군집 분석을 수행하자. \n",
    "PCA 도 처리 전에 동일한 벙법으로 normalize를 수행한다. "
   ]
  },
  {
   "cell_type": "code",
   "execution_count": null,
   "metadata": {},
   "outputs": [],
   "source": [
    "from sklearn.preprocessing import normalize\n",
    "t=val.transpose()\n",
    "normal = normalize(t)\n",
    "data_normalized = pd.DataFrame(normal, columns=t.columns, index = t.index)"
   ]
  },
  {
   "cell_type": "code",
   "execution_count": null,
   "metadata": {},
   "outputs": [],
   "source": [
    "from sklearn import decomposition\n",
    "\n",
    "#2차원 PCA를 수행하자. n_components=2 를 설정한다. \n",
    "pca = decomposition.PCA(n_components=2)\n",
    "pca.fit(normal)"
   ]
  },
  {
   "cell_type": "code",
   "execution_count": null,
   "metadata": {},
   "outputs": [],
   "source": [
    "principalComponents = pca.fit_transform(normal)\n",
    "principalDf = pd.DataFrame(data = principalComponents, columns = ['principal component 1', 'principal component 2'])\n",
    "#principal component 의 인덱스에 세포주의 이름을 지정해 준다. \n",
    "principalDf.index = t.index"
   ]
  },
  {
   "cell_type": "markdown",
   "metadata": {},
   "source": [
    "약 2천개의 유전자로 구성되어 있던 데이터가 2개의 데이터로 축소되었다. "
   ]
  },
  {
   "cell_type": "code",
   "execution_count": null,
   "metadata": {},
   "outputs": [],
   "source": [
    "principalDf"
   ]
  },
  {
   "cell_type": "markdown",
   "metadata": {},
   "source": [
    "이것을 그대로 Scatter plot 으로 출력해 보자. "
   ]
  },
  {
   "cell_type": "code",
   "execution_count": null,
   "metadata": {},
   "outputs": [],
   "source": [
    "import seaborn as sns\n",
    "import matplotlib.pyplot as plt\n",
    "\n",
    "plt.figure(figsize=(20,20))\n",
    "p=sns.scatterplot(x=\"principal component 1\",y=\"principal component 2\",data=principalDf)\n",
    "\n",
    "for index in principalDf.index.to_list():\n",
    "    x = principalDf.loc[index]['principal component 1']\n",
    "    y = principalDf.loc[index]['principal component 2']\n",
    "    p.text(x+0.01,y,index,size='large',color='black')"
   ]
  },
  {
   "cell_type": "markdown",
   "metadata": {},
   "source": [
    "3차원 PCA를 수행한다면?"
   ]
  },
  {
   "cell_type": "code",
   "execution_count": null,
   "metadata": {},
   "outputs": [],
   "source": [
    "pca = decomposition.PCA(n_components=3)\n",
    "pca.fit(normal)\n",
    "principalComponents = pca.fit_transform(normal)\n",
    "principalDf = pd.DataFrame(data = principalComponents, columns = ['PC1', 'PC2','PC3'])\n",
    "principalDf.index = t.index\n",
    "principalDf\n"
   ]
  },
  {
   "cell_type": "code",
   "execution_count": null,
   "metadata": {},
   "outputs": [],
   "source": [
    "from mpl_toolkits.mplot3d import Axes3D\n",
    "\n",
    "fig = plt.figure(figsize=(30,30))\n",
    "ax = fig.add_subplot(111, projection = '3d')\n",
    "\n",
    "x = principalDf['PC1']\n",
    "y = principalDf['PC2']\n",
    "z = principalDf['PC3']\n",
    "\n",
    "ax.set_xlabel(\"PC1\")\n",
    "ax.set_ylabel(\"PC2\")\n",
    "ax.set_zlabel(\"PC3\")\n",
    "\n",
    "ax.scatter(x, y, z)\n",
    "\n",
    "\n",
    "for index in principalDf.index.to_list():\n",
    "    x = principalDf.loc[index]['PC1']\n",
    "    y = principalDf.loc[index]['PC2']\n",
    "    z = principalDf.loc[index]['PC3']\n",
    "    ax.text(x+0.01,y,z,index,size='large',color='black')"
   ]
  },
  {
   "cell_type": "markdown",
   "metadata": {},
   "source": [
    "PCA는 다차원 (수천 개의 유전자 발현 데이터)를 2,3차원으로 축소하여 각각의 구분을 쉽게 해주지만, \n",
    "그 자체만으로는 classification을 해주지 않는다. \n",
    "\n",
    "원래 세포주의 classification 데이터가 있다면 이를 이용하여 다른 색으로 칠해보자. "
   ]
  },
  {
   "cell_type": "markdown",
   "metadata": {},
   "source": [
    "Breast Cancer 에서 lineage_sub_subtype 관련 데이터를 가지고 이것을 칼라로 표시해보자.  \n",
    "lineage_sub_subtype에 NaN 이 있으므로 이를 적절히 처리해야 한다. "
   ]
  },
  {
   "cell_type": "code",
   "execution_count": null,
   "metadata": {},
   "outputs": [],
   "source": [
    "breast"
   ]
  },
  {
   "cell_type": "markdown",
   "metadata": {},
   "source": [
    "'lineage_sub_subtype'의 'NaN'을 'unknown'으로 설정한다. "
   ]
  },
  {
   "cell_type": "code",
   "execution_count": null,
   "metadata": {},
   "outputs": [],
   "source": [
    "breast['lineage_sub_subtype']=breast['lineage_sub_subtype'].fillna(\"unknown\")\n",
    "b=breast[['stripped_cell_line_name','lineage_sub_subtype']]\n",
    "b"
   ]
  },
  {
   "cell_type": "code",
   "execution_count": null,
   "metadata": {},
   "outputs": [],
   "source": [
    "b['lineage_sub_subtype'].unique()"
   ]
  },
  {
   "cell_type": "markdown",
   "metadata": {},
   "source": [
    "각각의 표현형에 적절한 색을 지정해 주고 이것을 'color' 라는 컬럼으로 저장한다. "
   ]
  },
  {
   "cell_type": "code",
   "execution_count": null,
   "metadata": {},
   "outputs": [],
   "source": [
    "colordict = {'ERneg_HER2pos':'red', 'ERpos_HER2neg':'blue', 'ERneg_HER2neg':'green', 'ERpos_HER2pos':'violet','unknown':'black'}\n",
    "b['color']=b['lineage_sub_subtype'].map(colordict)"
   ]
  },
  {
   "cell_type": "code",
   "execution_count": null,
   "metadata": {},
   "outputs": [],
   "source": [
    "b"
   ]
  },
  {
   "cell_type": "markdown",
   "metadata": {},
   "source": [
    "PCA 데이터와 세포주의 데이터를 merge 한다. "
   ]
  },
  {
   "cell_type": "code",
   "execution_count": null,
   "metadata": {},
   "outputs": [],
   "source": [
    "PC=pd.merge(principalDf,b,left_index=True,right_on='stripped_cell_line_name',how='inner').set_index('stripped_cell_line_name')\n",
    "PC"
   ]
  },
  {
   "cell_type": "markdown",
   "metadata": {},
   "source": [
    "색을 추가하여 플롯을 한다. "
   ]
  },
  {
   "cell_type": "code",
   "execution_count": null,
   "metadata": {},
   "outputs": [],
   "source": [
    "import seaborn as sns\n",
    "import matplotlib.pyplot as plt\n",
    "\n",
    "plt.figure(figsize=(20,20))\n",
    "sns.set(font_scale=0.75)\n",
    "p=sns.scatterplot(x=\"PC1\",y=\"PC2\",hue='lineage_sub_subtype',s=200, data=PC)\n",
    "\n",
    "for index in principalDf.index.to_list():\n",
    "    x = PC.loc[index]['PC1']\n",
    "    y = PC.loc[index]['PC2']\n",
    "    p.text(x+0.005,y-0.0025,index,size='large',color='black')"
   ]
  },
  {
   "cell_type": "code",
   "execution_count": null,
   "metadata": {},
   "outputs": [],
   "source": [
    "from mpl_toolkits.mplot3d import Axes3D\n",
    "\n",
    "fig = plt.figure(figsize=(30,30))\n",
    "ax = fig.add_subplot(111, projection = '3d')\n",
    "\n",
    "x = PC['PC1']\n",
    "y = PC['PC2']\n",
    "z = PC['PC3']\n",
    "c = PC['color']\n",
    "\n",
    "ax.set_xlabel(\"PC1\")\n",
    "ax.set_ylabel(\"PC2\")\n",
    "ax.set_zlabel(\"PC3\")\n",
    "\n",
    "ax.scatter(x, y, z, color=c, s=200)\n",
    "\n",
    "\n",
    "for index in PC.index.to_list():\n",
    "    x = PC.loc[index]['PC1']\n",
    "    y = PC.loc[index]['PC2']\n",
    "    z = PC.loc[index]['PC3']\n",
    "    ax.text(x+0.01,y,z,index,size='large',color='black')"
   ]
  },
  {
   "cell_type": "markdown",
   "metadata": {},
   "source": [
    "# K-mean Clustering\n",
    "\n",
    "PCA 자체는 외부의 Classification 을 이용하여 구분을 표시할 수 있으나, Classification 을 할 수는 없다.  \n",
    "K-mean clustering을 이용하여 지정된 갯수로 분류를 수행할 수 있다. \n",
    "\n",
    "PCA와 동일하게 scikit-learn에서 KMeans 을 임포트한 다음, K-mean clustering을 수행한다. "
   ]
  },
  {
   "cell_type": "code",
   "execution_count": null,
   "metadata": {},
   "outputs": [],
   "source": [
    "from sklearn.cluster import KMeans \n",
    "kmeans = KMeans(n_clusters=4)\n",
    "kmeans.fit(normal)"
   ]
  },
  {
   "cell_type": "code",
   "execution_count": null,
   "metadata": {},
   "outputs": [],
   "source": [
    "각각의 세포에 대한 클러스터링 결과는 kmeans.labels_ 를 통해 얻는다. "
   ]
  },
  {
   "cell_type": "code",
   "execution_count": null,
   "metadata": {},
   "outputs": [],
   "source": [
    "kmeans.labels_"
   ]
  },
  {
   "cell_type": "markdown",
   "metadata": {},
   "source": [
    "이 결과를 이전의 PC데이터에 합쳐준다. "
   ]
  },
  {
   "cell_type": "code",
   "execution_count": null,
   "metadata": {},
   "outputs": [],
   "source": [
    "PC['kmean']=kmeans.labels_\n",
    "PC"
   ]
  },
  {
   "cell_type": "markdown",
   "metadata": {},
   "source": [
    "이전과 동일한 2D PCA plot 을 출력하되, 칼라를 K-mean clustering 을 통하여 한 분류로 맞추어 주자. "
   ]
  },
  {
   "cell_type": "code",
   "execution_count": null,
   "metadata": {},
   "outputs": [],
   "source": [
    "import seaborn as sns\n",
    "import matplotlib.pyplot as plt\n",
    "\n",
    "plt.figure(figsize=(20,20))\n",
    "sns.set(font_scale=0.75)\n",
    "p=sns.scatterplot(x=\"PC1\",y=\"PC2\",hue='kmean',s=200, data=PC)\n",
    "\n",
    "for index in principalDf.index.to_list():\n",
    "    x = PC.loc[index]['PC1']\n",
    "    y = PC.loc[index]['PC2']\n",
    "    p.text(x+0.005,y-0.0025,index,size='large',color='black')"
   ]
  },
  {
   "cell_type": "markdown",
   "metadata": {},
   "source": [
    "K-mean cluster 갯수를 6 으로 바꾸었다. "
   ]
  },
  {
   "cell_type": "code",
   "execution_count": null,
   "metadata": {},
   "outputs": [],
   "source": [
    "kmeans = KMeans(n_clusters=6)\n",
    "kmeans.fit(normal)\n",
    "PC['kmean']=kmeans.labels_"
   ]
  },
  {
   "cell_type": "code",
   "execution_count": null,
   "metadata": {},
   "outputs": [],
   "source": [
    "import seaborn as sns\n",
    "import matplotlib.pyplot as plt\n",
    "\n",
    "plt.figure(figsize=(20,20))\n",
    "sns.set(font_scale=0.75)\n",
    "p=sns.scatterplot(x=\"PC1\",y=\"PC2\",hue='kmean',s=200, data=PC)\n",
    "\n",
    "for index in principalDf.index.to_list():\n",
    "    x = PC.loc[index]['PC1']\n",
    "    y = PC.loc[index]['PC2']\n",
    "    p.text(x+0.005,y-0.0025,index,size='large',color='black')"
   ]
  },
  {
   "cell_type": "markdown",
   "metadata": {},
   "source": [
    "#연습 \n",
    "\n",
    "1. 'blood' lineage cell line의 발현 데이터를 선택한 후, \n",
    "2. 이것을 세포주별, 유전자별로 계층 군집분석을 수행하여 Dendrogram을 그린 후, 적절한 숫자의 cluster를 찾아 보자. 'blood' lineage의 세포주는 대략적으로 몇 종류로 구별되는가?\n",
    "3. 데이터를 clustering 결과에 따라서 재배열하여 heat map 을 작성한다. \n",
    "4. 이들을 2차원 PCA 를 그린 후, \n",
    "5. K-mean clustering으로 계층분석에서 얻은 cluster 숫자로 분류하여 PCA plot을 각각 색칠해 보자. \n",
    "6. 이렇게 분류된 세포주의 cluster의 expression 데이터를 각각 따로 데이터테이블로 만들어서, 엑셀 파일로 저장해 보자. "
   ]
  },
  {
   "cell_type": "code",
   "execution_count": null,
   "metadata": {},
   "outputs": [],
   "source": []
  }
 ],
 "metadata": {
  "kernelspec": {
   "display_name": "Python 3.8.5 64-bit ('base': conda)",
   "language": "python",
   "name": "python385jvsc74a57bd0d4c0f8164265d09560ebabaaa85a3d0bedc7ccba7b2ce8eaa6952f8133c68b51"
  },
  "language_info": {
   "codemirror_mode": {
    "name": "ipython",
    "version": 3
   },
   "file_extension": ".py",
   "mimetype": "text/x-python",
   "name": "python",
   "nbconvert_exporter": "python",
   "pygments_lexer": "ipython3",
   "version": "3.8.5"
  },
  "metadata": {
   "interpreter": {
    "hash": "d4c0f8164265d09560ebabaaa85a3d0bedc7ccba7b2ce8eaa6952f8133c68b51"
   }
  }
 },
 "nbformat": 4,
 "nbformat_minor": 4
}
