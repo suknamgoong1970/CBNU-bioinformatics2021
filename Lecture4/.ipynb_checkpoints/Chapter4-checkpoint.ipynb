{
 "cells": [
  {
   "cell_type": "markdown",
   "metadata": {},
   "source": [
    "# 4장. 파이썬 기초 \n",
    "\n",
    "## 파이썬을 계산기로 사용해보자.\n"
   ]
  },
  {
   "cell_type": "markdown",
   "metadata": {},
   "source": [
    "수식을 입력해보자. "
   ]
  },
  {
   "cell_type": "code",
   "execution_count": 2,
   "metadata": {},
   "outputs": [
    {
     "data": {
      "text/plain": [
       "2"
      ]
     },
     "execution_count": 2,
     "metadata": {},
     "output_type": "execute_result"
    }
   ],
   "source": [
    "1+1"
   ]
  },
  {
   "cell_type": "code",
   "execution_count": 3,
   "metadata": {},
   "outputs": [
    {
     "data": {
      "text/plain": [
       "22.5"
      ]
     },
     "execution_count": 3,
     "metadata": {},
     "output_type": "execute_result"
    }
   ],
   "source": [
    "(10+20)*30/40"
   ]
  },
  {
   "cell_type": "code",
   "execution_count": 4,
   "metadata": {},
   "outputs": [
    {
     "data": {
      "text/plain": [
       "30"
      ]
     },
     "execution_count": 4,
     "metadata": {},
     "output_type": "execute_result"
    }
   ],
   "source": [
    "10+20"
   ]
  },
  {
   "cell_type": "markdown",
   "metadata": {},
   "source": [
    "메뉴에서 'Insert Cell Below' 를 선택해서 셀을 추가한 다음에 수식을 넣고, 실행을 해보자."
   ]
  },
  {
   "cell_type": "code",
   "execution_count": null,
   "metadata": {},
   "outputs": [],
   "source": []
  },
  {
   "cell_type": "markdown",
   "metadata": {},
   "source": [
    "## 변수 (Variable) \n",
    "\n",
    "- 변수는 '무엇인가' 를 저장하는 저장소라고 생각하면 된다. \n",
    "- '무엇인가' 는 숫자, 글자, 기타 데이터 등 여러가지가 될 수 있음. "
   ]
  },
  {
   "cell_type": "code",
   "execution_count": 2,
   "metadata": {},
   "outputs": [],
   "source": [
    "a=1\n",
    "b=1\n",
    "c = a+b"
   ]
  },
  {
   "cell_type": "markdown",
   "metadata": {},
   "source": [
    "a의 값을 살펴보고 싶으면..."
   ]
  },
  {
   "cell_type": "code",
   "execution_count": 3,
   "metadata": {},
   "outputs": [
    {
     "data": {
      "text/plain": [
       "1"
      ]
     },
     "execution_count": 3,
     "metadata": {},
     "output_type": "execute_result"
    }
   ],
   "source": [
    "a"
   ]
  },
  {
   "cell_type": "markdown",
   "metadata": {},
   "source": [
    "b의 값을 살펴보고 싶으면..."
   ]
  },
  {
   "cell_type": "code",
   "execution_count": 4,
   "metadata": {},
   "outputs": [
    {
     "data": {
      "text/plain": [
       "1"
      ]
     },
     "execution_count": 4,
     "metadata": {},
     "output_type": "execute_result"
    }
   ],
   "source": [
    "b"
   ]
  },
  {
   "cell_type": "code",
   "execution_count": 5,
   "metadata": {},
   "outputs": [
    {
     "data": {
      "text/plain": [
       "2"
      ]
     },
     "execution_count": 5,
     "metadata": {},
     "output_type": "execute_result"
    }
   ],
   "source": [
    "c"
   ]
  },
  {
   "cell_type": "code",
   "execution_count": 5,
   "metadata": {},
   "outputs": [
    {
     "data": {
      "text/plain": [
       "2"
      ]
     },
     "execution_count": 5,
     "metadata": {},
     "output_type": "execute_result"
    }
   ],
   "source": [
    "a * c"
   ]
  },
  {
   "cell_type": "markdown",
   "metadata": {},
   "source": [
    "글자를 저장하는 것도 가능하다. 컴퓨터 언에서 보통 글자는 '문자열' 혹은 '스트링' (String) 이라고 부른다. \n",
    "글자는 작은 따옴표 혹은 큰 따옴표로 구분한다. "
   ]
  },
  {
   "cell_type": "code",
   "execution_count": 10,
   "metadata": {},
   "outputs": [],
   "source": [
    "d = \"Python\"\n",
    "e = \" is good\" \n",
    "\n",
    "#문자열끼리 더하기를 하면 문자열이 연결된다 \n",
    "\n",
    "f = d + e "
   ]
  },
  {
   "cell_type": "code",
   "execution_count": 11,
   "metadata": {},
   "outputs": [
    {
     "data": {
      "text/plain": [
       "'Python is good'"
      ]
     },
     "execution_count": 11,
     "metadata": {},
     "output_type": "execute_result"
    }
   ],
   "source": [
    "f"
   ]
  },
  {
   "cell_type": "code",
   "execution_count": 12,
   "metadata": {},
   "outputs": [
    {
     "name": "stdout",
     "output_type": "stream",
     "text": [
      "Python is good\n"
     ]
    }
   ],
   "source": [
    "print (f)"
   ]
  },
  {
   "cell_type": "markdown",
   "metadata": {},
   "source": [
    "'='는 '같다'가 아니라 변수에 데이터를 넣는 기호이다. \n",
    "a = 'this is good' \n",
    "\n",
    "a에 'this is good'을 넣는다. "
   ]
  },
  {
   "cell_type": "code",
   "execution_count": 13,
   "metadata": {},
   "outputs": [
    {
     "data": {
      "text/plain": [
       "'this is good'"
      ]
     },
     "execution_count": 13,
     "metadata": {},
     "output_type": "execute_result"
    }
   ],
   "source": [
    "a='this is good'\n",
    "a"
   ]
  },
  {
   "cell_type": "markdown",
   "metadata": {},
   "source": [
    "'문자열' 은 서열 정보를 저장하는데도 사용할 수 있다. \n",
    "다음 예를 본다면..."
   ]
  },
  {
   "cell_type": "code",
   "execution_count": 14,
   "metadata": {},
   "outputs": [
    {
     "name": "stdout",
     "output_type": "stream",
     "text": [
      "ACGTACGTAG\n"
     ]
    }
   ],
   "source": [
    "sequence = \"ACGTACGTAG\"\n",
    "print (sequence)"
   ]
  },
  {
   "cell_type": "markdown",
   "metadata": {},
   "source": [
    "문자열끼리 '더하기' 를 하면 두 개의 서열이 이어진다. "
   ]
  },
  {
   "cell_type": "code",
   "execution_count": 15,
   "metadata": {},
   "outputs": [
    {
     "name": "stdout",
     "output_type": "stream",
     "text": [
      "ACGTACGTAGGGATCCGT\n"
     ]
    }
   ],
   "source": [
    "sequence2 = \"GGATCCGT\"\n",
    "new_sequence = sequence + sequence2\n",
    "print (new_sequence)"
   ]
  },
  {
   "cell_type": "markdown",
   "metadata": {},
   "source": [
    "만약 이들을 각각의 위치별의 글자로 읽으려면 어떻게 해야 하나? \n",
    "문자열의 일부에 접근하려면 대괄호 '[]' 와 숫자를 이용한다. "
   ]
  },
  {
   "cell_type": "code",
   "execution_count": 17,
   "metadata": {},
   "outputs": [
    {
     "data": {
      "text/plain": [
       "'A'"
      ]
     },
     "execution_count": 17,
     "metadata": {},
     "output_type": "execute_result"
    }
   ],
   "source": [
    "new_sequence[0]"
   ]
  },
  {
   "cell_type": "code",
   "execution_count": 18,
   "metadata": {},
   "outputs": [
    {
     "data": {
      "text/plain": [
       "'C'"
      ]
     },
     "execution_count": 18,
     "metadata": {},
     "output_type": "execute_result"
    }
   ],
   "source": [
    "new_sequence[1]"
   ]
  },
  {
   "cell_type": "markdown",
   "metadata": {},
   "source": [
    "대괄호 안의 숫자를 바꾸어 보자. \n",
    "첫번째 항목은 0 으로부터 시작한다. "
   ]
  },
  {
   "cell_type": "markdown",
   "metadata": {},
   "source": [
    "여러 개의 항목을 접근하려면 [시작위치:끝위치] 형식으로 숫자를 이용한다. "
   ]
  },
  {
   "cell_type": "code",
   "execution_count": 19,
   "metadata": {},
   "outputs": [
    {
     "data": {
      "text/plain": [
       "'AC'"
      ]
     },
     "execution_count": 19,
     "metadata": {},
     "output_type": "execute_result"
    }
   ],
   "source": [
    "new_sequence[0:2]"
   ]
  },
  {
   "cell_type": "code",
   "execution_count": 20,
   "metadata": {},
   "outputs": [
    {
     "data": {
      "text/plain": [
       "'ACGTACGTAG'"
      ]
     },
     "execution_count": 20,
     "metadata": {},
     "output_type": "execute_result"
    }
   ],
   "source": [
    "new_sequence[0:10]"
   ]
  },
  {
   "cell_type": "markdown",
   "metadata": {},
   "source": [
    "만약 세번째부터 끝까지의 서열에 접근하고 싶다면? "
   ]
  },
  {
   "cell_type": "code",
   "execution_count": 21,
   "metadata": {},
   "outputs": [
    {
     "data": {
      "text/plain": [
       "'TACGTAGGGATCCGT'"
      ]
     },
     "execution_count": 21,
     "metadata": {},
     "output_type": "execute_result"
    }
   ],
   "source": [
    "#0,1,2....\n",
    "new_sequence[2:]"
   ]
  },
  {
   "cell_type": "markdown",
   "metadata": {},
   "source": [
    "세번째까지의 서열을 알고 싶다면..."
   ]
  },
  {
   "cell_type": "code",
   "execution_count": 23,
   "metadata": {},
   "outputs": [
    {
     "data": {
      "text/plain": [
       "'ACG'"
      ]
     },
     "execution_count": 23,
     "metadata": {},
     "output_type": "execute_result"
    }
   ],
   "source": [
    "new_sequence[:3]"
   ]
  },
  {
   "cell_type": "code",
   "execution_count": 24,
   "metadata": {},
   "outputs": [
    {
     "data": {
      "text/plain": [
       "'ACGTACGTAGGGATC'"
      ]
     },
     "execution_count": 24,
     "metadata": {},
     "output_type": "execute_result"
    }
   ],
   "source": [
    "#끝에서 3글자 빼기\n",
    "\n",
    "new_sequence[:-3]"
   ]
  },
  {
   "cell_type": "markdown",
   "metadata": {},
   "source": [
    "## 리스트 (LIST) \n",
    "\n",
    "- 여러 개의 데이터를 저장할 때 사용한다. \n",
    "- 대괄호와 쉼표로 여러 개의 데이터를 구분하여 저장한다. \n",
    "- 숫자, 쉼표, 다른 변수 등등 여러 종류의 데이터를 저장 가능하다. \n"
   ]
  },
  {
   "cell_type": "code",
   "execution_count": 7,
   "metadata": {},
   "outputs": [
    {
     "data": {
      "text/plain": [
       "[2, 4, 6, 8, 10, 12]"
      ]
     },
     "execution_count": 7,
     "metadata": {},
     "output_type": "execute_result"
    }
   ],
   "source": [
    "even = [2,4,6,8,10,12]\n",
    "odd = [1,3,5,7,9]\n",
    "even"
   ]
  },
  {
   "cell_type": "code",
   "execution_count": 8,
   "metadata": {},
   "outputs": [
    {
     "data": {
      "text/plain": [
       "[1, 3, 5, 7, 9]"
      ]
     },
     "execution_count": 8,
     "metadata": {},
     "output_type": "execute_result"
    }
   ],
   "source": [
    "odd"
   ]
  },
  {
   "cell_type": "code",
   "execution_count": 9,
   "metadata": {},
   "outputs": [
    {
     "data": {
      "text/plain": [
       "['one', 'two', 'three', 'four', 'five']"
      ]
     },
     "execution_count": 9,
     "metadata": {},
     "output_type": "execute_result"
    }
   ],
   "source": [
    "string_list = ['one', 'two','three','four','five']\n",
    "string_list"
   ]
  },
  {
   "cell_type": "markdown",
   "metadata": {},
   "source": [
    "리스트의 항목도 문자열 안의 글자와 비슷하게 참조할 수 있다. "
   ]
  },
  {
   "cell_type": "code",
   "execution_count": 10,
   "metadata": {},
   "outputs": [
    {
     "data": {
      "text/plain": [
       "'one'"
      ]
     },
     "execution_count": 10,
     "metadata": {},
     "output_type": "execute_result"
    }
   ],
   "source": [
    "string_list[0]"
   ]
  },
  {
   "cell_type": "code",
   "execution_count": 11,
   "metadata": {},
   "outputs": [
    {
     "data": {
      "text/plain": [
       "'five'"
      ]
     },
     "execution_count": 11,
     "metadata": {},
     "output_type": "execute_result"
    }
   ],
   "source": [
    "string_list[4]"
   ]
  },
  {
   "cell_type": "code",
   "execution_count": 12,
   "metadata": {},
   "outputs": [
    {
     "data": {
      "text/plain": [
       "1"
      ]
     },
     "execution_count": 12,
     "metadata": {},
     "output_type": "execute_result"
    }
   ],
   "source": [
    "odd[0]"
   ]
  },
  {
   "cell_type": "markdown",
   "metadata": {},
   "source": [
    "리스트의 항목 일부도 마찬가지로 억세스할 수 있다. \n",
    "string_list의 첫번째에서 세번째 항목까지 억세스하려면? "
   ]
  },
  {
   "cell_type": "code",
   "execution_count": 15,
   "metadata": {},
   "outputs": [
    {
     "data": {
      "text/plain": [
       "['one', 'two', 'three']"
      ]
     },
     "execution_count": 15,
     "metadata": {},
     "output_type": "execute_result"
    }
   ],
   "source": [
    "string_list[0:3]"
   ]
  },
  {
   "cell_type": "markdown",
   "metadata": {},
   "source": [
    "두 개의 리스트를 더할 수도 있다. "
   ]
  },
  {
   "cell_type": "code",
   "execution_count": 16,
   "metadata": {},
   "outputs": [],
   "source": [
    "number = even + odd"
   ]
  },
  {
   "cell_type": "code",
   "execution_count": 17,
   "metadata": {},
   "outputs": [
    {
     "data": {
      "text/plain": [
       "[2, 4, 6, 8, 10, 12, 1, 3, 5, 7, 9]"
      ]
     },
     "execution_count": 17,
     "metadata": {},
     "output_type": "execute_result"
    }
   ],
   "source": [
    "number"
   ]
  },
  {
   "cell_type": "markdown",
   "metadata": {},
   "source": [
    "하나를 추가하고 싶다고 하자. '100'"
   ]
  },
  {
   "cell_type": "code",
   "execution_count": 18,
   "metadata": {},
   "outputs": [],
   "source": [
    "number.append(100)"
   ]
  },
  {
   "cell_type": "code",
   "execution_count": 19,
   "metadata": {},
   "outputs": [
    {
     "data": {
      "text/plain": [
       "[2, 4, 6, 8, 10, 12, 1, 3, 5, 7, 9, 100]"
      ]
     },
     "execution_count": 19,
     "metadata": {},
     "output_type": "execute_result"
    }
   ],
   "source": [
    "number"
   ]
  },
  {
   "cell_type": "code",
   "execution_count": 39,
   "metadata": {},
   "outputs": [],
   "source": [
    "string_list.append('six')"
   ]
  },
  {
   "cell_type": "code",
   "execution_count": 40,
   "metadata": {},
   "outputs": [
    {
     "data": {
      "text/plain": [
       "['one', 'two', 'three', 'four', 'five', 'six']"
      ]
     },
     "execution_count": 40,
     "metadata": {},
     "output_type": "execute_result"
    }
   ],
   "source": [
    "string_list"
   ]
  },
  {
   "cell_type": "code",
   "execution_count": 41,
   "metadata": {},
   "outputs": [
    {
     "data": {
      "text/plain": [
       "[2, 4, 6, 8, 10, 12, 1, 3, 5, 7, 9, 100]"
      ]
     },
     "execution_count": 41,
     "metadata": {},
     "output_type": "execute_result"
    }
   ],
   "source": [
    "number"
   ]
  },
  {
   "cell_type": "markdown",
   "metadata": {},
   "source": [
    "number라는 리스트에 있는 내용을 숫자별로 정렬하고 싶다면? \n"
   ]
  },
  {
   "cell_type": "code",
   "execution_count": 42,
   "metadata": {},
   "outputs": [],
   "source": [
    "number.sort()"
   ]
  },
  {
   "cell_type": "code",
   "execution_count": 43,
   "metadata": {},
   "outputs": [
    {
     "data": {
      "text/plain": [
       "[1, 2, 3, 4, 5, 6, 7, 8, 9, 10, 12, 100]"
      ]
     },
     "execution_count": 43,
     "metadata": {},
     "output_type": "execute_result"
    }
   ],
   "source": [
    "number"
   ]
  },
  {
   "cell_type": "markdown",
   "metadata": {},
   "source": [
    "문자열도 소트가 가능하다"
   ]
  },
  {
   "cell_type": "code",
   "execution_count": 44,
   "metadata": {},
   "outputs": [],
   "source": [
    "string_list.append('aaaaaa')"
   ]
  },
  {
   "cell_type": "code",
   "execution_count": 45,
   "metadata": {},
   "outputs": [
    {
     "data": {
      "text/plain": [
       "['one', 'two', 'three', 'four', 'five', 'six', 'aaaaaa']"
      ]
     },
     "execution_count": 45,
     "metadata": {},
     "output_type": "execute_result"
    }
   ],
   "source": [
    "string_list"
   ]
  },
  {
   "cell_type": "code",
   "execution_count": 46,
   "metadata": {},
   "outputs": [
    {
     "data": {
      "text/plain": [
       "['aaaaaa', 'five', 'four', 'one', 'six', 'three', 'two']"
      ]
     },
     "execution_count": 46,
     "metadata": {},
     "output_type": "execute_result"
    }
   ],
   "source": [
    "string_list.sort()\n",
    "string_list"
   ]
  },
  {
   "cell_type": "markdown",
   "metadata": {},
   "source": [
    "리스트에 있는 내용을 바꾸고 싶다면? \n",
    "가령 두번째의 'five'를 'FIVE'로 바꾸고 싶다고 하자. \n"
   ]
  },
  {
   "cell_type": "code",
   "execution_count": 47,
   "metadata": {},
   "outputs": [
    {
     "data": {
      "text/plain": [
       "'five'"
      ]
     },
     "execution_count": 47,
     "metadata": {},
     "output_type": "execute_result"
    }
   ],
   "source": [
    "string_list[1]"
   ]
  },
  {
   "cell_type": "code",
   "execution_count": 48,
   "metadata": {},
   "outputs": [],
   "source": [
    "string_list[1]='FIVE'"
   ]
  },
  {
   "cell_type": "code",
   "execution_count": 49,
   "metadata": {},
   "outputs": [
    {
     "data": {
      "text/plain": [
       "['aaaaaa', 'FIVE', 'four', 'one', 'six', 'three', 'two']"
      ]
     },
     "execution_count": 49,
     "metadata": {},
     "output_type": "execute_result"
    }
   ],
   "source": [
    "string_list"
   ]
  },
  {
   "cell_type": "code",
   "execution_count": 50,
   "metadata": {},
   "outputs": [],
   "source": [
    "del string_list[1]"
   ]
  },
  {
   "cell_type": "code",
   "execution_count": 51,
   "metadata": {},
   "outputs": [
    {
     "data": {
      "text/plain": [
       "['aaaaaa', 'four', 'one', 'six', 'three', 'two']"
      ]
     },
     "execution_count": 51,
     "metadata": {},
     "output_type": "execute_result"
    }
   ],
   "source": [
    "string_list"
   ]
  },
  {
   "cell_type": "markdown",
   "metadata": {},
   "source": [
    "## 딕셔너리 (Dictionary)  \n",
    "\n",
    "- 서로 관계가 있는 데이터를 저장하고 싶다고 하자. \n",
    "- Elephant, Animal\n",
    "- Sunflower, Plant\n",
    "- E.coli, Microbe\n",
    "- Human, Animal\n",
    "- Rice, Plant \n",
    "\n",
    "- 이러한 관계를 어떻게 저장할 것인가? "
   ]
  },
  {
   "cell_type": "code",
   "execution_count": 53,
   "metadata": {},
   "outputs": [],
   "source": [
    "organism = {'Elephant':'Animal','Sunflower':'Plant','E.coli':'Microbe','Human':'Animal','Rice':'Plant'}"
   ]
  },
  {
   "cell_type": "markdown",
   "metadata": {},
   "source": [
    "딕셔너리에서 앞의 내용을 '키' (Key)라고 하고 뒤의 내용을 '값' (Value)라고 한다. \n",
    "하나의 딕셔너리에서는 키의 값은 고유한 값이어야 한다. "
   ]
  },
  {
   "cell_type": "code",
   "execution_count": 54,
   "metadata": {},
   "outputs": [
    {
     "data": {
      "text/plain": [
       "{'Elephant': 'Animal',\n",
       " 'Sunflower': 'Plant',\n",
       " 'E.coli': 'Microbe',\n",
       " 'Human': 'Animal',\n",
       " 'Rice': 'Plant'}"
      ]
     },
     "execution_count": 54,
     "metadata": {},
     "output_type": "execute_result"
    }
   ],
   "source": [
    "organism"
   ]
  },
  {
   "cell_type": "code",
   "execution_count": 55,
   "metadata": {},
   "outputs": [
    {
     "data": {
      "text/plain": [
       "'Microbe'"
      ]
     },
     "execution_count": 55,
     "metadata": {},
     "output_type": "execute_result"
    }
   ],
   "source": [
    "#키를 이용하여 값을 알아낸다. \n",
    "\n",
    "organism['E.coli']"
   ]
  },
  {
   "cell_type": "code",
   "execution_count": 56,
   "metadata": {},
   "outputs": [
    {
     "data": {
      "text/plain": [
       "'Plant'"
      ]
     },
     "execution_count": 56,
     "metadata": {},
     "output_type": "execute_result"
    }
   ],
   "source": [
    "organism['Rice']"
   ]
  },
  {
   "cell_type": "markdown",
   "metadata": {},
   "source": [
    "딕셔너리에 새로운 데이터를 넣고 싶을 경우\n",
    "딕셔너리['키'] = '값' "
   ]
  },
  {
   "cell_type": "code",
   "execution_count": 57,
   "metadata": {},
   "outputs": [
    {
     "data": {
      "text/plain": [
       "{'Elephant': 'Animal',\n",
       " 'Sunflower': 'Plant',\n",
       " 'E.coli': 'Microbe',\n",
       " 'Human': 'Animal',\n",
       " 'Rice': 'Plant',\n",
       " 'Dog': 'Animal'}"
      ]
     },
     "execution_count": 57,
     "metadata": {},
     "output_type": "execute_result"
    }
   ],
   "source": [
    "organism['Dog']='Animal'\n",
    "organism"
   ]
  },
  {
   "cell_type": "code",
   "execution_count": 59,
   "metadata": {},
   "outputs": [],
   "source": [
    "organism['Dog'] = 'Humans best friends'"
   ]
  },
  {
   "cell_type": "code",
   "execution_count": 60,
   "metadata": {},
   "outputs": [
    {
     "data": {
      "text/plain": [
       "{'Elephant': 'Animal',\n",
       " 'Sunflower': 'Plant',\n",
       " 'E.coli': 'Microbe',\n",
       " 'Human': 'Animal',\n",
       " 'Rice': 'Plant',\n",
       " 'Dog': 'Humans best friends'}"
      ]
     },
     "execution_count": 60,
     "metadata": {},
     "output_type": "execute_result"
    }
   ],
   "source": [
    "organism"
   ]
  },
  {
   "cell_type": "markdown",
   "metadata": {},
   "source": [
    "딕셔너리에는 동일한 키 값이 두 개 이상 존재할 수 없다. "
   ]
  },
  {
   "cell_type": "code",
   "execution_count": null,
   "metadata": {},
   "outputs": [],
   "source": [
    "딕셔너리의 키 값을 보고 싶다면? "
   ]
  },
  {
   "cell_type": "code",
   "execution_count": 62,
   "metadata": {},
   "outputs": [
    {
     "data": {
      "text/plain": [
       "dict_keys(['Elephant', 'Sunflower', 'E.coli', 'Human', 'Rice', 'Dog'])"
      ]
     },
     "execution_count": 62,
     "metadata": {},
     "output_type": "execute_result"
    }
   ],
   "source": [
    "organism.keys()"
   ]
  },
  {
   "cell_type": "code",
   "execution_count": 63,
   "metadata": {},
   "outputs": [
    {
     "data": {
      "text/plain": [
       "dict_values(['Animal', 'Plant', 'Microbe', 'Animal', 'Plant', 'Humans best friends'])"
      ]
     },
     "execution_count": 63,
     "metadata": {},
     "output_type": "execute_result"
    }
   ],
   "source": [
    "organism.values()"
   ]
  },
  {
   "cell_type": "markdown",
   "metadata": {},
   "source": [
    "## 튜플 (Tuple)  \n",
    "\n",
    "- 튜플은 리스트와 거의 비슷하나 하나의 차이가 있다. "
   ]
  },
  {
   "cell_type": "code",
   "execution_count": 64,
   "metadata": {},
   "outputs": [],
   "source": [
    "list = [1,2,3,4]\n",
    "tuple = (1,2,3,4)"
   ]
  },
  {
   "cell_type": "code",
   "execution_count": 65,
   "metadata": {},
   "outputs": [
    {
     "data": {
      "text/plain": [
       "[1, 2, 3, 4]"
      ]
     },
     "execution_count": 65,
     "metadata": {},
     "output_type": "execute_result"
    }
   ],
   "source": [
    "list"
   ]
  },
  {
   "cell_type": "code",
   "execution_count": 66,
   "metadata": {},
   "outputs": [
    {
     "data": {
      "text/plain": [
       "(1, 2, 3, 4)"
      ]
     },
     "execution_count": 66,
     "metadata": {},
     "output_type": "execute_result"
    }
   ],
   "source": [
    "tuple"
   ]
  },
  {
   "cell_type": "code",
   "execution_count": 67,
   "metadata": {},
   "outputs": [
    {
     "data": {
      "text/plain": [
       "[100, 2, 3, 4]"
      ]
     },
     "execution_count": 67,
     "metadata": {},
     "output_type": "execute_result"
    }
   ],
   "source": [
    "list[0] = 100\n",
    "list"
   ]
  },
  {
   "cell_type": "code",
   "execution_count": 68,
   "metadata": {},
   "outputs": [
    {
     "ename": "TypeError",
     "evalue": "'tuple' object does not support item assignment",
     "output_type": "error",
     "traceback": [
      "\u001b[0;31m---------------------------------------------------------------------------\u001b[0m",
      "\u001b[0;31mTypeError\u001b[0m                                 Traceback (most recent call last)",
      "\u001b[0;32m<ipython-input-68-83d78d3e97e9>\u001b[0m in \u001b[0;36m<module>\u001b[0;34m\u001b[0m\n\u001b[0;32m----> 1\u001b[0;31m \u001b[0mtuple\u001b[0m\u001b[0;34m[\u001b[0m\u001b[0;36m0\u001b[0m\u001b[0;34m]\u001b[0m\u001b[0;34m=\u001b[0m\u001b[0;36m100\u001b[0m\u001b[0;34m\u001b[0m\u001b[0;34m\u001b[0m\u001b[0m\n\u001b[0m",
      "\u001b[0;31mTypeError\u001b[0m: 'tuple' object does not support item assignment"
     ]
    }
   ],
   "source": [
    "tuple[0]=100"
   ]
  },
  {
   "cell_type": "markdown",
   "metadata": {},
   "source": [
    "리스트는 값을 추가하거나 바꿀 수 있지만, 튜플은 바꿀 수 없다. \n",
    "튜플은 한번 넣어두면 바뀌지 않는 값을 여러 개 저장할 때 사용한다. "
   ]
  },
  {
   "cell_type": "code",
   "execution_count": 69,
   "metadata": {},
   "outputs": [],
   "source": [
    "base = ('A','C','G','T')"
   ]
  },
  {
   "cell_type": "markdown",
   "metadata": {},
   "source": [
    "## 지금까지 파이썬에서 어떻게 자료를 저장하는지 배웠음. \n",
    "\n",
    "- 변수 \n",
    "- 리스트 \n",
    "- 딕셔너리\n",
    "- 튜플\n",
    "- 문자열 "
   ]
  },
  {
   "cell_type": "markdown",
   "metadata": {},
   "source": [
    "## 조건과 반복\n",
    "\n",
    "컴퓨터 프로그래밍의 가장 기본적인 두 가지 요소 \n",
    "\n",
    "- 반복 \n",
    "- 조건 판단 \n",
    "\n",
    "리스트에 들어 있는 여러 값을 하나씩 꺼내서 살펴보는 과정을 보자. "
   ]
  },
  {
   "cell_type": "code",
   "execution_count": 7,
   "metadata": {},
   "outputs": [],
   "source": [
    "test_list = ['권은비', '미야와키 사쿠라', '강혜원', '최예나', '이채연', '김채원', '김민주', '야부키 나코', '혼다 히토미', '조유리', '안유진', '장원영']"
   ]
  },
  {
   "cell_type": "code",
   "execution_count": 8,
   "metadata": {},
   "outputs": [
    {
     "name": "stdout",
     "output_type": "stream",
     "text": [
      "권은비\n",
      "미야와키 사쿠라\n",
      "강혜원\n",
      "최예나\n",
      "이채연\n",
      "김채원\n",
      "김민주\n",
      "야부키 나코\n",
      "혼다 히토미\n",
      "조유리\n",
      "안유진\n",
      "장원영\n"
     ]
    }
   ],
   "source": [
    "for member in test_list:\n",
    "    print (member)"
   ]
  },
  {
   "cell_type": "markdown",
   "metadata": {},
   "source": [
    "파이썬에서는 반복문이나 조건문 내에서 수행되는 라인을 구분하기 위하여 '들여쓰기' 를 한다. \n",
    "뭔 말이냐면...다음과 같은 코드를 입력하면.."
   ]
  },
  {
   "cell_type": "code",
   "execution_count": 11,
   "metadata": {},
   "outputs": [
    {
     "ename": "IndentationError",
     "evalue": "expected an indented block (<ipython-input-11-044f31795d4e>, line 2)",
     "output_type": "error",
     "traceback": [
      "\u001b[0;36m  File \u001b[0;32m\"<ipython-input-11-044f31795d4e>\"\u001b[0;36m, line \u001b[0;32m2\u001b[0m\n\u001b[0;31m    print (member)\u001b[0m\n\u001b[0m        ^\u001b[0m\n\u001b[0;31mIndentationError\u001b[0m\u001b[0;31m:\u001b[0m expected an indented block\n"
     ]
    }
   ],
   "source": [
    "#에러 발생\n",
    "for member in test_list:\n",
    "print (member)"
   ]
  },
  {
   "cell_type": "code",
   "execution_count": 14,
   "metadata": {},
   "outputs": [
    {
     "name": "stdout",
     "output_type": "stream",
     "text": [
      "권은비\n",
      "미야와키 사쿠라\n",
      "강혜원\n",
      "최예나\n",
      "이채연\n",
      "김채원\n",
      "김민주\n",
      "야부키 나코\n",
      "혼다 히토미\n",
      "조유리\n",
      "안유진\n",
      "장원영\n"
     ]
    }
   ],
   "source": [
    "#수정됨\n",
    "for member in test_list:\n",
    "    print (member)"
   ]
  },
  {
   "cell_type": "code",
   "execution_count": 15,
   "metadata": {},
   "outputs": [
    {
     "ename": "IndentationError",
     "evalue": "unexpected indent (<ipython-input-15-1c328a6c1689>, line 4)",
     "output_type": "error",
     "traceback": [
      "\u001b[0;36m  File \u001b[0;32m\"<ipython-input-15-1c328a6c1689>\"\u001b[0;36m, line \u001b[0;32m4\u001b[0m\n\u001b[0;31m    print (\"..\")\u001b[0m\n\u001b[0m    ^\u001b[0m\n\u001b[0;31mIndentationError\u001b[0m\u001b[0;31m:\u001b[0m unexpected indent\n"
     ]
    }
   ],
   "source": [
    "for member in test_list:\n",
    "    #반복문 안의 문장들은 들여쓰기 (Tab) 레벨이 같아야 한다. \n",
    "    print (member)\n",
    "        print (\"..\")"
   ]
  },
  {
   "cell_type": "markdown",
   "metadata": {},
   "source": [
    "# range \n",
    "\n",
    "일정한 숫자를 이용하여 반복을 한다. "
   ]
  },
  {
   "cell_type": "code",
   "execution_count": 9,
   "metadata": {},
   "outputs": [
    {
     "name": "stdout",
     "output_type": "stream",
     "text": [
      "0\n",
      "1\n",
      "2\n",
      "3\n",
      "4\n",
      "5\n",
      "6\n",
      "7\n",
      "8\n",
      "9\n",
      "10\n",
      "11\n"
     ]
    }
   ],
   "source": [
    "for i in range(12):\n",
    "    print (i)"
   ]
  },
  {
   "cell_type": "code",
   "execution_count": 10,
   "metadata": {},
   "outputs": [
    {
     "name": "stdout",
     "output_type": "stream",
     "text": [
      "1\n",
      "2\n",
      "3\n",
      "4\n",
      "5\n",
      "6\n",
      "7\n",
      "8\n",
      "9\n"
     ]
    }
   ],
   "source": [
    "for i in range(1,10):\n",
    "    print (i)"
   ]
  },
  {
   "cell_type": "markdown",
   "metadata": {},
   "source": [
    "for 문은 중첩 가능하다"
   ]
  },
  {
   "cell_type": "code",
   "execution_count": 74,
   "metadata": {},
   "outputs": [
    {
     "name": "stdout",
     "output_type": "stream",
     "text": [
      "1 1\n",
      "1 2\n",
      "1 3\n",
      "1 4\n",
      "1 5\n",
      "1 6\n",
      "1 7\n",
      "1 8\n",
      "1 9\n",
      "2 1\n",
      "2 2\n",
      "2 3\n",
      "2 4\n",
      "2 5\n",
      "2 6\n",
      "2 7\n",
      "2 8\n",
      "2 9\n",
      "3 1\n",
      "3 2\n",
      "3 3\n",
      "3 4\n",
      "3 5\n",
      "3 6\n",
      "3 7\n",
      "3 8\n",
      "3 9\n",
      "4 1\n",
      "4 2\n",
      "4 3\n",
      "4 4\n",
      "4 5\n",
      "4 6\n",
      "4 7\n",
      "4 8\n",
      "4 9\n",
      "5 1\n",
      "5 2\n",
      "5 3\n",
      "5 4\n",
      "5 5\n",
      "5 6\n",
      "5 7\n",
      "5 8\n",
      "5 9\n",
      "6 1\n",
      "6 2\n",
      "6 3\n",
      "6 4\n",
      "6 5\n",
      "6 6\n",
      "6 7\n",
      "6 8\n",
      "6 9\n",
      "7 1\n",
      "7 2\n",
      "7 3\n",
      "7 4\n",
      "7 5\n",
      "7 6\n",
      "7 7\n",
      "7 8\n",
      "7 9\n",
      "8 1\n",
      "8 2\n",
      "8 3\n",
      "8 4\n",
      "8 5\n",
      "8 6\n",
      "8 7\n",
      "8 8\n",
      "8 9\n",
      "9 1\n",
      "9 2\n",
      "9 3\n",
      "9 4\n",
      "9 5\n",
      "9 6\n",
      "9 7\n",
      "9 8\n",
      "9 9\n"
     ]
    }
   ],
   "source": [
    "for x in range (1,10):\n",
    "    for y in range(1,10):\n",
    "        print (x,y)"
   ]
  },
  {
   "cell_type": "markdown",
   "metadata": {},
   "source": [
    "구구단?"
   ]
  },
  {
   "cell_type": "code",
   "execution_count": 75,
   "metadata": {},
   "outputs": [
    {
     "name": "stdout",
     "output_type": "stream",
     "text": [
      "1 1 1\n",
      "1 2 2\n",
      "1 3 3\n",
      "1 4 4\n",
      "1 5 5\n",
      "1 6 6\n",
      "1 7 7\n",
      "1 8 8\n",
      "1 9 9\n",
      "2 1 2\n",
      "2 2 4\n",
      "2 3 6\n",
      "2 4 8\n",
      "2 5 10\n",
      "2 6 12\n",
      "2 7 14\n",
      "2 8 16\n",
      "2 9 18\n",
      "3 1 3\n",
      "3 2 6\n",
      "3 3 9\n",
      "3 4 12\n",
      "3 5 15\n",
      "3 6 18\n",
      "3 7 21\n",
      "3 8 24\n",
      "3 9 27\n",
      "4 1 4\n",
      "4 2 8\n",
      "4 3 12\n",
      "4 4 16\n",
      "4 5 20\n",
      "4 6 24\n",
      "4 7 28\n",
      "4 8 32\n",
      "4 9 36\n",
      "5 1 5\n",
      "5 2 10\n",
      "5 3 15\n",
      "5 4 20\n",
      "5 5 25\n",
      "5 6 30\n",
      "5 7 35\n",
      "5 8 40\n",
      "5 9 45\n",
      "6 1 6\n",
      "6 2 12\n",
      "6 3 18\n",
      "6 4 24\n",
      "6 5 30\n",
      "6 6 36\n",
      "6 7 42\n",
      "6 8 48\n",
      "6 9 54\n",
      "7 1 7\n",
      "7 2 14\n",
      "7 3 21\n",
      "7 4 28\n",
      "7 5 35\n",
      "7 6 42\n",
      "7 7 49\n",
      "7 8 56\n",
      "7 9 63\n",
      "8 1 8\n",
      "8 2 16\n",
      "8 3 24\n",
      "8 4 32\n",
      "8 5 40\n",
      "8 6 48\n",
      "8 7 56\n",
      "8 8 64\n",
      "8 9 72\n",
      "9 1 9\n",
      "9 2 18\n",
      "9 3 27\n",
      "9 4 36\n",
      "9 5 45\n",
      "9 6 54\n",
      "9 7 63\n",
      "9 8 72\n",
      "9 9 81\n"
     ]
    }
   ],
   "source": [
    "for x in range (1,10):\n",
    "    for y in range(1,10):\n",
    "        print (x,y,x*y)"
   ]
  },
  {
   "cell_type": "markdown",
   "metadata": {},
   "source": [
    "1부터 5까지만 계산하려면 어떻게 코드를 고쳐야 할까? "
   ]
  },
  {
   "cell_type": "code",
   "execution_count": 78,
   "metadata": {},
   "outputs": [
    {
     "name": "stdout",
     "output_type": "stream",
     "text": [
      "1\n",
      "1 1 1\n",
      "1\n",
      "1 2 2\n",
      "1\n",
      "1 3 3\n",
      "1\n",
      "1 4 4\n",
      "1\n",
      "1 5 5\n",
      "1\n",
      "1 6 6\n",
      "1\n",
      "1 7 7\n",
      "1\n",
      "1 8 8\n",
      "1\n",
      "1 9 9\n",
      "2\n",
      "2 1 2\n",
      "2\n",
      "2 2 4\n",
      "2\n",
      "2 3 6\n",
      "2\n",
      "2 4 8\n",
      "2\n",
      "2 5 10\n",
      "2\n",
      "2 6 12\n",
      "2\n",
      "2 7 14\n",
      "2\n",
      "2 8 16\n",
      "2\n",
      "2 9 18\n",
      "3\n",
      "3 1 3\n",
      "3\n",
      "3 2 6\n",
      "3\n",
      "3 3 9\n",
      "3\n",
      "3 4 12\n",
      "3\n",
      "3 5 15\n",
      "3\n",
      "3 6 18\n",
      "3\n",
      "3 7 21\n",
      "3\n",
      "3 8 24\n",
      "3\n",
      "3 9 27\n",
      "4\n",
      "4 1 4\n",
      "4\n",
      "4 2 8\n",
      "4\n",
      "4 3 12\n",
      "4\n",
      "4 4 16\n",
      "4\n",
      "4 5 20\n",
      "4\n",
      "4 6 24\n",
      "4\n",
      "4 7 28\n",
      "4\n",
      "4 8 32\n",
      "4\n",
      "4 9 36\n",
      "5\n",
      "5 1 5\n",
      "5\n",
      "5 2 10\n",
      "5\n",
      "5 3 15\n",
      "5\n",
      "5 4 20\n",
      "5\n",
      "5 5 25\n",
      "5\n",
      "5 6 30\n",
      "5\n",
      "5 7 35\n",
      "5\n",
      "5 8 40\n",
      "5\n",
      "5 9 45\n",
      "6\n",
      "6 1 6\n",
      "6\n",
      "6 2 12\n",
      "6\n",
      "6 3 18\n",
      "6\n",
      "6 4 24\n",
      "6\n",
      "6 5 30\n",
      "6\n",
      "6 6 36\n",
      "6\n",
      "6 7 42\n",
      "6\n",
      "6 8 48\n",
      "6\n",
      "6 9 54\n",
      "7\n",
      "7 1 7\n",
      "7\n",
      "7 2 14\n",
      "7\n",
      "7 3 21\n",
      "7\n",
      "7 4 28\n",
      "7\n",
      "7 5 35\n",
      "7\n",
      "7 6 42\n",
      "7\n",
      "7 7 49\n",
      "7\n",
      "7 8 56\n",
      "7\n",
      "7 9 63\n",
      "8\n",
      "8 1 8\n",
      "8\n",
      "8 2 16\n",
      "8\n",
      "8 3 24\n",
      "8\n",
      "8 4 32\n",
      "8\n",
      "8 5 40\n",
      "8\n",
      "8 6 48\n",
      "8\n",
      "8 7 56\n",
      "8\n",
      "8 8 64\n",
      "8\n",
      "8 9 72\n",
      "9\n",
      "9 1 9\n",
      "9\n",
      "9 2 18\n",
      "9\n",
      "9 3 27\n",
      "9\n",
      "9 4 36\n",
      "9\n",
      "9 5 45\n",
      "9\n",
      "9 6 54\n",
      "9\n",
      "9 7 63\n",
      "9\n",
      "9 8 72\n",
      "9\n",
      "9 9 81\n"
     ]
    }
   ],
   "source": [
    "for x in range (1,10):\n",
    "    for y in range(1,10):\n",
    "        print (x)\n",
    "        print (x,y,x*y)"
   ]
  },
  {
   "cell_type": "markdown",
   "metadata": {},
   "source": [
    "## 조건문 if \n",
    "\n",
    "컴퓨터 언어의 기본은 판단 \n",
    "구구단의 결과 중에서 50 보다 큰 값만 출력하고 싶다면? \n"
   ]
  },
  {
   "cell_type": "code",
   "execution_count": 16,
   "metadata": {},
   "outputs": [
    {
     "name": "stdout",
     "output_type": "stream",
     "text": [
      "6 9 54\n",
      "7 8 56\n",
      "7 9 63\n",
      "8 7 56\n",
      "8 8 64\n",
      "8 9 72\n",
      "9 6 54\n",
      "9 7 63\n",
      "9 8 72\n",
      "9 9 81\n"
     ]
    }
   ],
   "source": [
    "for x in range (1,10):\n",
    "    for y in range(1,10):\n",
    "        #만약 x와 y를 곱한 값이 50보다 크면 \n",
    "        if x*y>50:\n",
    "            #x,y, 그리고 x*y 값을 출력해라 \n",
    "            print (x,y,x*y)"
   ]
  },
  {
   "cell_type": "markdown",
   "metadata": {},
   "source": [
    "#조건문과 딕셔너리를 결합 "
   ]
  },
  {
   "cell_type": "code",
   "execution_count": 20,
   "metadata": {},
   "outputs": [
    {
     "name": "stdout",
     "output_type": "stream",
     "text": [
      "권은비 1995\n",
      "미야와키 사쿠라 1998\n",
      "강혜원 1999\n",
      "최예나 1999\n",
      "이채연 2000\n",
      "김채원 2000\n",
      "김민주 2001\n",
      "야부키 나코 2001\n",
      "혼다 히토미 2001\n",
      "조유리 2001\n",
      "안유진 2003\n",
      "장원영 2004\n"
     ]
    }
   ],
   "source": [
    "#모 걸그룹의 멤버와 출생년도를 딕셔너리 형태로 저장한다. \n",
    "\n",
    "izone = {'권은비':1995, \n",
    "         '미야와키 사쿠라':1998, \n",
    "         '강혜원':1999, \n",
    "         '최예나':1999, \n",
    "         '이채연':2000, \n",
    "         '김채원':2000, \n",
    "         '김민주':2001, \n",
    "         '야부키 나코':2001, \n",
    "         '혼다 히토미':2001, \n",
    "         '조유리':2001, \n",
    "         '안유진':2003, \n",
    "         '장원영':2004}\n",
    "\n",
    "#딕셔너리의 키와 값들을 하나씩 훑어본다. \n",
    "for key,value in izone.items():\n",
    "    print (key,value)"
   ]
  },
  {
   "cell_type": "markdown",
   "metadata": {},
   "source": [
    "2000년생 이전 멤버만 출력하고 싶다면?"
   ]
  },
  {
   "cell_type": "code",
   "execution_count": 82,
   "metadata": {},
   "outputs": [
    {
     "name": "stdout",
     "output_type": "stream",
     "text": [
      "권은비 1995\n",
      "미야와키 사쿠라 1998\n",
      "강혜원 1999\n",
      "최예나 1999\n"
     ]
    }
   ],
   "source": [
    "#딕셔너리의 key(멤버 이름)와 value(나이)를 불러온다. \n",
    "\n",
    "for key,value in izone.items():\n",
    "    if value<2000:\n",
    "        print (key,value)"
   ]
  },
  {
   "cell_type": "markdown",
   "metadata": {},
   "source": [
    "'야부키 나코' 보다 동생만 출력하고 싶다면?"
   ]
  },
  {
   "cell_type": "code",
   "execution_count": 83,
   "metadata": {},
   "outputs": [
    {
     "data": {
      "text/plain": [
       "2001"
      ]
     },
     "execution_count": 83,
     "metadata": {},
     "output_type": "execute_result"
    }
   ],
   "source": [
    "#nako라는 변수에 '야부키 나코'의 나이를 저장하고 \n",
    "\n",
    "nako=izone['야부키 나코']\n",
    "nako"
   ]
  },
  {
   "cell_type": "code",
   "execution_count": 85,
   "metadata": {},
   "outputs": [
    {
     "name": "stdout",
     "output_type": "stream",
     "text": [
      "안유진 2003\n",
      "장원영 2004\n"
     ]
    }
   ],
   "source": [
    "for key,value in izone.items():\n",
    "    if nako<value:\n",
    "        print (key,value)"
   ]
  },
  {
   "cell_type": "markdown",
   "metadata": {},
   "source": [
    "## if..else\n",
    "\n",
    "만약...이면 이걸 하고 아니면 저걸 한다. "
   ]
  },
  {
   "cell_type": "code",
   "execution_count": 94,
   "metadata": {},
   "outputs": [
    {
     "name": "stdout",
     "output_type": "stream",
     "text": [
      "권은비 동갑 아니면 언니\n",
      "미야와키 사쿠라 동갑 아니면 언니\n",
      "강혜원 동갑 아니면 언니\n",
      "최예나 동갑 아니면 언니\n",
      "이채연 동갑 아니면 언니\n",
      "김채원 동갑 아니면 언니\n",
      "김민주 동갑 아니면 언니\n",
      "야부키 나코 동갑 아니면 언니\n",
      "혼다 히토미 동갑 아니면 언니\n",
      "조유리 동갑 아니면 언니\n",
      "안유진 동생\n",
      "장원영 동생\n"
     ]
    }
   ],
   "source": [
    "for key,value in izone.items():\n",
    "    if nako<value:\n",
    "        print (key+\" 동생\")\n",
    "    else:\n",
    "        print (key+\" 동갑 아니면 언니\")"
   ]
  },
  {
   "cell_type": "markdown",
   "metadata": {},
   "source": [
    "만약 조건 A면 (if) A를 하고 만약 조건 B면 (elif) B를 하고..이도저도 아니면 (else) C를 한다 "
   ]
  },
  {
   "cell_type": "markdown",
   "metadata": {},
   "source": [
    "for key,value in izone.items():\n",
    "    if nako<value:\n",
    "        print (key+\" 동생\")\n",
    "    elif nako==value:\n",
    "        print (key+\" 동갑\")\n",
    "    else:\n",
    "        print (key+\" 언니\")"
   ]
  },
  {
   "cell_type": "markdown",
   "metadata": {},
   "source": [
    "## 연습문제 \n",
    "\n",
    "'미야와키 사쿠라' (혹은 아무 멤버와) 다른 모든 멤버와의 나이를 출력해보자. "
   ]
  },
  {
   "cell_type": "code",
   "execution_count": null,
   "metadata": {},
   "outputs": [],
   "source": [
    "#아래 스크립트를 고쳐서...\n",
    "\n",
    "izone = {'권은비':1995, \n",
    "         '미야와키 사쿠라':1998, \n",
    "         '강혜원':1999, \n",
    "         '최예나':1999, \n",
    "         '이채연':2000, \n",
    "         '김채원':2000, \n",
    "         '김민주':2001, \n",
    "         '야부키 나코':2001, \n",
    "         '혼다 히토미':2001, \n",
    "         '조유리':2001, \n",
    "         '안유진':2003, \n",
    "         '장원영':2004}\n",
    "\n",
    "#미야와키 사쿠라의 이름을 'OnePick'이라는 변수에 저장하고 \n",
    "OnePick = '미야와키 사쿠라'\n",
    "\n",
    "#미야와키 사쿠라의 나이를 딕셔너리에서 불러온다. \n",
    "OnePickYear = izone[OnePick]\n",
    "\n",
    "\n",
    "    "
   ]
  },
  {
   "cell_type": "code",
   "execution_count": 24,
   "metadata": {},
   "outputs": [
    {
     "name": "stdout",
     "output_type": "stream",
     "text": [
      "권은비 와 미야와키 사쿠라 나이 차는 3\n",
      "미야와키 사쿠라 와 미야와키 사쿠라 나이 차는 0\n",
      "강혜원 와 미야와키 사쿠라 나이 차는 1\n",
      "최예나 와 미야와키 사쿠라 나이 차는 1\n",
      "이채연 와 미야와키 사쿠라 나이 차는 2\n",
      "김채원 와 미야와키 사쿠라 나이 차는 2\n",
      "김민주 와 미야와키 사쿠라 나이 차는 3\n",
      "야부키 나코 와 미야와키 사쿠라 나이 차는 3\n",
      "혼다 히토미 와 미야와키 사쿠라 나이 차는 3\n",
      "조유리 와 미야와키 사쿠라 나이 차는 3\n",
      "안유진 와 미야와키 사쿠라 나이 차는 5\n",
      "장원영 와 미야와키 사쿠라 나이 차는 6\n"
     ]
    }
   ],
   "source": [
    "for key,value in izone.items():\n",
    "    #여기서 다음 출력이 나오려면 어떻게 입력해야 할까? "
   ]
  },
  {
   "cell_type": "markdown",
   "metadata": {},
   "source": [
    "덕질은 그만하고...\n",
    "이제 좀 연구에 가까운 것을 해보자 (...)"
   ]
  },
  {
   "cell_type": "code",
   "execution_count": 17,
   "metadata": {},
   "outputs": [],
   "source": [
    "seq=\"\"\"MEEPQSDPSVEPPLSQETFSDLWKLLPENNVLSPLPSQAMDDLMLSPDDIEQWFTEDPGPDEAPRMPEAAPPVAPAPAAPTPAAPAPAPSWPLSSSVPSQKTYQGSYGFRLGFLHSGTAKSVTCTYSPALNKMFCQLAKTCPVQLWVDSTPPPGTRVRAMAIYKQSQHMTEVVRRCPHHERCSDSDGLAPPQHLIRVEGNLRVEYLDDRNTFRHSVVVPYEPPEVGSDCTTIHYNYMCNSSCMGGMNRRPILTIITLEDSSGNLLGRNSFEVRVCACPGRDRRTEEENLRKKGEPHHELPPGSTKRALPNNTSSSPQPKKKPLDGEYFTLQIRGRERFEMFRELNEALELKDAQAGKEPGGSRAHSSHLKSKKGQSTSRHKKLMFKTEGPDSD\"\"\""
   ]
  },
  {
   "cell_type": "code",
   "execution_count": 8,
   "metadata": {},
   "outputs": [
    {
     "data": {
      "text/plain": [
       "'MEEPQSDPSVEPPLSQETFSDLWKLLPENNVLSPLPSQAMDDLMLSPDDIEQWFTEDPGPDEAPRMPEAAPPVAPAPAAPTPAAPAPAPSWPLSSSVPSQKTYQGSYGFRLGFLHSGTAKSVTCTYSPALNKMFCQLAKTCPVQLWVDSTPPPGTRVRAMAIYKQSQHMTEVVRRCPHHERCSDSDGLAPPQHLIRVEGNLRVEYLDDRNTFRHSVVVPYEPPEVGSDCTTIHYNYMCNSSCMGGMNRRPILTIITLEDSSGNLLGRNSFEVRVCACPGRDRRTEEENLRKKGEPHHELPPGSTKRALPNNTSSSPQPKKKPLDGEYFTLQIRGRERFEMFRELNEALELKDAQAGKEPGGSRAHSSHLKSKKGQSTSRHKKLMFKTEGPDSD'"
      ]
     },
     "execution_count": 8,
     "metadata": {},
     "output_type": "execute_result"
    }
   ],
   "source": [
    "seq"
   ]
  },
  {
   "cell_type": "markdown",
   "metadata": {},
   "source": [
    "이 아미노산의 길이는?"
   ]
  },
  {
   "cell_type": "code",
   "execution_count": 9,
   "metadata": {},
   "outputs": [
    {
     "data": {
      "text/plain": [
       "393"
      ]
     },
     "execution_count": 9,
     "metadata": {},
     "output_type": "execute_result"
    }
   ],
   "source": [
    "len(seq)"
   ]
  },
  {
   "cell_type": "markdown",
   "metadata": {},
   "source": [
    "이 단백질의 분자량을 계산해 보자. \n",
    "각각의 아미노산의 분자량을 딕셔너리로 저장하고..."
   ]
  },
  {
   "cell_type": "code",
   "execution_count": 10,
   "metadata": {},
   "outputs": [],
   "source": [
    "MW = {'G':57.05,\n",
    "      'A':71.09,\n",
    "      'S':87.08,\n",
    "      'T':101.11,\n",
    "      'C':103.15,\n",
    "      'V':99.14,\n",
    "      'L':113.16,\n",
    "      'I':113.16,\n",
    "      'M':131.19,\n",
    "      'P':97.12,\n",
    "      'F':147.18,\n",
    "      'Y':163.18,\n",
    "      'W':186.21,\n",
    "      'D':115.09,\n",
    "      'E':129.12,\n",
    "      'N':114.11,\n",
    "      'Q':128.14,\n",
    "      'H':137.14,\n",
    "      'K':128.17,\n",
    "      'R':156.19}"
   ]
  },
  {
   "cell_type": "code",
   "execution_count": 11,
   "metadata": {},
   "outputs": [
    {
     "data": {
      "text/plain": [
       "71.09"
      ]
     },
     "execution_count": 11,
     "metadata": {},
     "output_type": "execute_result"
    }
   ],
   "source": [
    "MW['A']"
   ]
  },
  {
   "cell_type": "code",
   "execution_count": 12,
   "metadata": {},
   "outputs": [
    {
     "data": {
      "text/plain": [
       "128.17"
      ]
     },
     "execution_count": 12,
     "metadata": {},
     "output_type": "execute_result"
    }
   ],
   "source": [
    "MW['K']"
   ]
  },
  {
   "cell_type": "markdown",
   "metadata": {},
   "source": [
    "단백질 서열을 처음부터 한 글자씩 읽은 다음, 이것을 딕셔너리에서 찾는다. \n",
    "찾는 숫자를 다 더한다. "
   ]
  },
  {
   "cell_type": "code",
   "execution_count": 13,
   "metadata": {},
   "outputs": [
    {
     "name": "stdout",
     "output_type": "stream",
     "text": [
      "M\n",
      "E\n",
      "E\n",
      "P\n",
      "Q\n",
      "S\n",
      "D\n",
      "P\n",
      "S\n",
      "V\n",
      "E\n",
      "P\n",
      "P\n",
      "L\n",
      "S\n",
      "Q\n",
      "E\n",
      "T\n",
      "F\n",
      "S\n",
      "D\n",
      "L\n",
      "W\n",
      "K\n",
      "L\n",
      "L\n",
      "P\n",
      "E\n",
      "N\n",
      "N\n",
      "V\n",
      "L\n",
      "S\n",
      "P\n",
      "L\n",
      "P\n",
      "S\n",
      "Q\n",
      "A\n",
      "M\n",
      "D\n",
      "D\n",
      "L\n",
      "M\n",
      "L\n",
      "S\n",
      "P\n",
      "D\n",
      "D\n",
      "I\n",
      "E\n",
      "Q\n",
      "W\n",
      "F\n",
      "T\n",
      "E\n",
      "D\n",
      "P\n",
      "G\n",
      "P\n",
      "D\n",
      "E\n",
      "A\n",
      "P\n",
      "R\n",
      "M\n",
      "P\n",
      "E\n",
      "A\n",
      "A\n",
      "P\n",
      "P\n",
      "V\n",
      "A\n",
      "P\n",
      "A\n",
      "P\n",
      "A\n",
      "A\n",
      "P\n",
      "T\n",
      "P\n",
      "A\n",
      "A\n",
      "P\n",
      "A\n",
      "P\n",
      "A\n",
      "P\n",
      "S\n",
      "W\n",
      "P\n",
      "L\n",
      "S\n",
      "S\n",
      "S\n",
      "V\n",
      "P\n",
      "S\n",
      "Q\n",
      "K\n",
      "T\n",
      "Y\n",
      "Q\n",
      "G\n",
      "S\n",
      "Y\n",
      "G\n",
      "F\n",
      "R\n",
      "L\n",
      "G\n",
      "F\n",
      "L\n",
      "H\n",
      "S\n",
      "G\n",
      "T\n",
      "A\n",
      "K\n",
      "S\n",
      "V\n",
      "T\n",
      "C\n",
      "T\n",
      "Y\n",
      "S\n",
      "P\n",
      "A\n",
      "L\n",
      "N\n",
      "K\n",
      "M\n",
      "F\n",
      "C\n",
      "Q\n",
      "L\n",
      "A\n",
      "K\n",
      "T\n",
      "C\n",
      "P\n",
      "V\n",
      "Q\n",
      "L\n",
      "W\n",
      "V\n",
      "D\n",
      "S\n",
      "T\n",
      "P\n",
      "P\n",
      "P\n",
      "G\n",
      "T\n",
      "R\n",
      "V\n",
      "R\n",
      "A\n",
      "M\n",
      "A\n",
      "I\n",
      "Y\n",
      "K\n",
      "Q\n",
      "S\n",
      "Q\n",
      "H\n",
      "M\n",
      "T\n",
      "E\n",
      "V\n",
      "V\n",
      "R\n",
      "R\n",
      "C\n",
      "P\n",
      "H\n",
      "H\n",
      "E\n",
      "R\n",
      "C\n",
      "S\n",
      "D\n",
      "S\n",
      "D\n",
      "G\n",
      "L\n",
      "A\n",
      "P\n",
      "P\n",
      "Q\n",
      "H\n",
      "L\n",
      "I\n",
      "R\n",
      "V\n",
      "E\n",
      "G\n",
      "N\n",
      "L\n",
      "R\n",
      "V\n",
      "E\n",
      "Y\n",
      "L\n",
      "D\n",
      "D\n",
      "R\n",
      "N\n",
      "T\n",
      "F\n",
      "R\n",
      "H\n",
      "S\n",
      "V\n",
      "V\n",
      "V\n",
      "P\n",
      "Y\n",
      "E\n",
      "P\n",
      "P\n",
      "E\n",
      "V\n",
      "G\n",
      "S\n",
      "D\n",
      "C\n",
      "T\n",
      "T\n",
      "I\n",
      "H\n",
      "Y\n",
      "N\n",
      "Y\n",
      "M\n",
      "C\n",
      "N\n",
      "S\n",
      "S\n",
      "C\n",
      "M\n",
      "G\n",
      "G\n",
      "M\n",
      "N\n",
      "R\n",
      "R\n",
      "P\n",
      "I\n",
      "L\n",
      "T\n",
      "I\n",
      "I\n",
      "T\n",
      "L\n",
      "E\n",
      "D\n",
      "S\n",
      "S\n",
      "G\n",
      "N\n",
      "L\n",
      "L\n",
      "G\n",
      "R\n",
      "N\n",
      "S\n",
      "F\n",
      "E\n",
      "V\n",
      "R\n",
      "V\n",
      "C\n",
      "A\n",
      "C\n",
      "P\n",
      "G\n",
      "R\n",
      "D\n",
      "R\n",
      "R\n",
      "T\n",
      "E\n",
      "E\n",
      "E\n",
      "N\n",
      "L\n",
      "R\n",
      "K\n",
      "K\n",
      "G\n",
      "E\n",
      "P\n",
      "H\n",
      "H\n",
      "E\n",
      "L\n",
      "P\n",
      "P\n",
      "G\n",
      "S\n",
      "T\n",
      "K\n",
      "R\n",
      "A\n",
      "L\n",
      "P\n",
      "N\n",
      "N\n",
      "T\n",
      "S\n",
      "S\n",
      "S\n",
      "P\n",
      "Q\n",
      "P\n",
      "K\n",
      "K\n",
      "K\n",
      "P\n",
      "L\n",
      "D\n",
      "G\n",
      "E\n",
      "Y\n",
      "F\n",
      "T\n",
      "L\n",
      "Q\n",
      "I\n",
      "R\n",
      "G\n",
      "R\n",
      "E\n",
      "R\n",
      "F\n",
      "E\n",
      "M\n",
      "F\n",
      "R\n",
      "E\n",
      "L\n",
      "N\n",
      "E\n",
      "A\n",
      "L\n",
      "E\n",
      "L\n",
      "K\n",
      "D\n",
      "A\n",
      "Q\n",
      "A\n",
      "G\n",
      "K\n",
      "E\n",
      "P\n",
      "G\n",
      "G\n",
      "S\n",
      "R\n",
      "A\n",
      "H\n",
      "S\n",
      "S\n",
      "H\n",
      "L\n",
      "K\n",
      "S\n",
      "K\n",
      "K\n",
      "G\n",
      "Q\n",
      "S\n",
      "T\n",
      "S\n",
      "R\n",
      "H\n",
      "K\n",
      "K\n",
      "L\n",
      "M\n",
      "F\n",
      "K\n",
      "T\n",
      "E\n",
      "G\n",
      "P\n",
      "D\n",
      "S\n",
      "D\n"
     ]
    }
   ],
   "source": [
    "for aa in seq:\n",
    "    print(aa)"
   ]
  },
  {
   "cell_type": "code",
   "execution_count": 117,
   "metadata": {},
   "outputs": [
    {
     "name": "stdout",
     "output_type": "stream",
     "text": [
      "131.19\n",
      "129.12\n",
      "129.12\n",
      "97.12\n",
      "128.14\n",
      "87.08\n",
      "115.09\n",
      "97.12\n",
      "87.08\n",
      "99.14\n",
      "129.12\n",
      "97.12\n",
      "97.12\n",
      "113.16\n",
      "87.08\n",
      "128.14\n",
      "129.12\n",
      "101.11\n",
      "147.18\n",
      "87.08\n",
      "115.09\n",
      "113.16\n",
      "186.21\n",
      "128.17\n",
      "113.16\n",
      "113.16\n",
      "97.12\n",
      "129.12\n",
      "114.11\n",
      "114.11\n",
      "99.14\n",
      "113.16\n",
      "87.08\n",
      "97.12\n",
      "113.16\n",
      "97.12\n",
      "87.08\n",
      "128.14\n",
      "71.09\n",
      "131.19\n",
      "115.09\n",
      "115.09\n",
      "113.16\n",
      "131.19\n",
      "113.16\n",
      "87.08\n",
      "97.12\n",
      "115.09\n",
      "115.09\n",
      "113.16\n",
      "129.12\n",
      "128.14\n",
      "186.21\n",
      "147.18\n",
      "101.11\n",
      "129.12\n",
      "115.09\n",
      "97.12\n",
      "57.05\n",
      "97.12\n",
      "115.09\n",
      "129.12\n",
      "71.09\n",
      "97.12\n",
      "156.19\n",
      "131.19\n",
      "97.12\n",
      "129.12\n",
      "71.09\n",
      "71.09\n",
      "97.12\n",
      "97.12\n",
      "99.14\n",
      "71.09\n",
      "97.12\n",
      "71.09\n",
      "97.12\n",
      "71.09\n",
      "71.09\n",
      "97.12\n",
      "101.11\n",
      "97.12\n",
      "71.09\n",
      "71.09\n",
      "97.12\n",
      "71.09\n",
      "97.12\n",
      "71.09\n",
      "97.12\n",
      "87.08\n",
      "186.21\n",
      "97.12\n",
      "113.16\n",
      "87.08\n",
      "87.08\n",
      "87.08\n",
      "99.14\n",
      "97.12\n",
      "87.08\n",
      "128.14\n",
      "128.17\n",
      "101.11\n",
      "163.18\n",
      "128.14\n",
      "57.05\n",
      "87.08\n",
      "163.18\n",
      "57.05\n",
      "147.18\n",
      "156.19\n",
      "113.16\n",
      "57.05\n",
      "147.18\n",
      "113.16\n",
      "137.14\n",
      "87.08\n",
      "57.05\n",
      "101.11\n",
      "71.09\n",
      "128.17\n",
      "87.08\n",
      "99.14\n",
      "101.11\n",
      "103.15\n",
      "101.11\n",
      "163.18\n",
      "87.08\n",
      "97.12\n",
      "71.09\n",
      "113.16\n",
      "114.11\n",
      "128.17\n",
      "131.19\n",
      "147.18\n",
      "103.15\n",
      "128.14\n",
      "113.16\n",
      "71.09\n",
      "128.17\n",
      "101.11\n",
      "103.15\n",
      "97.12\n",
      "99.14\n",
      "128.14\n",
      "113.16\n",
      "186.21\n",
      "99.14\n",
      "115.09\n",
      "87.08\n",
      "101.11\n",
      "97.12\n",
      "97.12\n",
      "97.12\n",
      "57.05\n",
      "101.11\n",
      "156.19\n",
      "99.14\n",
      "156.19\n",
      "71.09\n",
      "131.19\n",
      "71.09\n",
      "113.16\n",
      "163.18\n",
      "128.17\n",
      "128.14\n",
      "87.08\n",
      "128.14\n",
      "137.14\n",
      "131.19\n",
      "101.11\n",
      "129.12\n",
      "99.14\n",
      "99.14\n",
      "156.19\n",
      "156.19\n",
      "103.15\n",
      "97.12\n",
      "137.14\n",
      "137.14\n",
      "129.12\n",
      "156.19\n",
      "103.15\n",
      "87.08\n",
      "115.09\n",
      "87.08\n",
      "115.09\n",
      "57.05\n",
      "113.16\n",
      "71.09\n",
      "97.12\n",
      "97.12\n",
      "128.14\n",
      "137.14\n",
      "113.16\n",
      "113.16\n",
      "156.19\n",
      "99.14\n",
      "129.12\n",
      "57.05\n",
      "114.11\n",
      "113.16\n",
      "156.19\n",
      "99.14\n",
      "129.12\n",
      "163.18\n",
      "113.16\n",
      "115.09\n",
      "115.09\n",
      "156.19\n",
      "114.11\n",
      "101.11\n",
      "147.18\n",
      "156.19\n",
      "137.14\n",
      "87.08\n",
      "99.14\n",
      "99.14\n",
      "99.14\n",
      "97.12\n",
      "163.18\n",
      "129.12\n",
      "97.12\n",
      "97.12\n",
      "129.12\n",
      "99.14\n",
      "57.05\n",
      "87.08\n",
      "115.09\n",
      "103.15\n",
      "101.11\n",
      "101.11\n",
      "113.16\n",
      "137.14\n",
      "163.18\n",
      "114.11\n",
      "163.18\n",
      "131.19\n",
      "103.15\n",
      "114.11\n",
      "87.08\n",
      "87.08\n",
      "103.15\n",
      "131.19\n",
      "57.05\n",
      "57.05\n",
      "131.19\n",
      "114.11\n",
      "156.19\n",
      "156.19\n",
      "97.12\n",
      "113.16\n",
      "113.16\n",
      "101.11\n",
      "113.16\n",
      "113.16\n",
      "101.11\n",
      "113.16\n",
      "129.12\n",
      "115.09\n",
      "87.08\n",
      "87.08\n",
      "57.05\n",
      "114.11\n",
      "113.16\n",
      "113.16\n",
      "57.05\n",
      "156.19\n",
      "114.11\n",
      "87.08\n",
      "147.18\n",
      "129.12\n",
      "99.14\n",
      "156.19\n",
      "99.14\n",
      "103.15\n",
      "71.09\n",
      "103.15\n",
      "97.12\n",
      "57.05\n",
      "156.19\n",
      "115.09\n",
      "156.19\n",
      "156.19\n",
      "101.11\n",
      "129.12\n",
      "129.12\n",
      "129.12\n",
      "114.11\n",
      "113.16\n",
      "156.19\n",
      "128.17\n",
      "128.17\n",
      "57.05\n",
      "129.12\n",
      "97.12\n",
      "137.14\n",
      "137.14\n",
      "129.12\n",
      "113.16\n",
      "97.12\n",
      "97.12\n",
      "57.05\n",
      "87.08\n",
      "101.11\n",
      "128.17\n",
      "156.19\n",
      "71.09\n",
      "113.16\n",
      "97.12\n",
      "114.11\n",
      "114.11\n",
      "101.11\n",
      "87.08\n",
      "87.08\n",
      "87.08\n",
      "97.12\n",
      "128.14\n",
      "97.12\n",
      "128.17\n",
      "128.17\n",
      "128.17\n",
      "97.12\n",
      "113.16\n",
      "115.09\n",
      "57.05\n",
      "129.12\n",
      "163.18\n",
      "147.18\n",
      "101.11\n",
      "113.16\n",
      "128.14\n",
      "113.16\n",
      "156.19\n",
      "57.05\n",
      "156.19\n",
      "129.12\n",
      "156.19\n",
      "147.18\n",
      "129.12\n",
      "131.19\n",
      "147.18\n",
      "156.19\n",
      "129.12\n",
      "113.16\n",
      "114.11\n",
      "129.12\n",
      "71.09\n",
      "113.16\n",
      "129.12\n",
      "113.16\n",
      "128.17\n",
      "115.09\n",
      "71.09\n",
      "128.14\n",
      "71.09\n",
      "57.05\n",
      "128.17\n",
      "129.12\n",
      "97.12\n",
      "57.05\n",
      "57.05\n",
      "87.08\n",
      "156.19\n",
      "71.09\n",
      "137.14\n",
      "87.08\n",
      "87.08\n",
      "137.14\n",
      "113.16\n",
      "128.17\n",
      "87.08\n",
      "128.17\n",
      "128.17\n",
      "57.05\n",
      "128.14\n",
      "87.08\n",
      "101.11\n",
      "87.08\n",
      "156.19\n",
      "137.14\n",
      "128.17\n",
      "128.17\n",
      "113.16\n",
      "131.19\n",
      "147.18\n",
      "128.17\n",
      "101.11\n",
      "129.12\n",
      "57.05\n",
      "97.12\n",
      "115.09\n",
      "87.08\n",
      "115.09\n"
     ]
    }
   ],
   "source": [
    "for aa in seq:\n",
    "    print (MW[aa])"
   ]
  },
  {
   "cell_type": "markdown",
   "metadata": {},
   "source": [
    "어떻게 이 숫자를 더할 것인가? "
   ]
  },
  {
   "cell_type": "code",
   "execution_count": 14,
   "metadata": {},
   "outputs": [
    {
     "name": "stdout",
     "output_type": "stream",
     "text": [
      "43636.37000000006\n"
     ]
    }
   ],
   "source": [
    "molecular_weight=0\n",
    "for aa in seq:\n",
    "    molecular_weight=molecular_weight+MW[aa]\n",
    "#\n",
    "#   molecular_weight+=molecular_weight 와 같이 써도 된다 \n",
    "#\n",
    "print (molecular_weight)"
   ]
  },
  {
   "cell_type": "code",
   "execution_count": 15,
   "metadata": {},
   "outputs": [
    {
     "data": {
      "text/plain": [
       "43636.37000000006"
      ]
     },
     "execution_count": 15,
     "metadata": {},
     "output_type": "execute_result"
    }
   ],
   "source": [
    "molecular_weight"
   ]
  },
  {
   "cell_type": "markdown",
   "metadata": {},
   "source": [
    "### 연습문제\n",
    "\n",
    "각각의 아미노산과 분자량을 같이 표시해보자.  \n",
    "\n",
    "Q 128.14\n",
    "\n",
    "S 87.08\n",
    "\n",
    "T 101.11\n",
    "\n",
    "S 87.08\n",
    "\n",
    "R 156.19\n",
    "\n",
    "H 137.14\n",
    "\n",
    "K 128.17\n",
    "\n",
    "K 128.17\n",
    "\n",
    "L 113.16\n",
    "\n",
    "M 131.19\n",
    "\n",
    "F 147.18\n",
    "\n",
    "Total  43636.37000000006\n",
    "\n",
    "이런 출력이 나오도록 위의 스크립트를 고쳐 보자. "
   ]
  },
  {
   "cell_type": "code",
   "execution_count": null,
   "metadata": {},
   "outputs": [],
   "source": []
  },
  {
   "cell_type": "code",
   "execution_count": null,
   "metadata": {},
   "outputs": [],
   "source": [
    "# 파일 읽기 및 쓰기 \n",
    "텍스트 파일을 다루는 것 역시 파이썬에서 쉽게 할 수 있다. "
   ]
  }
 ],
 "metadata": {
  "kernelspec": {
   "display_name": "Python 3",
   "language": "python",
   "name": "python3"
  },
  "language_info": {
   "codemirror_mode": {
    "name": "ipython",
    "version": 3
   },
   "file_extension": ".py",
   "mimetype": "text/x-python",
   "name": "python",
   "nbconvert_exporter": "python",
   "pygments_lexer": "ipython3",
   "version": "3.7.4"
  }
 },
 "nbformat": 4,
 "nbformat_minor": 2
}
