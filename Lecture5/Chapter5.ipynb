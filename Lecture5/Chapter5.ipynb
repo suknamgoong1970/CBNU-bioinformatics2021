{
 "cells": [
  {
   "cell_type": "markdown",
   "metadata": {},
   "source": [
    "## 모듈 설치하기 \n",
    "\n",
    "\n",
    "- 모듈 (Module)이란 파이썬에서 제공하는 여러 기능을 사용하기 위한 수단이며, \n",
    "- Anaconda 설치시에는 기본적으로 많은 과학용 모듈이 설치되나, 설치되지 않은 것들도 존재한다. \n",
    "- 이를 위해서는 FASTA 파일을 다루는 모듈을 설치하는 것이 편하다. \n",
    "\n",
    "\n",
    "FASTA 파일 등의 생물학 데이터를 파이썬에서 불러와서 계산에 사용할 수 있다.  \n",
    "\n",
    "우리가 사용할 모듈은 pyfaidx 라는 모듈이다. \n",
    "\n",
    "https://github.com/mdshw5/pyfaidx/blob/master/README.rst\n",
    "\n",
    "이를 설치하기 위해서는 다음과 같이 한다. \n",
    "코맨드 프롬프트 (윈도우의 아나콘다 프롬프트) 를 열고 9ㅐㅐㅔ \n",
    "\n",
    ">conda install -c bioconda pyfaidx \n",
    "\n",
    "제대로 설치되었는지 보려면 Jupyter Notebook 을 실행하고 \n",
    "새로운 Python 3 Notebook을 만든 다음 \n",
    "\n",
    "from pyfaidx import Fasta\n",
    "\n",
    "를 해본다. "
   ]
  },
  {
   "cell_type": "code",
   "execution_count": null,
   "metadata": {},
   "outputs": [],
   "source": [
    "from pyfaidx import Fasta"
   ]
  },
  {
   "cell_type": "markdown",
   "metadata": {},
   "source": [
    "인간 지놈  시퀀스의 단백질 파일을 다운로드하자.  \n",
    "Jupyter notebook에서 curl 이 작동하지 않으면 그냥 커멘드 라인에서 다운로드하자. \n"
   ]
  },
  {
   "cell_type": "code",
   "execution_count": null,
   "metadata": {},
   "outputs": [],
   "source": [
    "!curl -O \"https://ftp.ncbi.nlm.nih.gov/genomes/refseq/vertebrate_mammalian/Homo_sapiens/reference/GCF_000001405.39_GRCh38.p13/GCF_000001405.39_GRCh38.p13_protein.faa.gz\""
   ]
  },
  {
   "cell_type": "code",
   "execution_count": null,
   "metadata": {},
   "outputs": [],
   "source": [
    "!ls"
   ]
  },
  {
   "cell_type": "markdown",
   "metadata": {},
   "source": [
    "gunzip 으로 압축을 풀고..."
   ]
  },
  {
   "cell_type": "code",
   "execution_count": null,
   "metadata": {},
   "outputs": [],
   "source": [
    "!gunzip GCF_000001405.39_GRCh38.p13_protein.faa.gz"
   ]
  },
  {
   "cell_type": "code",
   "execution_count": null,
   "metadata": {},
   "outputs": [],
   "source": [
    "!head *.faa"
   ]
  },
  {
   "cell_type": "markdown",
   "metadata": {},
   "source": [
    "이름을 간단하게 Human.faa 로 고친다 "
   ]
  },
  {
   "cell_type": "code",
   "execution_count": null,
   "metadata": {},
   "outputs": [],
   "source": [
    "!mv GCF_000001405.39_GRCh38.p13_protein.faa Human.faa"
   ]
  },
  {
   "cell_type": "markdown",
   "metadata": {},
   "source": [
    "protein 이라는 이름으로 TAIR.faa 파일을 불러온다. "
   ]
  },
  {
   "cell_type": "code",
   "execution_count": null,
   "metadata": {},
   "outputs": [],
   "source": [
    "from pyfaidx import Fasta\n",
    "protein = Fasta('Human.faa')\n",
    "protein"
   ]
  },
  {
   "cell_type": "markdown",
   "metadata": {},
   "source": [
    "여기에는 단백질의 id가 들어 있다. "
   ]
  },
  {
   "cell_type": "code",
   "execution_count": null,
   "metadata": {},
   "outputs": [],
   "source": [
    "protein.keys()"
   ]
  },
  {
   "cell_type": "markdown",
   "metadata": {},
   "source": [
    "모두 몇 개의 단백질이 들어 있을까? "
   ]
  },
  {
   "cell_type": "code",
   "execution_count": null,
   "metadata": {},
   "outputs": [],
   "source": [
    "len(protein.keys())"
   ]
  },
  {
   "cell_type": "markdown",
   "metadata": {},
   "source": [
    "NP_000005.3 라는 단백질을 표시하고 싶다면..."
   ]
  },
  {
   "cell_type": "code",
   "execution_count": null,
   "metadata": {},
   "outputs": [],
   "source": [
    "print(protein['NP_000005.3'])"
   ]
  },
  {
   "cell_type": "markdown",
   "metadata": {},
   "source": [
    "단백질을 모두 출력해보자. \n",
    "protein에 protein.keys() 에서 나오는 아이디를 넣으면 개별 단백질을 얻을 수 있다.  \n",
    "protein[proteinkey].long_name  을 이용하면 헤더를 얻을 수 있다.   "
   ]
  },
  {
   "cell_type": "code",
   "execution_count": null,
   "metadata": {},
   "outputs": [],
   "source": [
    "for proteinkey in protein.keys():\n",
    "    name = protein[proteinkey].long_name\n",
    "    print ('>'+name)\n",
    "    print (protein[proteinkey])"
   ]
  },
  {
   "cell_type": "markdown",
   "metadata": {},
   "source": [
    "특정한 단백질만을 검색하고 싶다면?  \n",
    "kinase 만을 골라내보자. \n",
    "\n",
    "\n",
    "문자열 내에 어떤 단어가 들어있는지를 찾으려면 \n",
    "if '찾을문자열' in 문자열변수:\n",
    "의 조건으로 검색한다. "
   ]
  },
  {
   "cell_type": "code",
   "execution_count": null,
   "metadata": {},
   "outputs": [],
   "source": [
    "for proteinkey in protein.keys():\n",
    "    name = protein[proteinkey].long_name\n",
    "    if 'kinase' in name :\n",
    "        #헤더 \n",
    "        print ('>'+name)\n",
    "        #단백질 내용물 \n",
    "        print (protein[proteinkey])"
   ]
  },
  {
   "cell_type": "code",
   "execution_count": null,
   "metadata": {},
   "outputs": [],
   "source": [
    "모두 몇 개가 있을까? 스크립트를 다시 수정해부자. "
   ]
  },
  {
   "cell_type": "code",
   "execution_count": null,
   "metadata": {},
   "outputs": [],
   "source": [
    "kinase = {}\n",
    "\n",
    "for proteinkey in protein.keys():\n",
    "    name = protein[proteinkey].long_name\n",
    "    if 'kinase' in name :\n",
    "        #헤더\n",
    "        kinase[name]=protein[proteinkey]\n",
    "        \n",
    "print(len(kinase))"
   ]
  },
  {
   "cell_type": "code",
   "execution_count": null,
   "metadata": {},
   "outputs": [],
   "source": [
    "kinase"
   ]
  },
  {
   "cell_type": "markdown",
   "metadata": {},
   "source": []
  },
  {
   "cell_type": "code",
   "execution_count": null,
   "metadata": {},
   "outputs": [],
   "source": [
    "#proteinlength라는 List 에 단백질의 길이를 저장한다. \n",
    "proteinlength = []\n",
    "for proteinkey in protein.keys():\n",
    "    proteinlength.append (len(protein[proteinkey]))"
   ]
  },
  {
   "cell_type": "code",
   "execution_count": null,
   "metadata": {},
   "outputs": [],
   "source": [
    "sum(proteinlength)/len(proteinlength)"
   ]
  },
  {
   "cell_type": "code",
   "execution_count": null,
   "metadata": {},
   "outputs": [],
   "source": [
    "이 전체의 합을 구하려면?"
   ]
  },
  {
   "cell_type": "markdown",
   "metadata": {},
   "source": [
    "단백질의 분자량을 구해보자.\n",
    "지난 주에 사용한 코드를 약간 고쳐서, '함수'로 만들어보자. \n",
    "자주 사용하는 코드를 '함수'로 만들면 반복되는 코드를 좀 더 쉽게 작성 가능하다. \n",
    "\n",
    "함수는 \n",
    "\n",
    "def 함수 이름 (함수에 전달하는 값)\n",
    "\n",
    "    해당 값을 이용하여 계산을 한다\n",
    "    return (출력값) \n",
    "\n",
    "과 같은 방식으로 되어 있다. \n",
    "\n",
    "a+b 를 함수로 만들어 보면, "
   ]
  },
  {
   "cell_type": "code",
   "execution_count": null,
   "metadata": {},
   "outputs": [],
   "source": [
    "def plus (a,b):\n",
    "    #a와 b를 더하여 리턴한다. \n",
    "    return (a+b)\n",
    "\n",
    "plus(1,2)"
   ]
  },
  {
   "cell_type": "code",
   "execution_count": null,
   "metadata": {},
   "outputs": [],
   "source": [
    "#1부터 n까지 더하는 함수\n",
    "\n",
    "def number(n):\n",
    "    sum = 0 \n",
    "    for i in range(1,n+1):\n",
    "        sum = sum+i\n",
    "    return(sum)\n",
    "\n",
    "print(number(10))\n",
    "print(number(100))"
   ]
  },
  {
   "cell_type": "markdown",
   "metadata": {},
   "source": [
    "## 연습\n",
    "\n",
    "주어진 서열을 Reverse Complement 로 변환하는 다음의 함수를 완성해 보자. "
   ]
  },
  {
   "cell_type": "code",
   "execution_count": null,
   "metadata": {},
   "outputs": [],
   "source": [
    "\n",
    "def reversecomplement(sequence):\n",
    "    #서열은 이러한 딕셔너리로 변환한다. \n",
    "    rev = {'A':'T',\n",
    "           'T':'A',\n",
    "           'C':'G',\n",
    "           'G':'C'}\n",
    "    reverse = ''\n",
    "    #reverse complement 서열은 reverse 라는 변수에 저장한다. \n",
    "    #for loop에서 한 줄씩 sequence라는 변수에서 한 글자씩 읽어서, \n",
    "    #rev 딕셔너리를 이용하여 변환하고, \n",
    "    #이를 reverse에 저장해보자. \n",
    "    \n",
    "    return(reverse)\n",
    "\n",
    "reversecomplement('GAATTCG')\n",
    "        "
   ]
  },
  {
   "cell_type": "code",
   "execution_count": null,
   "metadata": {},
   "outputs": [],
   "source": [
    "지난번에 배웠던 분자량을 구하는 코드를 함수로 변환해보자. "
   ]
  },
  {
   "cell_type": "code",
   "execution_count": null,
   "metadata": {},
   "outputs": [],
   "source": [
    "def MolWeight(proteinsequence):\n",
    "# 분자량을 구하는 함수 \n",
    "# proteinsequence 에 아미노산 서열을 받고 \n",
    "# MW 에는 각각의 아미노산과 분자량의 딕셔너리가 있다. \n",
    "    MW = {'G':57.05,\n",
    "          'A':71.09,\n",
    "          'S':87.08,\n",
    "          'T':101.11,\n",
    "          'C':103.15,\n",
    "          'V':99.14,\n",
    "          'L':113.16,\n",
    "          'I':113.16,\n",
    "          'M':131.19,\n",
    "          'P':97.12,\n",
    "          'F':147.18,\n",
    "          'Y':163.18,\n",
    "          'W':186.21,\n",
    "          'D':115.09,\n",
    "          'E':129.12,\n",
    "          'N':114.11,\n",
    "          'Q':128.14,\n",
    "          'H':137.14,\n",
    "          'K':128.17,\n",
    "          'R':156.19,\n",
    "          'U':168.53,\n",
    "          'X':0,\n",
    "          'J':0}\n",
    "    MolecularWeight=0\n",
    "    for aa in proteinsequence:\n",
    "        MolecularWeight=MolecularWeight+MW[aa]\n",
    "    return(MolecularWeight)\n"
   ]
  },
  {
   "cell_type": "code",
   "execution_count": null,
   "metadata": {},
   "outputs": [],
   "source": [
    "#함수를 테스트해보자\n",
    "\n",
    "print(MolWeight('AFCGFGAAFFARTRR'))\n",
    "print(MolWeight('AGGAGAGAGAGAGAGGAG'))"
   ]
  },
  {
   "cell_type": "markdown",
   "metadata": {},
   "source": [
    "인간 단백질 중에서 분자량 1000000 이상인 단백질과 분자량만 출력해 보자. "
   ]
  },
  {
   "cell_type": "code",
   "execution_count": null,
   "metadata": {},
   "outputs": [],
   "source": [
    "for p in protein.keys():\n",
    "    if MolWeight(str(protein[p]))>100000:\n",
    "        print (protein[p].long_name, MolWeight(str(protein[p])))"
   ]
  },
  {
   "cell_type": "markdown",
   "metadata": {},
   "source": [
    "분자량 1000000 이상의 단백질의 이름과 서열을 출력해 보자. "
   ]
  },
  {
   "cell_type": "code",
   "execution_count": null,
   "metadata": {},
   "outputs": [],
   "source": [
    "for p in protein.keys():\n",
    "    if MolWeight(str(protein[p]))>100000:\n",
    "        print ('>'+protein[p].long_name)\n",
    "        print (str(protein[p]))"
   ]
  },
  {
   "cell_type": "code",
   "execution_count": null,
   "metadata": {},
   "outputs": [],
   "source": [
    "화면으로 출력하지 말고, 파일로 출력해 보자.  \n",
    "이전의 스크립트를 조금 수정하여, 다음과 같이 고쳐 보자. "
   ]
  },
  {
   "cell_type": "code",
   "execution_count": null,
   "metadata": {},
   "outputs": [],
   "source": [
    "#빈 리스트를 하나 만든다. 여기에 출력할 내용을 저장한다. \n",
    "buffer=[]\n",
    "\n",
    "for p in protein.keys():\n",
    "    \n",
    "    단백질의 분자량을 계산하고, 이것이 만약 100000을 넘을 경우에는 \n",
    "    if MolWeight(str(protein[p]))>100000:\n",
    "        #buffer 에 추가한다. \n",
    "        #파일로 쓸 때는 줄 구분을 위해서 끝에 '\\n'문자를 붙인다.\n",
    "        buffer.append('>'+protein[p].long_name+'\\n')\n",
    "        buffer.append(str(protein[p])+'\\n')"
   ]
  },
  {
   "cell_type": "code",
   "execution_count": null,
   "metadata": {},
   "outputs": [],
   "source": [
    "#파일을 저장한다. 파일을 열때 'w'를 지정하면 파일 쓰기 모드로 저장한다. \n",
    "\n",
    "f=open('file.fa','w')\n",
    "\n",
    "#f(파일 핸들).writelines(리스트 이름)을 넣으면 리스트에 담긴 내용을 파일로 저장한다. \n",
    "\n",
    "f.writelines(buffer)\n",
    "f.close()"
   ]
  },
  {
   "cell_type": "code",
   "execution_count": null,
   "metadata": {},
   "outputs": [],
   "source": [
    "!cat file.fa"
   ]
  },
  {
   "cell_type": "markdown",
   "metadata": {},
   "source": [
    "## 연습 \n",
    "분자량 1000000이상인 'Kinase' 만을 'kinase.fa' 라는 이름의 파일로 저장하는 코드를 작성해 보자. "
   ]
  },
  {
   "cell_type": "code",
   "execution_count": null,
   "metadata": {},
   "outputs": [],
   "source": []
  },
  {
   "cell_type": "code",
   "execution_count": null,
   "metadata": {},
   "outputs": [],
   "source": [
    "FASTA 데이터를 분석하여 이의 결과를 테이블 형식으로 출력해 보자. \n",
    "\n",
    "시퀀스 이름<Tab>시퀀스의 분자량<Tab>시퀀스"
   ]
  },
  {
   "cell_type": "code",
   "execution_count": null,
   "metadata": {},
   "outputs": [],
   "source": [
    "buffer=[]\n",
    "\n",
    "for p in protein.keys():\n",
    "    sequence_name = protein[p].long_name\n",
    "    sequence_mw = MolWeight(str(protein[p]))\n",
    "    sequence = str(protein[p])\n",
    "    buffer.append(sequence_name+'\\t'+str(sequence_mw)+'\\t'+sequence+'\\n')\n"
   ]
  },
  {
   "cell_type": "code",
   "execution_count": null,
   "metadata": {},
   "outputs": [],
   "source": [
    "f=open('formatted.tsv','w')\n",
    "f.writelines(buffer)\n",
    "f.close()"
   ]
  },
  {
   "cell_type": "markdown",
   "metadata": {},
   "source": [
    "이렇게 저장된 파일은 엑셀 등에서 불러올 수 있다. 그러나, 이러한 형식의 파일을 좀 더 쉽게 읽고 다루는 모듈이 파이썬에 존재한다."
   ]
  },
  {
   "cell_type": "markdown",
   "metadata": {},
   "source": [
    "## Pandas 기초 사용법 \n",
    "\n",
    "pandas 는 테이블 형식의 데이터를 다루기 쉽게 만들어진 모듈이다.   \n",
    "파이썬으로 데이터 분석을 하는 것의 90% 는 Pandas를 얼마나 잘 쓸 수 있는지에 달렸음. \n"
   ]
  },
  {
   "cell_type": "markdown",
   "metadata": {},
   "source": [
    "pandas는 anaconda python 을 설치하면 같이 깔리기 때문에 따로 설치할 필요는 없다.  \n",
    "pandas 를 사용하기 위해서는 다음과 같이 pandas 모듈을 로딩한다."
   ]
  },
  {
   "cell_type": "code",
   "execution_count": null,
   "metadata": {},
   "outputs": [],
   "source": [
    "#보통 이렇게 임포트하면 pd 로 줄여서 사용할 수 있다. \n",
    "\n",
    "import pandas as pd\n"
   ]
  },
  {
   "cell_type": "markdown",
   "metadata": {},
   "source": [
    "pandas의 기본 기능 단위는 데이터프레임 (DataFrame)이라고 불리는 데이터 단위이다.\n",
    "\n",
    "* 데이터프레임 하나는 엑셀 쉬트 하나를 생각하면 된다. \n",
    "* 데이터프레임은 'Column'과 'row'로 구분된다. \n",
    "\n",
    "데이터프레임을 생성하는 데는 여러가지 방법이 있다. \n",
    "\n",
    "* 테이블 형식으로 되어 있는 데이터 파일 (CSV, TSV, excel) 등을 읽어오기\n",
    "* 리스트, 딕셔너리 등의 파이썬 데이터 저장형식으로 저장된 것을 데이터프레임으로 변환 \n",
    "\n",
    "일단은 예를 들기 위하여 간단한 데이터를 직접 코드로 입력하여 만들도록 함.  \n",
    "아래의 예에서는 파이썬의 리스트를 이용하여 데이터프레임을 만들자. \n",
    "\n",
    "- 데이터프레임의 예제로 쓸 데이터를 리스트에 저장하자.\n",
    "- 이름, 생년, 소속사, 신장, 국적에 관련된 데이터를 저장하자."
   ]
  },
  {
   "cell_type": "code",
   "execution_count": null,
   "metadata": {},
   "outputs": [],
   "source": [
    "#조만간 해체될 모 걸그룹의 멤버 정보를 저장해보자. \n",
    "\n",
    "izone_name = ['권은비',\n",
    "              '미야와키 사쿠라',\n",
    "              '강혜원',\n",
    "              '최예나',\n",
    "              '이채연',\n",
    "              '김채원',\n",
    "              '김민주',\n",
    "              '야부키 나코',\n",
    "              '혼다 히토미',\n",
    "              '조유리',\n",
    "              '안유진',\n",
    "              '장원영']\n",
    "\n",
    "izone_birthdate = ['19950927',\n",
    "                   '19980319',\n",
    "                  '19990705',\n",
    "                  '19990929',\n",
    "                  '20000111',\n",
    "                  '20000801',\n",
    "                  '20010205',\n",
    "                  '20010608',\n",
    "                  '20011006',\n",
    "                  '20011022',\n",
    "                  '20030901',\n",
    "                  '20040831']\n",
    "\n",
    "izone_company = ['울림엔터테인먼트',\n",
    "                'Mercury',\n",
    "                '에잇디 크리에이티브',\n",
    "                '위에화엔터테인먼트',\n",
    "                'WM엔터테인먼트',\n",
    "                '울림엔터테인먼트',\n",
    "                '얼반웍스이엔티',\n",
    "                'Mercury',\n",
    "                'DH',\n",
    "                '스톤뮤직엔터테인먼트',\n",
    "                '스타쉽엔터테인먼트',\n",
    "                '스타쉽엔터테인먼트']\n",
    "\n",
    "izone_height = [160,\n",
    "               163,\n",
    "               163,\n",
    "               163,\n",
    "               165,\n",
    "               164,\n",
    "               166,\n",
    "               150,\n",
    "               158,\n",
    "               160,\n",
    "               169,\n",
    "               169]\n",
    "\n",
    "izone_nationality = ['대한민국',\n",
    "                     '일본',\n",
    "                     '대한민국',\n",
    "                     '대한민국',\n",
    "                     '대한민국',\n",
    "                     '대한민국',\n",
    "                     '대한민국',\n",
    "                     '일본',\n",
    "                     '일본',\n",
    "                     '대한민국',\n",
    "                     '대한민국',\n",
    "                     '대한민국']"
   ]
  },
  {
   "cell_type": "markdown",
   "metadata": {},
   "source": [
    "data= 에 딕셔너리 형식으로 '컬럼이름':데이터(리스트) 를 넣어 지정 가능하다."
   ]
  },
  {
   "cell_type": "code",
   "execution_count": null,
   "metadata": {},
   "outputs": [],
   "source": [
    "izone = pd.DataFrame(data={'이름':izone_name,'생년월일':izone_birthdate,'소속사':izone_company,'국적':izone_nationality, '키':izone_height})\n",
    "izone"
   ]
  },
  {
   "cell_type": "code",
   "execution_count": null,
   "metadata": {},
   "outputs": [],
   "source": [
    "izone['키']"
   ]
  },
  {
   "cell_type": "code",
   "execution_count": null,
   "metadata": {},
   "outputs": [],
   "source": [
    "izone['생년월일']"
   ]
  },
  {
   "cell_type": "code",
   "execution_count": null,
   "metadata": {},
   "outputs": [],
   "source": [
    "izone.sort_values(by=['키'],ascending=False)"
   ]
  },
  {
   "cell_type": "code",
   "execution_count": null,
   "metadata": {},
   "outputs": [],
   "source": [
    "izone.sort_values(by=['키'],ascending=True)"
   ]
  },
  {
   "cell_type": "code",
   "execution_count": null,
   "metadata": {},
   "outputs": [],
   "source": [
    "#현재는 생년월일이 문자열로 되어있는데 이를 날짜로 고친다. \n",
    "\n",
    "izone['생년월일']=pd.to_datetime(izone['생년월일'])"
   ]
  },
  {
   "cell_type": "code",
   "execution_count": null,
   "metadata": {},
   "outputs": [],
   "source": [
    "izone"
   ]
  },
  {
   "cell_type": "markdown",
   "metadata": {},
   "source": [
    "조건을 이용한 검색 \n",
    "\n",
    "괄호 안에 어떤 특정한 조건을 지정하면, 해당 조건에 맞는 행만 출력 가능하다. "
   ]
  },
  {
   "cell_type": "code",
   "execution_count": null,
   "metadata": {},
   "outputs": [],
   "source": [
    "izone[izone['이름']=='강혜원']"
   ]
  },
  {
   "cell_type": "code",
   "execution_count": null,
   "metadata": {},
   "outputs": [],
   "source": [
    "izone[izone['소속사']=='스타쉽엔터테인먼트']"
   ]
  },
  {
   "cell_type": "code",
   "execution_count": null,
   "metadata": {},
   "outputs": [],
   "source": [
    "#'스타' 가 들어있는 소속사 \n",
    "\n",
    "izone[izone['소속사'].str.contains('스타')]"
   ]
  },
  {
   "cell_type": "code",
   "execution_count": null,
   "metadata": {},
   "outputs": [],
   "source": [
    "#복수의 조건을 이용한 검색 \n",
    "#국적이 '대한민국'이고 '2002년생 이후'인 멤버는\n",
    "#AND 는 & \n",
    "#OR 는 |\n",
    "\n",
    "from dateutil.parser import parse\n",
    "izone[(izone['국적']=='대한민국') & (izone['생년월일']>parse('2002-04-01'))]"
   ]
  },
  {
   "cell_type": "code",
   "execution_count": null,
   "metadata": {},
   "outputs": [],
   "source": [
    "#소속사가 'Mercury'이거나 'DH'인 멤버 \n",
    "izone[(izone['소속사']=='Mercury') | (izone['소속사']==('DH'))]"
   ]
  },
  {
   "cell_type": "code",
   "execution_count": null,
   "metadata": {},
   "outputs": [],
   "source": [
    "#키가 160-165 사이의 멤버를 출력하고 이를 키 순으로 정렬\n",
    "test = izone[(izone['키']>=155) & (izone['키']<=160)].sort_values(by='키')\n",
    "test"
   ]
  },
  {
   "cell_type": "markdown",
   "metadata": {},
   "source": [
    "# 연습 \n",
    "키가 165보다 크거나 160보다 작은 멤버를 출력하고 이름 순으로 정렬하려면?"
   ]
  },
  {
   "cell_type": "code",
   "execution_count": null,
   "metadata": {},
   "outputs": [],
   "source": []
  },
  {
   "cell_type": "markdown",
   "metadata": {},
   "source": [
    "다음과 같이 하면 데이터 중에서 일부 열만 추출 가능하다. "
   ]
  },
  {
   "cell_type": "code",
   "execution_count": null,
   "metadata": {},
   "outputs": [],
   "source": [
    "izone[['이름','소속사','키']]"
   ]
  },
  {
   "cell_type": "code",
   "execution_count": null,
   "metadata": {},
   "outputs": [],
   "source": [
    "#추출할 행의 이름이 들어있는 리스트를 변수로 넣고 지정해도 된다. \n",
    "columns=['이름','키']\n",
    "izone[columns]"
   ]
  },
  {
   "cell_type": "markdown",
   "metadata": {},
   "source": [
    "# 연습 \n",
    "이름, 키, 국적만을 추출하고, 이름으로 정렬해보자. "
   ]
  },
  {
   "cell_type": "markdown",
   "metadata": {},
   "source": [
    "# 인덱스 \n",
    "\n",
    "인덱스를 설정하면 원하는 복수의 항목을 추출할 수 있다. "
   ]
  },
  {
   "cell_type": "code",
   "execution_count": null,
   "metadata": {},
   "outputs": [],
   "source": [
    "izoneindex = izone.set_index('이름')\n",
    "izoneindex.loc[['조유리','김민주']]"
   ]
  },
  {
   "cell_type": "code",
   "execution_count": null,
   "metadata": {},
   "outputs": [],
   "source": [
    "saknakhi = ['미야와키 사쿠라','야부키 나코','혼다 히토미']\n",
    "izoneindex.loc[saknakhi]"
   ]
  },
  {
   "cell_type": "markdown",
   "metadata": {},
   "source": [
    "인덱스가 아닌 컬럼에서 복수의 항목을 검색하려면 "
   ]
  },
  {
   "cell_type": "code",
   "execution_count": null,
   "metadata": {},
   "outputs": [],
   "source": [
    "company = ['DH','Mercury']\n",
    "\n",
    "#소속사가 'company'리스트 내에 들어 있는 항목이면 \n",
    "\n",
    "izone[izone['소속사'].isin(company)]"
   ]
  },
  {
   "cell_type": "code",
   "execution_count": null,
   "metadata": {},
   "outputs": [],
   "source": [
    "#숫자가 있는 컬럼의 통계는 다음과 같이 쉽게 볼 수 있다. \n",
    "izone.describe()"
   ]
  },
  {
   "cell_type": "code",
   "execution_count": null,
   "metadata": {},
   "outputs": [],
   "source": [
    "#소속사 별로 인원을 알고 싶다면? \n",
    "izone.groupby(by='소속사').count()"
   ]
  },
  {
   "cell_type": "code",
   "execution_count": null,
   "metadata": {},
   "outputs": [],
   "source": [
    "#국적 별로 인원을 알고 싶다면? \n",
    "izone.groupby(by='국적').count()"
   ]
  },
  {
   "cell_type": "code",
   "execution_count": null,
   "metadata": {},
   "outputs": [],
   "source": [
    "#국적별로 멤버의 키의 평균값 \n",
    "izone.groupby(by='국적')['키'].mean()"
   ]
  },
  {
   "cell_type": "markdown",
   "metadata": {},
   "source": [
    "엑셀로 저장 가능하다."
   ]
  },
  {
   "cell_type": "code",
   "execution_count": null,
   "metadata": {},
   "outputs": [],
   "source": [
    "izone.to_excel('izone.xlsx')\n",
    "izone[['이름','국적','생년월일']].to_excel('subset.xlsx')"
   ]
  },
  {
   "cell_type": "markdown",
   "metadata": {},
   "source": [
    "반대로, 엑셀에 저장된 자료 역시 불러올 수 있다. "
   ]
  },
  {
   "cell_type": "code",
   "execution_count": null,
   "metadata": {},
   "outputs": [],
   "source": [
    "iz = pd.read_excel('izone.xlsx')"
   ]
  },
  {
   "cell_type": "markdown",
   "metadata": {},
   "source": [
    "이전에 FASTA 파일을 읽어서 저장한 formatted.tsv 라는 파일을 데이터 프레임에 불러와 보자."
   ]
  },
  {
   "cell_type": "code",
   "execution_count": null,
   "metadata": {},
   "outputs": [],
   "source": [
    "data = pd.read_csv('formatted.tsv',sep='\\t')\n",
    "data"
   ]
  },
  {
   "cell_type": "markdown",
   "metadata": {},
   "source": [
    "이 tsv 파일의 첫 줄에는 헤더 (컬럼 이름을 표시하는 줄)가 없다.  \n",
    "헤더가 없도록 다시 읽어보자. "
   ]
  },
  {
   "cell_type": "code",
   "execution_count": null,
   "metadata": {},
   "outputs": [],
   "source": [
    "data = pd.read_csv('formatted.tsv',sep='\\t',header=None)\n",
    "data"
   ]
  },
  {
   "cell_type": "markdown",
   "metadata": {},
   "source": [
    "데이터프레임.columns 에 리스트 형식으로 컬럼 이름을 지정할 수 있다. "
   ]
  },
  {
   "cell_type": "code",
   "execution_count": null,
   "metadata": {},
   "outputs": [],
   "source": [
    "data.columns=['protein name','Molecular Weight','Sequence']"
   ]
  },
  {
   "cell_type": "code",
   "execution_count": null,
   "metadata": {},
   "outputs": [],
   "source": [
    "data"
   ]
  },
  {
   "cell_type": "markdown",
   "metadata": {},
   "source": [
    "데이터프레임에서 검색을 해보자. \n",
    "\n",
    "'protein name'에 'NADH'가 들어있는 열을 찾아본다면?"
   ]
  },
  {
   "cell_type": "code",
   "execution_count": null,
   "metadata": {},
   "outputs": [],
   "source": [
    "data[data['protein name'].str.contains('NADH')]"
   ]
  },
  {
   "cell_type": "markdown",
   "metadata": {},
   "source": [
    "분자량 100000 이상 그리고 단백질 이름에 'kinase'가 들어 있는 것? "
   ]
  },
  {
   "cell_type": "code",
   "execution_count": 171,
   "metadata": {},
   "outputs": [
    {
     "data": {
      "text/html": [
       "<div>\n",
       "<style scoped>\n",
       "    .dataframe tbody tr th:only-of-type {\n",
       "        vertical-align: middle;\n",
       "    }\n",
       "\n",
       "    .dataframe tbody tr th {\n",
       "        vertical-align: top;\n",
       "    }\n",
       "\n",
       "    .dataframe thead th {\n",
       "        text-align: right;\n",
       "    }\n",
       "</style>\n",
       "<table border=\"1\" class=\"dataframe\">\n",
       "  <thead>\n",
       "    <tr style=\"text-align: right;\">\n",
       "      <th></th>\n",
       "      <th>protein name</th>\n",
       "      <th>Molecular Weight</th>\n",
       "      <th>Sequence</th>\n",
       "    </tr>\n",
       "  </thead>\n",
       "  <tbody>\n",
       "    <tr>\n",
       "      <th>35</th>\n",
       "      <td>NP_000042.3 serine-protein kinase ATM isoform ...</td>\n",
       "      <td>350678.61</td>\n",
       "      <td>MSLVLNDLLICCRQLEHDRATERKKEVEKFKRLIRDPETIKHLDRH...</td>\n",
       "    </tr>\n",
       "    <tr>\n",
       "      <th>168</th>\n",
       "      <td>NP_000179.2 hexokinase-1 isoform HKI [Homo sap...</td>\n",
       "      <td>102470.42</td>\n",
       "      <td>MIAAQLLAYYFTELKDDQVKKIDKYLYAMRLSDETLIDIMTRFRKE...</td>\n",
       "    </tr>\n",
       "    <tr>\n",
       "      <th>169</th>\n",
       "      <td>NP_000180.2 hexokinase-2 isoform 1 [Homo sapiens]</td>\n",
       "      <td>102364.37</td>\n",
       "      <td>MIASHLLAYFFTELNHDQVQKVDQYLYHMRLSDETLLEISKRFRKE...</td>\n",
       "    </tr>\n",
       "    <tr>\n",
       "      <th>194</th>\n",
       "      <td>NP_000206.2 tyrosine-protein kinase JAK3 [Homo...</td>\n",
       "      <td>125084.44</td>\n",
       "      <td>MAPPSEETPLIPQRSCSLLSTEAGALHVLLPARGPGPPQRLSFSFG...</td>\n",
       "    </tr>\n",
       "    <tr>\n",
       "      <th>268</th>\n",
       "      <td>NP_000283.1 phosphorylase b kinase regulatory ...</td>\n",
       "      <td>138393.72</td>\n",
       "      <td>MRSRSNSGVRLDGYARLVQQTILCYQNPVTGLLSASHEQKDAWVRD...</td>\n",
       "    </tr>\n",
       "    <tr>\n",
       "      <th>...</th>\n",
       "      <td>...</td>\n",
       "      <td>...</td>\n",
       "      <td>...</td>\n",
       "    </tr>\n",
       "    <tr>\n",
       "      <th>115396</th>\n",
       "      <td>XP_024309364.1 phosphatidylinositol 4,5-bispho...</td>\n",
       "      <td>114745.88</td>\n",
       "      <td>MLWKQVHNYPMFNLLMDIDSYMFACVNQTAVYEELEDETRRLCDVR...</td>\n",
       "    </tr>\n",
       "    <tr>\n",
       "      <th>115678</th>\n",
       "      <td>XP_024309676.1 homeodomain-interacting protein...</td>\n",
       "      <td>130829.07</td>\n",
       "      <td>MASQLQVFSPPSVSSSAFCSAKKLKIEPSGWDVSGQSSNDKYYTHS...</td>\n",
       "    </tr>\n",
       "    <tr>\n",
       "      <th>115813</th>\n",
       "      <td>XP_024309833.1 serine/threonine-protein kinase...</td>\n",
       "      <td>122057.53</td>\n",
       "      <td>MKNLVLKIISGSFPPVSLHYSYDLRSLVSQLFKRNPRDRPSVNSIL...</td>\n",
       "    </tr>\n",
       "    <tr>\n",
       "      <th>116013</th>\n",
       "      <td>XP_024310049.1 TBC domain-containing protein k...</td>\n",
       "      <td>100663.75</td>\n",
       "      <td>MFPLKDAEMGAFTFFASALPHDVCGSNGLPLTPNSIKILGRFQILK...</td>\n",
       "    </tr>\n",
       "    <tr>\n",
       "      <th>116014</th>\n",
       "      <td>XP_024310050.1 TBC domain-containing protein k...</td>\n",
       "      <td>100663.75</td>\n",
       "      <td>MFPLKDAEMGAFTFFASALPHDVCGSNGLPLTPNSIKILGRFQILK...</td>\n",
       "    </tr>\n",
       "  </tbody>\n",
       "</table>\n",
       "<p>1631 rows × 3 columns</p>\n",
       "</div>"
      ],
      "text/plain": [
       "                                             protein name  Molecular Weight  \\\n",
       "35      NP_000042.3 serine-protein kinase ATM isoform ...         350678.61   \n",
       "168     NP_000179.2 hexokinase-1 isoform HKI [Homo sap...         102470.42   \n",
       "169     NP_000180.2 hexokinase-2 isoform 1 [Homo sapiens]         102364.37   \n",
       "194     NP_000206.2 tyrosine-protein kinase JAK3 [Homo...         125084.44   \n",
       "268     NP_000283.1 phosphorylase b kinase regulatory ...         138393.72   \n",
       "...                                                   ...               ...   \n",
       "115396  XP_024309364.1 phosphatidylinositol 4,5-bispho...         114745.88   \n",
       "115678  XP_024309676.1 homeodomain-interacting protein...         130829.07   \n",
       "115813  XP_024309833.1 serine/threonine-protein kinase...         122057.53   \n",
       "116013  XP_024310049.1 TBC domain-containing protein k...         100663.75   \n",
       "116014  XP_024310050.1 TBC domain-containing protein k...         100663.75   \n",
       "\n",
       "                                                 Sequence  \n",
       "35      MSLVLNDLLICCRQLEHDRATERKKEVEKFKRLIRDPETIKHLDRH...  \n",
       "168     MIAAQLLAYYFTELKDDQVKKIDKYLYAMRLSDETLIDIMTRFRKE...  \n",
       "169     MIASHLLAYFFTELNHDQVQKVDQYLYHMRLSDETLLEISKRFRKE...  \n",
       "194     MAPPSEETPLIPQRSCSLLSTEAGALHVLLPARGPGPPQRLSFSFG...  \n",
       "268     MRSRSNSGVRLDGYARLVQQTILCYQNPVTGLLSASHEQKDAWVRD...  \n",
       "...                                                   ...  \n",
       "115396  MLWKQVHNYPMFNLLMDIDSYMFACVNQTAVYEELEDETRRLCDVR...  \n",
       "115678  MASQLQVFSPPSVSSSAFCSAKKLKIEPSGWDVSGQSSNDKYYTHS...  \n",
       "115813  MKNLVLKIISGSFPPVSLHYSYDLRSLVSQLFKRNPRDRPSVNSIL...  \n",
       "116013  MFPLKDAEMGAFTFFASALPHDVCGSNGLPLTPNSIKILGRFQILK...  \n",
       "116014  MFPLKDAEMGAFTFFASALPHDVCGSNGLPLTPNSIKILGRFQILK...  \n",
       "\n",
       "[1631 rows x 3 columns]"
      ]
     },
     "execution_count": 171,
     "metadata": {},
     "output_type": "execute_result"
    }
   ],
   "source": [
    "kinase = data[(data['protein name'].str.contains('kinase'))&(data['Molecular Weight']>100000)]\n",
    "kinase"
   ]
  },
  {
   "cell_type": "markdown",
   "metadata": {},
   "source": [
    "# 데이터프레임에 새로운 컬럼 추가 \n",
    "\n",
    "단백질의 아미노산 갯수를 별도의 컬럼으로 추가해 보자. \n",
    "\n",
    "새로운 컬럼을 추가할 때는  \n",
    "데이터프레임이름['새로운 컬럼 이름'] = 데이터 \n",
    "와 같은 방식으로 추가한다. \n",
    "\n",
    "일단 'Sequence' 컬럼에서 단백질의 아미노산 갯수를 다음과 같이 계산하자. "
   ]
  },
  {
   "cell_type": "code",
   "execution_count": 172,
   "metadata": {},
   "outputs": [
    {
     "data": {
      "text/plain": [
       "0         1474\n",
       "1          290\n",
       "2          421\n",
       "3          412\n",
       "4          655\n",
       "          ... \n",
       "116144      98\n",
       "116145     459\n",
       "116146     603\n",
       "116147     174\n",
       "116148     380\n",
       "Name: Sequence, Length: 116149, dtype: int64"
      ]
     },
     "execution_count": 172,
     "metadata": {},
     "output_type": "execute_result"
    }
   ],
   "source": [
    "data['Sequence'].str.len()"
   ]
  },
  {
   "cell_type": "markdown",
   "metadata": {},
   "source": [
    "이 내용을 새로운 컬럼으로 추가하자. "
   ]
  },
  {
   "cell_type": "code",
   "execution_count": 174,
   "metadata": {},
   "outputs": [
    {
     "data": {
      "text/html": [
       "<div>\n",
       "<style scoped>\n",
       "    .dataframe tbody tr th:only-of-type {\n",
       "        vertical-align: middle;\n",
       "    }\n",
       "\n",
       "    .dataframe tbody tr th {\n",
       "        vertical-align: top;\n",
       "    }\n",
       "\n",
       "    .dataframe thead th {\n",
       "        text-align: right;\n",
       "    }\n",
       "</style>\n",
       "<table border=\"1\" class=\"dataframe\">\n",
       "  <thead>\n",
       "    <tr style=\"text-align: right;\">\n",
       "      <th></th>\n",
       "      <th>protein name</th>\n",
       "      <th>Molecular Weight</th>\n",
       "      <th>Sequence</th>\n",
       "      <th>length</th>\n",
       "    </tr>\n",
       "  </thead>\n",
       "  <tbody>\n",
       "    <tr>\n",
       "      <th>0</th>\n",
       "      <td>NP_000005.3 alpha-2-macroglobulin isoform a pr...</td>\n",
       "      <td>163277.91</td>\n",
       "      <td>MGKNKLLHPSLVLLLLVLLPTDASVSGKPQYMVLVPSLLHTETTEK...</td>\n",
       "      <td>1474</td>\n",
       "    </tr>\n",
       "    <tr>\n",
       "      <th>1</th>\n",
       "      <td>NP_000006.2 arylamine N-acetyltransferase 2 [H...</td>\n",
       "      <td>33553.30</td>\n",
       "      <td>MDIEAYFERIGYKNSRNKLDLETLTDILEHQIRAVPFENLNMHCGQ...</td>\n",
       "      <td>290</td>\n",
       "    </tr>\n",
       "    <tr>\n",
       "      <th>2</th>\n",
       "      <td>NP_000007.1 medium-chain specific acyl-CoA deh...</td>\n",
       "      <td>46571.70</td>\n",
       "      <td>MAAGFGRCCRVLRSISRFHWRSQHTKANRQREPGLGFSFEFTEQQK...</td>\n",
       "      <td>421</td>\n",
       "    </tr>\n",
       "    <tr>\n",
       "      <th>3</th>\n",
       "      <td>NP_000008.1 short-chain specific acyl-CoA dehy...</td>\n",
       "      <td>44280.58</td>\n",
       "      <td>MAAALLARASGPARRALCPRAWRQLHTIYQSVELPETHQMLLQTCR...</td>\n",
       "      <td>412</td>\n",
       "    </tr>\n",
       "    <tr>\n",
       "      <th>4</th>\n",
       "      <td>NP_000009.1 very long-chain specific acyl-CoA ...</td>\n",
       "      <td>70374.11</td>\n",
       "      <td>MQAARMAASLGRQLLRLGGGSSRLTALLGQPRPGPARRPYAGGAAQ...</td>\n",
       "      <td>655</td>\n",
       "    </tr>\n",
       "    <tr>\n",
       "      <th>...</th>\n",
       "      <td>...</td>\n",
       "      <td>...</td>\n",
       "      <td>...</td>\n",
       "      <td>...</td>\n",
       "    </tr>\n",
       "    <tr>\n",
       "      <th>116144</th>\n",
       "      <td>YP_003024034.1 NADH dehydrogenase subunit 4L (...</td>\n",
       "      <td>10723.43</td>\n",
       "      <td>MPLIYMNIMLAFTISLLGMLVYRSHLMSSLLCLEGMMLSLFIMATL...</td>\n",
       "      <td>98</td>\n",
       "    </tr>\n",
       "    <tr>\n",
       "      <th>116145</th>\n",
       "      <td>YP_003024035.1 NADH dehydrogenase subunit 4 (m...</td>\n",
       "      <td>51564.02</td>\n",
       "      <td>MLKLIVPTIMLLPLTWLSKKHMIWINTTTHSLIISIIPLLFFNQIN...</td>\n",
       "      <td>459</td>\n",
       "    </tr>\n",
       "    <tr>\n",
       "      <th>116146</th>\n",
       "      <td>YP_003024036.1 NADH dehydrogenase subunit 5 (m...</td>\n",
       "      <td>67010.18</td>\n",
       "      <td>MTMHTTMTTLTLTSLIPPILTTLVNPNKKNSYPHYVKSIVASTFII...</td>\n",
       "      <td>603</td>\n",
       "    </tr>\n",
       "    <tr>\n",
       "      <th>116147</th>\n",
       "      <td>YP_003024037.1 NADH dehydrogenase subunit 6 (m...</td>\n",
       "      <td>18604.53</td>\n",
       "      <td>MMYALFLLSVGLVMGFVGFSSKPSPIYGGLVLIVSGVVGCVIILNF...</td>\n",
       "      <td>174</td>\n",
       "    </tr>\n",
       "    <tr>\n",
       "      <th>116148</th>\n",
       "      <td>YP_003024038.1 cytochrome b (mitochondrion) [H...</td>\n",
       "      <td>42700.49</td>\n",
       "      <td>MTPMRKTNPLMKLINHSFIDLPTPSNISAWWNFGSLLGACLILQIT...</td>\n",
       "      <td>380</td>\n",
       "    </tr>\n",
       "  </tbody>\n",
       "</table>\n",
       "<p>116149 rows × 4 columns</p>\n",
       "</div>"
      ],
      "text/plain": [
       "                                             protein name  Molecular Weight  \\\n",
       "0       NP_000005.3 alpha-2-macroglobulin isoform a pr...         163277.91   \n",
       "1       NP_000006.2 arylamine N-acetyltransferase 2 [H...          33553.30   \n",
       "2       NP_000007.1 medium-chain specific acyl-CoA deh...          46571.70   \n",
       "3       NP_000008.1 short-chain specific acyl-CoA dehy...          44280.58   \n",
       "4       NP_000009.1 very long-chain specific acyl-CoA ...          70374.11   \n",
       "...                                                   ...               ...   \n",
       "116144  YP_003024034.1 NADH dehydrogenase subunit 4L (...          10723.43   \n",
       "116145  YP_003024035.1 NADH dehydrogenase subunit 4 (m...          51564.02   \n",
       "116146  YP_003024036.1 NADH dehydrogenase subunit 5 (m...          67010.18   \n",
       "116147  YP_003024037.1 NADH dehydrogenase subunit 6 (m...          18604.53   \n",
       "116148  YP_003024038.1 cytochrome b (mitochondrion) [H...          42700.49   \n",
       "\n",
       "                                                 Sequence  length  \n",
       "0       MGKNKLLHPSLVLLLLVLLPTDASVSGKPQYMVLVPSLLHTETTEK...    1474  \n",
       "1       MDIEAYFERIGYKNSRNKLDLETLTDILEHQIRAVPFENLNMHCGQ...     290  \n",
       "2       MAAGFGRCCRVLRSISRFHWRSQHTKANRQREPGLGFSFEFTEQQK...     421  \n",
       "3       MAAALLARASGPARRALCPRAWRQLHTIYQSVELPETHQMLLQTCR...     412  \n",
       "4       MQAARMAASLGRQLLRLGGGSSRLTALLGQPRPGPARRPYAGGAAQ...     655  \n",
       "...                                                   ...     ...  \n",
       "116144  MPLIYMNIMLAFTISLLGMLVYRSHLMSSLLCLEGMMLSLFIMATL...      98  \n",
       "116145  MLKLIVPTIMLLPLTWLSKKHMIWINTTTHSLIISIIPLLFFNQIN...     459  \n",
       "116146  MTMHTTMTTLTLTSLIPPILTTLVNPNKKNSYPHYVKSIVASTFII...     603  \n",
       "116147  MMYALFLLSVGLVMGFVGFSSKPSPIYGGLVLIVSGVVGCVIILNF...     174  \n",
       "116148  MTPMRKTNPLMKLINHSFIDLPTPSNISAWWNFGSLLGACLILQIT...     380  \n",
       "\n",
       "[116149 rows x 4 columns]"
      ]
     },
     "execution_count": 174,
     "metadata": {},
     "output_type": "execute_result"
    }
   ],
   "source": [
    "data['length']=data['Sequence'].str.len()"
   ]
  },
  {
   "cell_type": "markdown",
   "metadata": {},
   "source": [
    "컬럼의 내용을 이용하여 계산하여, 새로운 컬럼을 추가할 수도 있다.\n",
    "만약 Molecular Weight 를 1000 으로 나누어 kDa 라는 칼럼을 추가한다면 "
   ]
  },
  {
   "cell_type": "code",
   "execution_count": 175,
   "metadata": {},
   "outputs": [
    {
     "data": {
      "text/html": [
       "<div>\n",
       "<style scoped>\n",
       "    .dataframe tbody tr th:only-of-type {\n",
       "        vertical-align: middle;\n",
       "    }\n",
       "\n",
       "    .dataframe tbody tr th {\n",
       "        vertical-align: top;\n",
       "    }\n",
       "\n",
       "    .dataframe thead th {\n",
       "        text-align: right;\n",
       "    }\n",
       "</style>\n",
       "<table border=\"1\" class=\"dataframe\">\n",
       "  <thead>\n",
       "    <tr style=\"text-align: right;\">\n",
       "      <th></th>\n",
       "      <th>protein name</th>\n",
       "      <th>Molecular Weight</th>\n",
       "      <th>Sequence</th>\n",
       "      <th>length</th>\n",
       "      <th>kDa</th>\n",
       "    </tr>\n",
       "  </thead>\n",
       "  <tbody>\n",
       "    <tr>\n",
       "      <th>0</th>\n",
       "      <td>NP_000005.3 alpha-2-macroglobulin isoform a pr...</td>\n",
       "      <td>163277.91</td>\n",
       "      <td>MGKNKLLHPSLVLLLLVLLPTDASVSGKPQYMVLVPSLLHTETTEK...</td>\n",
       "      <td>1474</td>\n",
       "      <td>163.27791</td>\n",
       "    </tr>\n",
       "    <tr>\n",
       "      <th>1</th>\n",
       "      <td>NP_000006.2 arylamine N-acetyltransferase 2 [H...</td>\n",
       "      <td>33553.30</td>\n",
       "      <td>MDIEAYFERIGYKNSRNKLDLETLTDILEHQIRAVPFENLNMHCGQ...</td>\n",
       "      <td>290</td>\n",
       "      <td>33.55330</td>\n",
       "    </tr>\n",
       "    <tr>\n",
       "      <th>2</th>\n",
       "      <td>NP_000007.1 medium-chain specific acyl-CoA deh...</td>\n",
       "      <td>46571.70</td>\n",
       "      <td>MAAGFGRCCRVLRSISRFHWRSQHTKANRQREPGLGFSFEFTEQQK...</td>\n",
       "      <td>421</td>\n",
       "      <td>46.57170</td>\n",
       "    </tr>\n",
       "    <tr>\n",
       "      <th>3</th>\n",
       "      <td>NP_000008.1 short-chain specific acyl-CoA dehy...</td>\n",
       "      <td>44280.58</td>\n",
       "      <td>MAAALLARASGPARRALCPRAWRQLHTIYQSVELPETHQMLLQTCR...</td>\n",
       "      <td>412</td>\n",
       "      <td>44.28058</td>\n",
       "    </tr>\n",
       "    <tr>\n",
       "      <th>4</th>\n",
       "      <td>NP_000009.1 very long-chain specific acyl-CoA ...</td>\n",
       "      <td>70374.11</td>\n",
       "      <td>MQAARMAASLGRQLLRLGGGSSRLTALLGQPRPGPARRPYAGGAAQ...</td>\n",
       "      <td>655</td>\n",
       "      <td>70.37411</td>\n",
       "    </tr>\n",
       "    <tr>\n",
       "      <th>...</th>\n",
       "      <td>...</td>\n",
       "      <td>...</td>\n",
       "      <td>...</td>\n",
       "      <td>...</td>\n",
       "      <td>...</td>\n",
       "    </tr>\n",
       "    <tr>\n",
       "      <th>116144</th>\n",
       "      <td>YP_003024034.1 NADH dehydrogenase subunit 4L (...</td>\n",
       "      <td>10723.43</td>\n",
       "      <td>MPLIYMNIMLAFTISLLGMLVYRSHLMSSLLCLEGMMLSLFIMATL...</td>\n",
       "      <td>98</td>\n",
       "      <td>10.72343</td>\n",
       "    </tr>\n",
       "    <tr>\n",
       "      <th>116145</th>\n",
       "      <td>YP_003024035.1 NADH dehydrogenase subunit 4 (m...</td>\n",
       "      <td>51564.02</td>\n",
       "      <td>MLKLIVPTIMLLPLTWLSKKHMIWINTTTHSLIISIIPLLFFNQIN...</td>\n",
       "      <td>459</td>\n",
       "      <td>51.56402</td>\n",
       "    </tr>\n",
       "    <tr>\n",
       "      <th>116146</th>\n",
       "      <td>YP_003024036.1 NADH dehydrogenase subunit 5 (m...</td>\n",
       "      <td>67010.18</td>\n",
       "      <td>MTMHTTMTTLTLTSLIPPILTTLVNPNKKNSYPHYVKSIVASTFII...</td>\n",
       "      <td>603</td>\n",
       "      <td>67.01018</td>\n",
       "    </tr>\n",
       "    <tr>\n",
       "      <th>116147</th>\n",
       "      <td>YP_003024037.1 NADH dehydrogenase subunit 6 (m...</td>\n",
       "      <td>18604.53</td>\n",
       "      <td>MMYALFLLSVGLVMGFVGFSSKPSPIYGGLVLIVSGVVGCVIILNF...</td>\n",
       "      <td>174</td>\n",
       "      <td>18.60453</td>\n",
       "    </tr>\n",
       "    <tr>\n",
       "      <th>116148</th>\n",
       "      <td>YP_003024038.1 cytochrome b (mitochondrion) [H...</td>\n",
       "      <td>42700.49</td>\n",
       "      <td>MTPMRKTNPLMKLINHSFIDLPTPSNISAWWNFGSLLGACLILQIT...</td>\n",
       "      <td>380</td>\n",
       "      <td>42.70049</td>\n",
       "    </tr>\n",
       "  </tbody>\n",
       "</table>\n",
       "<p>116149 rows × 5 columns</p>\n",
       "</div>"
      ],
      "text/plain": [
       "                                             protein name  Molecular Weight  \\\n",
       "0       NP_000005.3 alpha-2-macroglobulin isoform a pr...         163277.91   \n",
       "1       NP_000006.2 arylamine N-acetyltransferase 2 [H...          33553.30   \n",
       "2       NP_000007.1 medium-chain specific acyl-CoA deh...          46571.70   \n",
       "3       NP_000008.1 short-chain specific acyl-CoA dehy...          44280.58   \n",
       "4       NP_000009.1 very long-chain specific acyl-CoA ...          70374.11   \n",
       "...                                                   ...               ...   \n",
       "116144  YP_003024034.1 NADH dehydrogenase subunit 4L (...          10723.43   \n",
       "116145  YP_003024035.1 NADH dehydrogenase subunit 4 (m...          51564.02   \n",
       "116146  YP_003024036.1 NADH dehydrogenase subunit 5 (m...          67010.18   \n",
       "116147  YP_003024037.1 NADH dehydrogenase subunit 6 (m...          18604.53   \n",
       "116148  YP_003024038.1 cytochrome b (mitochondrion) [H...          42700.49   \n",
       "\n",
       "                                                 Sequence  length        kDa  \n",
       "0       MGKNKLLHPSLVLLLLVLLPTDASVSGKPQYMVLVPSLLHTETTEK...    1474  163.27791  \n",
       "1       MDIEAYFERIGYKNSRNKLDLETLTDILEHQIRAVPFENLNMHCGQ...     290   33.55330  \n",
       "2       MAAGFGRCCRVLRSISRFHWRSQHTKANRQREPGLGFSFEFTEQQK...     421   46.57170  \n",
       "3       MAAALLARASGPARRALCPRAWRQLHTIYQSVELPETHQMLLQTCR...     412   44.28058  \n",
       "4       MQAARMAASLGRQLLRLGGGSSRLTALLGQPRPGPARRPYAGGAAQ...     655   70.37411  \n",
       "...                                                   ...     ...        ...  \n",
       "116144  MPLIYMNIMLAFTISLLGMLVYRSHLMSSLLCLEGMMLSLFIMATL...      98   10.72343  \n",
       "116145  MLKLIVPTIMLLPLTWLSKKHMIWINTTTHSLIISIIPLLFFNQIN...     459   51.56402  \n",
       "116146  MTMHTTMTTLTLTSLIPPILTTLVNPNKKNSYPHYVKSIVASTFII...     603   67.01018  \n",
       "116147  MMYALFLLSVGLVMGFVGFSSKPSPIYGGLVLIVSGVVGCVIILNF...     174   18.60453  \n",
       "116148  MTPMRKTNPLMKLINHSFIDLPTPSNISAWWNFGSLLGACLILQIT...     380   42.70049  \n",
       "\n",
       "[116149 rows x 5 columns]"
      ]
     },
     "execution_count": 175,
     "metadata": {},
     "output_type": "execute_result"
    }
   ],
   "source": [
    "data['kDa']=data['Molecular Weight']/1000\n",
    "data"
   ]
  },
  {
   "cell_type": "markdown",
   "metadata": {},
   "source": [
    "# 연습 \n",
    "\n",
    "'ubiquitin-protein ligase' 가 들어있는 단백질의 목록을 구하고, \n",
    "이들의 평균 분자량은 어떻게 되는지를 계산하라"
   ]
  },
  {
   "cell_type": "code",
   "execution_count": null,
   "metadata": {},
   "outputs": [],
   "source": []
  },
  {
   "cell_type": "markdown",
   "metadata": {},
   "source": [
    "# 데이터프레임의 데이터를 다른 형식으로 변환하기 \n",
    "\n",
    "kinase 로 골라낸 단백질을 FASTA 형식의 파일로 저장하려면?\n",
    "일단 단백질 이름과 서열을 리스트로 변환한다. "
   ]
  },
  {
   "cell_type": "code",
   "execution_count": null,
   "metadata": {},
   "outputs": [],
   "source": [
    "seqname = kinase['protein name'].to_list()\n",
    "seqname"
   ]
  },
  {
   "cell_type": "code",
   "execution_count": null,
   "metadata": {},
   "outputs": [],
   "source": [
    "sequence = kinase['Sequence'].to_list()\n",
    "sequence"
   ]
  },
  {
   "cell_type": "markdown",
   "metadata": {},
   "source": [
    "seqname과 sequence에 있는 내용을 동시에 출력한다. \n",
    "두 개의 리스트에 있는 내용을 동시에 출력하기 위하여 for...range를 사용한다. \n",
    "range(0,len(seqname))을 이용하면, 0,1,2,3....len(seqname)-1 까지의 숫자가 반복되고, \n",
    "len(seqname)은 1631이므로 \n",
    "0,1,2,3...1630 까지 반복된다. \n"
   ]
  },
  {
   "cell_type": "code",
   "execution_count": null,
   "metadata": {},
   "outputs": [],
   "source": [
    "#저장할 내용을 담을 버퍼\n",
    "buffer = []\n",
    "for i in range(0,len(seqname)):\n",
    "    buffer.append('>'+seqname[i]+'\\n')\n",
    "    buffer.append(sequence[i]+'\\n')\n",
    "\n",
    "f=open('kinase.tsv','w')\n",
    "f.writelines(buffer)\n",
    "f.close()\n",
    "    "
   ]
  },
  {
   "cell_type": "code",
   "execution_count": 165,
   "metadata": {},
   "outputs": [
    {
     "data": {
      "text/html": [
       "<div>\n",
       "<style scoped>\n",
       "    .dataframe tbody tr th:only-of-type {\n",
       "        vertical-align: middle;\n",
       "    }\n",
       "\n",
       "    .dataframe tbody tr th {\n",
       "        vertical-align: top;\n",
       "    }\n",
       "\n",
       "    .dataframe thead th {\n",
       "        text-align: right;\n",
       "    }\n",
       "</style>\n",
       "<table border=\"1\" class=\"dataframe\">\n",
       "  <thead>\n",
       "    <tr style=\"text-align: right;\">\n",
       "      <th></th>\n",
       "      <th>protein name</th>\n",
       "      <th>Molecular Weight</th>\n",
       "      <th>Sequence</th>\n",
       "    </tr>\n",
       "  </thead>\n",
       "  <tbody>\n",
       "    <tr>\n",
       "      <th>6</th>\n",
       "      <td>NP_000011.2 serine/threonine-protein kinase re...</td>\n",
       "      <td>56108.03</td>\n",
       "      <td>MTLGSPRKGLLMLLMALVTQGDPVKPSRGPLVTCTCESPHCKGPTC...</td>\n",
       "    </tr>\n",
       "    <tr>\n",
       "      <th>427</th>\n",
       "      <td>NP_000446.1 serine/threonine-protein kinase ST...</td>\n",
       "      <td>48619.02</td>\n",
       "      <td>MEVVDPQQLGMFTEGELMSVGMDTFIHRIDSTEVIYQPRRKRAKLI...</td>\n",
       "    </tr>\n",
       "    <tr>\n",
       "      <th>1059</th>\n",
       "      <td>NP_001001852.2 serine/threonine-protein kinase...</td>\n",
       "      <td>35874.08</td>\n",
       "      <td>MLLSKFGSLAHLCGPGGVDHLPVKILQPAKADKESFEKAYQVGAVL...</td>\n",
       "    </tr>\n",
       "    <tr>\n",
       "      <th>1181</th>\n",
       "      <td>NP_001002838.1 serine/threonine-protein kinase...</td>\n",
       "      <td>191776.76</td>\n",
       "      <td>MATDSGDPASTEDSEKPDGISFENRVPQVAATLTVEARLKEKNSTF...</td>\n",
       "    </tr>\n",
       "    <tr>\n",
       "      <th>1672</th>\n",
       "      <td>NP_001005735.1 serine/threonine-protein kinase...</td>\n",
       "      <td>65402.64</td>\n",
       "      <td>MSRESDVEAQQSHGSSACSQPHGSVTQSQGSSSQSQGISSSSTSTM...</td>\n",
       "    </tr>\n",
       "    <tr>\n",
       "      <th>...</th>\n",
       "      <td>...</td>\n",
       "      <td>...</td>\n",
       "      <td>...</td>\n",
       "    </tr>\n",
       "    <tr>\n",
       "      <th>115683</th>\n",
       "      <td>XP_024309681.1 serine/threonine-protein kinase...</td>\n",
       "      <td>73440.97</td>\n",
       "      <td>MASTRSIELEHFEERDKRPRPGSRRGAPSSSGGSSSSGPKGNGLIP...</td>\n",
       "    </tr>\n",
       "    <tr>\n",
       "      <th>115684</th>\n",
       "      <td>XP_024309682.1 serine/threonine-protein kinase...</td>\n",
       "      <td>64725.35</td>\n",
       "      <td>MASTRSIELEHFEERDKRPRPGSRRGAPSSSGGSSSSGPKGNGLIP...</td>\n",
       "    </tr>\n",
       "    <tr>\n",
       "      <th>115685</th>\n",
       "      <td>XP_024309683.1 serine/threonine-protein kinase...</td>\n",
       "      <td>63679.85</td>\n",
       "      <td>MASTRSIELEHFEERDKRPRPGSRRGAPSSSGGSSSSGPKGNGLIP...</td>\n",
       "    </tr>\n",
       "    <tr>\n",
       "      <th>115813</th>\n",
       "      <td>XP_024309833.1 serine/threonine-protein kinase...</td>\n",
       "      <td>122057.53</td>\n",
       "      <td>MKNLVLKIISGSFPPVSLHYSYDLRSLVSQLFKRNPRDRPSVNSIL...</td>\n",
       "    </tr>\n",
       "    <tr>\n",
       "      <th>115871</th>\n",
       "      <td>XP_024309899.1 serine/threonine-protein kinase...</td>\n",
       "      <td>42543.83</td>\n",
       "      <td>MYAMKYMNKQKCIERDEVRNVFRELQIMQGLEHPFLVNLWYSFQDE...</td>\n",
       "    </tr>\n",
       "  </tbody>\n",
       "</table>\n",
       "<p>1286 rows × 3 columns</p>\n",
       "</div>"
      ],
      "text/plain": [
       "                                             protein name  Molecular Weight  \\\n",
       "6       NP_000011.2 serine/threonine-protein kinase re...          56108.03   \n",
       "427     NP_000446.1 serine/threonine-protein kinase ST...          48619.02   \n",
       "1059    NP_001001852.2 serine/threonine-protein kinase...          35874.08   \n",
       "1181    NP_001002838.1 serine/threonine-protein kinase...         191776.76   \n",
       "1672    NP_001005735.1 serine/threonine-protein kinase...          65402.64   \n",
       "...                                                   ...               ...   \n",
       "115683  XP_024309681.1 serine/threonine-protein kinase...          73440.97   \n",
       "115684  XP_024309682.1 serine/threonine-protein kinase...          64725.35   \n",
       "115685  XP_024309683.1 serine/threonine-protein kinase...          63679.85   \n",
       "115813  XP_024309833.1 serine/threonine-protein kinase...         122057.53   \n",
       "115871  XP_024309899.1 serine/threonine-protein kinase...          42543.83   \n",
       "\n",
       "                                                 Sequence  \n",
       "6       MTLGSPRKGLLMLLMALVTQGDPVKPSRGPLVTCTCESPHCKGPTC...  \n",
       "427     MEVVDPQQLGMFTEGELMSVGMDTFIHRIDSTEVIYQPRRKRAKLI...  \n",
       "1059    MLLSKFGSLAHLCGPGGVDHLPVKILQPAKADKESFEKAYQVGAVL...  \n",
       "1181    MATDSGDPASTEDSEKPDGISFENRVPQVAATLTVEARLKEKNSTF...  \n",
       "1672    MSRESDVEAQQSHGSSACSQPHGSVTQSQGSSSQSQGISSSSTSTM...  \n",
       "...                                                   ...  \n",
       "115683  MASTRSIELEHFEERDKRPRPGSRRGAPSSSGGSSSSGPKGNGLIP...  \n",
       "115684  MASTRSIELEHFEERDKRPRPGSRRGAPSSSGGSSSSGPKGNGLIP...  \n",
       "115685  MASTRSIELEHFEERDKRPRPGSRRGAPSSSGGSSSSGPKGNGLIP...  \n",
       "115813  MKNLVLKIISGSFPPVSLHYSYDLRSLVSQLFKRNPRDRPSVNSIL...  \n",
       "115871  MYAMKYMNKQKCIERDEVRNVFRELQIMQGLEHPFLVNLWYSFQDE...  \n",
       "\n",
       "[1286 rows x 3 columns]"
      ]
     },
     "execution_count": 165,
     "metadata": {},
     "output_type": "execute_result"
    }
   ],
   "source": [
    "STK = data[(data['protein name'].str.contains('serine/threonine-protein kinase'))]\n",
    "STK"
   ]
  },
  {
   "cell_type": "code",
   "execution_count": 169,
   "metadata": {},
   "outputs": [
    {
     "data": {
      "text/html": [
       "<div>\n",
       "<style scoped>\n",
       "    .dataframe tbody tr th:only-of-type {\n",
       "        vertical-align: middle;\n",
       "    }\n",
       "\n",
       "    .dataframe tbody tr th {\n",
       "        vertical-align: top;\n",
       "    }\n",
       "\n",
       "    .dataframe thead th {\n",
       "        text-align: right;\n",
       "    }\n",
       "</style>\n",
       "<table border=\"1\" class=\"dataframe\">\n",
       "  <thead>\n",
       "    <tr style=\"text-align: right;\">\n",
       "      <th></th>\n",
       "      <th>protein name</th>\n",
       "      <th>Molecular Weight</th>\n",
       "      <th>Sequence</th>\n",
       "    </tr>\n",
       "  </thead>\n",
       "  <tbody>\n",
       "    <tr>\n",
       "      <th>354</th>\n",
       "      <td>NP_000372.1 E3 ubiquitin-protein ligase Midlin...</td>\n",
       "      <td>75234.97</td>\n",
       "      <td>METLESELTCPICLELFEDPLLLPCAHSLCFNCAHRILVSHCATNE...</td>\n",
       "    </tr>\n",
       "    <tr>\n",
       "      <th>1047</th>\n",
       "      <td>NP_001001740.1 E3 ubiquitin-protein ligase COP...</td>\n",
       "      <td>77675.41</td>\n",
       "      <td>MSGSRQAGSGSAGTSPGSSAASSVTSASSSLSSSPSPPSVAVSAAA...</td>\n",
       "    </tr>\n",
       "    <tr>\n",
       "      <th>1066</th>\n",
       "      <td>NP_001001894.1 E3 ubiquitin-protein ligase TTC...</td>\n",
       "      <td>229856.93</td>\n",
       "      <td>MDNFAEGDFTVADYALLEDCPHVDDCVFAAEFMSNDYVRVTQLYCD...</td>\n",
       "    </tr>\n",
       "    <tr>\n",
       "      <th>1157</th>\n",
       "      <td>NP_001002266.1 E3 ubiquitin-protein ligase MAR...</td>\n",
       "      <td>32947.80</td>\n",
       "      <td>MSMPLHQISAIPSQDAISARVYRSKTKEKEREEQNEKTLGHFMSHS...</td>\n",
       "    </tr>\n",
       "    <tr>\n",
       "      <th>1529</th>\n",
       "      <td>NP_001005207.1 E3 ubiquitin-protein ligase TRI...</td>\n",
       "      <td>107890.79</td>\n",
       "      <td>MDEQSVESIAEVFRCFICMEKLRDARLCPHCSKLCCFSCIRRWLTE...</td>\n",
       "    </tr>\n",
       "    <tr>\n",
       "      <th>...</th>\n",
       "      <td>...</td>\n",
       "      <td>...</td>\n",
       "      <td>...</td>\n",
       "    </tr>\n",
       "    <tr>\n",
       "      <th>115145</th>\n",
       "      <td>XP_024309087.1 E3 ubiquitin-protein ligase MIB...</td>\n",
       "      <td>109101.68</td>\n",
       "      <td>MDPDPQAGVQVGMRVVRGVDWKWGQQDGGEGGVGTVVELGRHGSPS...</td>\n",
       "    </tr>\n",
       "    <tr>\n",
       "      <th>115158</th>\n",
       "      <td>XP_024309100.1 E3 ubiquitin-protein ligase RNF...</td>\n",
       "      <td>42796.80</td>\n",
       "      <td>MLLSIGMLMLSATQVYTILTVQLFAFLNLLPVEADILAYNFENASQ...</td>\n",
       "    </tr>\n",
       "    <tr>\n",
       "      <th>115785</th>\n",
       "      <td>XP_024309796.1 probable E3 ubiquitin-protein l...</td>\n",
       "      <td>41857.53</td>\n",
       "      <td>MPTTAKALSDDEQGGSAFVAQSHGANRVHLSSEAEEHHREKLQEIL...</td>\n",
       "    </tr>\n",
       "    <tr>\n",
       "      <th>115995</th>\n",
       "      <td>XP_024310029.1 E3 ubiquitin-protein ligase LNX...</td>\n",
       "      <td>80612.81</td>\n",
       "      <td>MNQPESANDPEPLCAVCGQAHSLEENHFYSYPEEVDDDLICHICLQ...</td>\n",
       "    </tr>\n",
       "    <tr>\n",
       "      <th>115996</th>\n",
       "      <td>XP_024310030.1 E3 ubiquitin-protein ligase LNX...</td>\n",
       "      <td>80612.81</td>\n",
       "      <td>MNQPESANDPEPLCAVCGQAHSLEENHFYSYPEEVDDDLICHICLQ...</td>\n",
       "    </tr>\n",
       "  </tbody>\n",
       "</table>\n",
       "<p>1516 rows × 3 columns</p>\n",
       "</div>"
      ],
      "text/plain": [
       "                                             protein name  Molecular Weight  \\\n",
       "354     NP_000372.1 E3 ubiquitin-protein ligase Midlin...          75234.97   \n",
       "1047    NP_001001740.1 E3 ubiquitin-protein ligase COP...          77675.41   \n",
       "1066    NP_001001894.1 E3 ubiquitin-protein ligase TTC...         229856.93   \n",
       "1157    NP_001002266.1 E3 ubiquitin-protein ligase MAR...          32947.80   \n",
       "1529    NP_001005207.1 E3 ubiquitin-protein ligase TRI...         107890.79   \n",
       "...                                                   ...               ...   \n",
       "115145  XP_024309087.1 E3 ubiquitin-protein ligase MIB...         109101.68   \n",
       "115158  XP_024309100.1 E3 ubiquitin-protein ligase RNF...          42796.80   \n",
       "115785  XP_024309796.1 probable E3 ubiquitin-protein l...          41857.53   \n",
       "115995  XP_024310029.1 E3 ubiquitin-protein ligase LNX...          80612.81   \n",
       "115996  XP_024310030.1 E3 ubiquitin-protein ligase LNX...          80612.81   \n",
       "\n",
       "                                                 Sequence  \n",
       "354     METLESELTCPICLELFEDPLLLPCAHSLCFNCAHRILVSHCATNE...  \n",
       "1047    MSGSRQAGSGSAGTSPGSSAASSVTSASSSLSSSPSPPSVAVSAAA...  \n",
       "1066    MDNFAEGDFTVADYALLEDCPHVDDCVFAAEFMSNDYVRVTQLYCD...  \n",
       "1157    MSMPLHQISAIPSQDAISARVYRSKTKEKEREEQNEKTLGHFMSHS...  \n",
       "1529    MDEQSVESIAEVFRCFICMEKLRDARLCPHCSKLCCFSCIRRWLTE...  \n",
       "...                                                   ...  \n",
       "115145  MDPDPQAGVQVGMRVVRGVDWKWGQQDGGEGGVGTVVELGRHGSPS...  \n",
       "115158  MLLSIGMLMLSATQVYTILTVQLFAFLNLLPVEADILAYNFENASQ...  \n",
       "115785  MPTTAKALSDDEQGGSAFVAQSHGANRVHLSSEAEEHHREKLQEIL...  \n",
       "115995  MNQPESANDPEPLCAVCGQAHSLEENHFYSYPEEVDDDLICHICLQ...  \n",
       "115996  MNQPESANDPEPLCAVCGQAHSLEENHFYSYPEEVDDDLICHICLQ...  \n",
       "\n",
       "[1516 rows x 3 columns]"
      ]
     },
     "execution_count": 169,
     "metadata": {},
     "output_type": "execute_result"
    }
   ],
   "source": [
    "#연습 \n",
    "\n"
   ]
  },
  {
   "cell_type": "markdown",
   "metadata": {},
   "source": [
    "# 연습 \n",
    "\n",
    "1. formatted.tsv 를 pandas 데이터프레임에 읽고,\n",
    "2. 컬럼 이름을 'protein name', 'Molecular Weight', 'Sequence' 로 \n",
    "3. 'protein name' 에서  'E3 ubiquitin-protein ligase'를 검색한 후, \n",
    "4.  분자량 30000보다 크고 100000 보다 작은 단백질을 검색한 후 \n",
    "5. 이를 분자량으로 큰 순에서 작은 순으로 정렬한 다음, \n",
    "6.  엑셀 파일로 저장하는 스크립트를 작성해 보자. \n"
   ]
  },
  {
   "cell_type": "code",
   "execution_count": null,
   "metadata": {},
   "outputs": [],
   "source": []
  }
 ],
 "metadata": {
  "kernelspec": {
   "display_name": "Python 3",
   "language": "python",
   "name": "python3"
  },
  "language_info": {
   "codemirror_mode": {
    "name": "ipython",
    "version": 3
   },
   "file_extension": ".py",
   "mimetype": "text/x-python",
   "name": "python",
   "nbconvert_exporter": "python",
   "pygments_lexer": "ipython3",
   "version": "3.8.5"
  }
 },
 "nbformat": 4,
 "nbformat_minor": 4
}
